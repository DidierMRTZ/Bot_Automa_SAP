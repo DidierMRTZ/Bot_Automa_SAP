{
 "cells": [
  {
   "cell_type": "code",
   "execution_count": 60,
   "metadata": {},
   "outputs": [],
   "source": [
    "from dash import Dash, dash_table, dcc, html\n",
    "from dash.dependencies import Input, Output\n",
    "import pandas as pd\n",
    "from flask import Flask\n",
    "from Librerias_SAP import SAP_GUI, Funtions\n",
    "import pandas as pd\n",
    "import re\n",
    "from collections import OrderedDict\n",
    "import dash\n",
    "from dash import dash_table as dt\n",
    "from dash import dcc\n",
    "from dash import html\n",
    "from dash.dependencies import Input\n",
    "from dash.dependencies import Output\n",
    "import numpy as np\n",
    "import dash_bootstrap_components as dbc\n",
    "from datetime import datetime, timedelta\n",
    "import plotly.graph_objects as go"
   ]
  },
  {
   "cell_type": "code",
   "execution_count": 61,
   "metadata": {},
   "outputs": [],
   "source": [
    "\"\"\"----------------------------Inciar session----------------------------------------------------\"\"\"\n",
    "# Insert User name and password\n",
    "\n",
    "Keys=pd.read_excel(\"C:\\\\Users\\\\prac.ingindustrial2\\\\OneDrive - Prebel S.A\\\\Escritorio\\\\SAP\\\\Claves\\\\Keys.xlsx\")\n",
    "user=Keys[\"User\"][0]\n",
    "password=Keys[\"Password\"][0]\n",
    "# Initialize session\n",
    "session=SAP_GUI.SessionSAP(user,password)"
   ]
  },
  {
   "cell_type": "code",
   "execution_count": 96,
   "metadata": {},
   "outputs": [],
   "source": [
    "# Disposiciones ZSD110\n",
    "Name_ZSD110_FIRME=\"Pendiente_Firme\"  # Revisar suele no guardar\n",
    "Name_ZSD110_MERCADEO=\"Pendiente_Mercadeo\"  # Revisar suele no guardar\n",
    "Name_ZSD110_TOTAL=\"Pendiente_Total\"  # Revisar suele no guardar\n",
    "\n",
    "\n",
    "default_column_Canal01_Pendientes=['Can.distr.', 'Denomin.', 'Seccion', 'Estado', 'Solic.', 'Nombre',\n",
    "       'Pedido', 'Clase Pedi', 'Creado el', 'Pedido.1', 'Posición', 'Material',\n",
    "       'Vlr.Neto P', 'Moneda', 'Cantidad P', 'Cantidad C', 'UM venta',\n",
    "       'Vlr.Neto C', 'Status Glo', 'Status Tot', 'Status Ent', 'Status Ent.1',\n",
    "       'Status Ent.2']  \n",
    "\n",
    "\n",
    "default_column_Canal01_Entregado=['Can.distr.', 'Denomin.', 'Seccion', 'Estado', 'Solic.', 'Nombre',\n",
    "       'Entrega', 'Posicion E', 'F.Creacion', 'Pedido', 'Clase Pedi',\n",
    "       'F.Creacion.1', 'Pedido.1', 'Posicion P', 'Material', 'Moneda',\n",
    "       'Cantidad E', 'UM venta', 'Valor Neto', 'StTotPick.', 'StatGlWM',\n",
    "       'StTotMovMe', 'Stat.fact.', 'Status PT']\n",
    "\n",
    "\n",
    "default_column_Pedidos=['OrgVt', 'CDis', 'BqEn', 'Solic.', 'PrimFeEntr', 'ÚltEntrega',\n",
    "       'FePrefEnt.', 'ClVt', 'Valor neto', 'Mon.', 'Doc.venta', 'ST',\n",
    "       'Solicitante', 'Nº pedido cliente', 'Descrip.breve', 'Nº de cliente 1',\n",
    "       'Contador de pedidos', 'Dirección', 'Barrio', 'Población', 'Teléfono']\n",
    "\n",
    "\n",
    "Columns_Data_ZSD10_Exito_Cencosub_ZVMI=['Fecha doc.', 'Solicitante', 'Cliente', 'Nº de cliente 1', 'Marca',\n",
    "       'Material', 'Número de material', 'Unidades', 'UM', 'ValorNeto',\n",
    "       'Nº pedido cliente', 'Doc.venta', 'ClVt', 'Solic.', 'OrgVt', 'CDis',\n",
    "       'OfVta', 'GVen', 'Organización de ventas', 'Mon.', 'Jquía.productos',\n",
    "       'Total Pedidos', 'Plataforma', 'Fe.PedCpas', 'Creado por']\n",
    "\n",
    "Columns_Data_ZSD038_Exito_Cencosub_Rechazados=['Doc.comer.', 'Fecha doc.', 'Destinat.', 'Nombre 1', 'Cód.Vend.',\n",
    "       'Nombre vendedor', 'MR', 'Denominación', 'Material', 'Denominación.1',\n",
    "       'Marca', 'Categoría', 'Ctd.confirmada', 'Valor neto', 'Mon.', 'CDis',\n",
    "       'Solic.', 'Nombre']\n",
    "\n",
    "Columns_Data_ZSD10=['Fecha doc.', 'Solicitante', 'Cliente', 'Nº de cliente 1', 'Marca',\n",
    "       'Material', 'Número de material', 'Unidades', 'UM', 'ValorNeto',\n",
    "       'Nº pedido cliente', 'Doc.venta', 'ClVt', 'Solic.', 'OrgVt', 'CDis',\n",
    "       'OfVta', 'GVen', 'Organización de ventas', 'Mon.', 'Jquía.productos',\n",
    "       'Total Pedidos', 'Plataforma', 'Fe.PedCpas', 'Creado por']\n",
    "Column_Data_ZSD76=['Solic.', 'Solicitante', 'Fecha salida mercancía', 'Material',\n",
    "       'Número de material', 'Cantidad entrega', 'UM', 'MARCA', 'CATEGORIA',\n",
    "       'Entrega', 'ClEnt', 'Clase de entrega', 'ClVt',\n",
    "       'Clase de documento de ventas', 'OrgVt', 'CDis', 'Doc.venta',\n",
    "       'Prc.neto', 'Mon.', 'Destinat.', 'Destinatario de mercancías',\n",
    "       'Nº pedido cliente', 'Fecha creación Pedido', 'Cont.']\n",
    "\"\"\"----------------------------------------------LEER ARCHIVOS--------------------------------\"\"\"\n",
    "#Data Pendientes\n",
    "Canal01_Pendiente=pd.read_csv(\"C:\\\\Users\\\\prac.ingindustrial2\\\\OneDrive - Prebel S.A\\\\Escritorio\\\\SAP\\\\Archivos_CSV\\\\Canal01_PEN.txt\",skiprows=1,delimiter=\"\\t\")\n",
    "Canal01_Pendiente=Funtions.Clean_Columns(Canal01_Pendiente)\n",
    "Canal01_Pendiente=Funtions.default_column(default_column_Canal01_Pendientes,Canal01_Pendiente)\n",
    "\n",
    "#Dta Entregados\n",
    "Canal01_Entregado=pd.read_csv(\"C:\\\\Users\\\\prac.ingindustrial2\\\\OneDrive - Prebel S.A\\\\Escritorio\\\\SAP\\\\Archivos_CSV\\\\Canal01_ENT.txt\",skiprows=1,delimiter=\"\\t\")\n",
    "Canal01_Entregado=Funtions.Clean_Columns(Canal01_Entregado)\n",
    "Canal01_Entregado=Funtions.default_column(default_column_Canal01_Entregado,Canal01_Entregado)"
   ]
  },
  {
   "cell_type": "code",
   "execution_count": 4,
   "metadata": {},
   "outputs": [],
   "source": [
    "\"\"\"\"\"-------------------------------------------Limpio los datos-----------------------------------\"\"\"\n",
    "\n",
    "# Esta session combierte los valores monetarios en enteros str a int para posteriores calculos\n",
    "Canal01_Pendiente['Vlr.Neto P'], Canal01_Pendiente['Cantidad P']=Funtions.Clean_Num_List(Canal01_Pendiente['Vlr.Neto C'], Canal01_Pendiente['Cantidad P'])\n",
    "Canal01_Entregado['Valor Neto'], Canal01_Entregado['Cantidad E']=Funtions.Clean_Num_List(Canal01_Entregado['Valor Neto'],Canal01_Entregado['Cantidad E'])\n",
    "\n",
    "# Esta session combierte colunmas de float .0 a enteros int, tambien recibe valores Null\n",
    "Canal01_Pendiente['Pedido.1'],Canal01_Entregado['Pedido.1']=Funtions.Estandarizo_Pedidos(Canal01_Pendiente['Pedido.1'],Canal01_Entregado['Pedido.1'])\n"
   ]
  },
  {
   "attachments": {},
   "cell_type": "markdown",
   "metadata": {},
   "source": [
    "# ¿Preguntar cantidad pendiente P y C significado"
   ]
  },
  {
   "cell_type": "code",
   "execution_count": 9,
   "metadata": {},
   "outputs": [],
   "source": [
    "\"\"\"Seccion para coompletar los valores necesarios para trabajar\"\"\"\n",
    "\n",
    "Agenda=[\"85\",\"20\",\"146\",\"149\",\"50\",\"138\",\"45\"]\n",
    "# En este caso solo aplica para Entrega y pendiente en el cual completa con 00 los pedidos del Exito\n",
    "Canal01_Entregado['Pedido.1']=Funtions.complete_pedidos(Canal01_Entregado['Pedido.1'],Agenda)\n",
    "Canal01_Pendiente['Pedido.1']=Funtions.complete_pedidos(Canal01_Pendiente['Pedido.1'],Agenda)"
   ]
  },
  {
   "cell_type": "code",
   "execution_count": 12,
   "metadata": {},
   "outputs": [
    {
     "name": "stdout",
     "output_type": "stream",
     "text": [
      "146 873\n"
     ]
    }
   ],
   "source": [
    "\"\"\"---------------------------------------Unifico los dataframes de pedido y entregas--------------------------------------------------------------\"\"\"\n",
    "Default_Column_Informe=['Canal','Denomin.','Solic.','Nombre','Pedido','Clase Pedido','Material','Valor Neto','Cantidad']\n",
    "\n",
    "longuitud_Pendiente=len(Canal01_Pendiente)\n",
    "longuitud_Entrega=len(Canal01_Entregado)\n",
    "\n",
    "\n",
    "Canal01_Pendiente[['Can.distr.','Denomin.','Solic.','Nombre','Pedido.1','Clase Pedi','Material','Vlr.Neto P','Cantidad P']]\n",
    "Canal01_Entregado[['Can.distr.', 'Denomin.','Solic.','Nombre','Pedido.1','Clase Pedi','Material','Valor Neto','Cantidad E']]\n",
    "\n",
    "\n",
    "Canal01_Pendiente_Informe=Canal01_Pendiente[['Can.distr.','Denomin.','Solic.','Nombre','Pedido.1','Clase Pedi','Material','Vlr.Neto P','Cantidad P']]\n",
    "Canal01_Entregado_Informe=Canal01_Entregado[['Can.distr.', 'Denomin.','Solic.','Nombre','Pedido.1','Clase Pedi','Material','Valor Neto','Cantidad E']]\n",
    "\n",
    "\n",
    "print(longuitud_Pendiente,longuitud_Entrega)\n",
    "\n",
    "\n",
    "\"\"\"---En esta sección analizar si borro duplicados-----\"\"\"\n",
    "\n",
    "Canal01_Entregado_Pendiente_Informe=pd.concat([Funtions.default_column(Default_Column_Informe,Canal01_Pendiente_Informe),Funtions.default_column(Default_Column_Informe,Canal01_Entregado_Informe)]).reset_index(drop=True).drop_duplicates()"
   ]
  },
  {
   "cell_type": "code",
   "execution_count": 13,
   "metadata": {},
   "outputs": [],
   "source": [
    "\"\"\"\"------------------------------------ Estandarizo datos de columnas del informe de las lineas que deberian ser numericos------------------------------------------------\"\"\"\n",
    "\n",
    "try:\n",
    "    Canal01_Entregado_Pendiente_Informe['Valor Neto'],Canal01_Entregado_Pendiente_Informe['Cantidad']=Funtions.Clean_Num_List(Canal01_Entregado_Pendiente_Informe['Valor Neto'],Canal01_Entregado_Pendiente_Informe['Cantidad'])\n",
    "except:\n",
    "    print(\"intento\")\n",
    "    pass\n"
   ]
  },
  {
   "cell_type": "code",
   "execution_count": 14,
   "metadata": {},
   "outputs": [],
   "source": [
    "\"\"\"------------------------Optener datos de Agenda_Exito y Cencosub------------------\"\"\"\n",
    "#Agenda Exito y Cencosub\n",
    "Agenda_Exito=[\"0085\",\"0020\",\"0146\",\"0149\",\"0050\",\"0138\",\"0045\"]\n",
    "Agenda_Cencosub=[\"93\",\"122\",\"127\",\"95\",\"60\"]\n",
    "\n",
    "\n",
    "\"\"\"-----------------------------Aplico filtro en Agenda exito Entrega----------------------------------\"\"\"\n",
    "Filtro_Agenda_Exito_Entrega_Pendiente=Funtions.Search_Agenda_Exito(Canal01_Entregado_Pendiente_Informe['Pedido'],Agenda_Exito)\n",
    "Filtro_Agenda_Cencosub_Entrega_Pendiente=Funtions.Search_agenda_Cencosub(Canal01_Entregado_Pendiente_Informe[\"Pedido\"],Agenda_Cencosub)\n",
    "Filtro_Sin_Agenda_Cencosub_Entrega_Pendiente=Filtro_Agenda_Exito_Entrega_Pendiente+Filtro_Agenda_Cencosub_Entrega_Pendiente"
   ]
  },
  {
   "cell_type": "code",
   "execution_count": 17,
   "metadata": {},
   "outputs": [],
   "source": [
    "\"\"\"-------------------------------------------------Aplico filtro para el consolidados------------------------------------------------------------\"\"\"\n",
    "\n",
    "\n",
    "\"\"\"------------------------------Canal 01 Entrega con agenda Exito-----------------------\"\"\"\n",
    "#Agenda Exito\n",
    "Filtro_Canal01_Entregado_Pendiente_Exito=(Canal01_Entregado_Pendiente_Informe['Pedido'].isin(Filtro_Agenda_Exito_Entrega_Pendiente))   #Excluyo con ~\n",
    "Canal01_Entregado_Pendiente_Agenda_Exito=Canal01_Entregado_Pendiente_Informe.loc[Filtro_Canal01_Entregado_Pendiente_Exito].reset_index(drop=True)\n",
    "Canal01_Entregado_Pendiente_Sin_Agenda_Exito=Canal01_Entregado_Pendiente_Informe.loc[~Filtro_Canal01_Entregado_Pendiente_Exito].reset_index(drop=True)\n",
    "\n",
    "#Agenda Censosud\n",
    "\"\"\"------------------------------Canal 01 Entrega con agenda Cencosub-----------------------\"\"\"\n",
    "Filtro_Canal01_Entregado_Pendiente_Cencosub=(Canal01_Entregado_Pendiente_Informe['Pedido'].isin(Filtro_Agenda_Cencosub_Entrega_Pendiente))   #Excluyo con ~\n",
    "Canal01_Entregado_Pendiente_Agenda_Cencosub=Canal01_Entregado_Pendiente_Informe.loc[Filtro_Canal01_Entregado_Pendiente_Cencosub].reset_index(drop=True)\n",
    "Canal01_Entregado_Pendiente_Sin_Agenda_Cencosub=Canal01_Entregado_Pendiente_Informe.loc[~Filtro_Canal01_Entregado_Pendiente_Cencosub].reset_index(drop=True)\n"
   ]
  },
  {
   "cell_type": "code",
   "execution_count": 19,
   "metadata": {},
   "outputs": [],
   "source": [
    "\"\"\"------------------------------Canal 01 Entrega con y sin agenda Exito y Cencosub-----------------------\"\"\"\n",
    "Filtro_Canal01_Entregado_Pendiente_Sin_Exito_Cencosub=(Canal01_Entregado_Pendiente_Informe['Pedido'].isin(Filtro_Sin_Agenda_Cencosub_Entrega_Pendiente)) \n",
    "Canal01_Entregado_Pendiente_Sin_Agenda_Exito_Cencosub=Canal01_Entregado_Pendiente_Informe.loc[~Filtro_Canal01_Entregado_Pendiente_Sin_Exito_Cencosub].reset_index(drop=True)"
   ]
  },
  {
   "cell_type": "code",
   "execution_count": 20,
   "metadata": {},
   "outputs": [],
   "source": [
    "\n",
    "\"\"\"----------------------------------------------Creao tabla dinamica general--------------------------------------------------------------------------------\"\"\"\n",
    "Tabla_dinamica_Canal01_Entregado_Pendiente_Informe=Canal01_Entregado_Pendiente_Informe.pivot_table(index=['Pedido','Clase Pedido'],aggfunc={'Material':'count','Cantidad':sum,'Valor Neto':sum}).reset_index()"
   ]
  },
  {
   "cell_type": "code",
   "execution_count": 21,
   "metadata": {},
   "outputs": [],
   "source": [
    "# Tabla dinácamica Exito\n",
    "Table_dinamica_Exito_entrega_pendiente=Tabla_dinamica_Canal01_Entregado_Pendiente_Informe[Tabla_dinamica_Canal01_Entregado_Pendiente_Informe['Pedido'].isin(Filtro_Agenda_Exito_Entrega_Pendiente)]\n",
    "# Tabla dinácamica Exito Cencosud\n",
    "Table_dinamica_Cencosub_entrega_pendiente=Tabla_dinamica_Canal01_Entregado_Pendiente_Informe[Tabla_dinamica_Canal01_Entregado_Pendiente_Informe['Pedido'].isin(Filtro_Agenda_Cencosub_Entrega_Pendiente)]\n",
    "# Tabla dinácamica sin agenda Exito y Cencosud\n",
    "Table_dinamica_Sin_Exito_Cencosub_entrega_pendiente=Tabla_dinamica_Canal01_Entregado_Pendiente_Informe[~Tabla_dinamica_Canal01_Entregado_Pendiente_Informe['Pedido'].isin(Filtro_Sin_Agenda_Cencosub_Entrega_Pendiente)]\n"
   ]
  },
  {
   "attachments": {},
   "cell_type": "markdown",
   "metadata": {},
   "source": [
    "# Preguntar con los valores Null"
   ]
  },
  {
   "cell_type": "code",
   "execution_count": 24,
   "metadata": {},
   "outputs": [],
   "source": [
    "pedidos_Exito_Cencosub=pd.concat([Table_dinamica_Exito_entrega_pendiente['Pedido'],Table_dinamica_Cencosub_entrega_pendiente['Pedido']])\n",
    "\n",
    "#Busco en la tansaccion ZSD037 los pedidos de las tablas dinamicas tanto de Exito y Cencosub\n",
    "\n",
    "Transsaccion_ZSD037=\"zsd037\"\n",
    "SAP_GUI.Search_Pedidos_ZSD037(Transsaccion_ZSD037,pedidos_Exito_Cencosub,session)"
   ]
  },
  {
   "cell_type": "code",
   "execution_count": 25,
   "metadata": {},
   "outputs": [],
   "source": [
    "Name_ZSD037=\"Pedidos pendientes Exito y Cencosub\"\n",
    "Ruta_ZSD037_Exito_Cencosub=\"C:\\\\Users\\\\prac.ingindustrial2\\\\OneDrive - Prebel S.A\\\\Escritorio\\\\SAP\\\\Archivos_CSV\\\\\"\n",
    "SAP_GUI.Export_TXT2(Name_ZSD037,session,Ruta_ZSD037_Exito_Cencosub)"
   ]
  },
  {
   "cell_type": "code",
   "execution_count": 26,
   "metadata": {},
   "outputs": [],
   "source": [
    "# Utilizo la transaccion para buscar ZSD037 en entrega para las fechas\n",
    "url_ZSD037_Pedidos_Exito_Cencosub=\"C:\\\\Users\\\\prac.ingindustrial2\\\\OneDrive - Prebel S.A\\\\Escritorio\\\\SAP\\\\Archivos_CSV\\\\\"+str(Name_ZSD037)+\".txt\"\n",
    "\n",
    "Data_ZSD037_Pedidos_Exito_Cencosub=pd.read_csv(url_ZSD037_Pedidos_Exito_Cencosub,skiprows=5,delimiter=\"\\t\")\n",
    "Data_ZSD037_Pedidos_Exito_Cencosub=Funtions.Clean_Columns(Data_ZSD037_Pedidos_Exito_Cencosub)\n",
    "Data_ZSD037_Pedidos_Exito_Cencosub=Funtions.default_column(default_column_Pedidos,Data_ZSD037_Pedidos_Exito_Cencosub)\n",
    "Data_ZSD037_Pedidos_Exito_Cencosub=Data_ZSD037_Pedidos_Exito_Cencosub[Data_ZSD037_Pedidos_Exito_Cencosub['Nº pedido cliente'].notnull()]\n"
   ]
  },
  {
   "attachments": {},
   "cell_type": "markdown",
   "metadata": {},
   "source": [
    "# Ver metodo estandarizar pedidos y ver las fechas de los que no pertenecen a la agendas Exito y Cencosub"
   ]
  },
  {
   "cell_type": "code",
   "execution_count": 27,
   "metadata": {},
   "outputs": [],
   "source": [
    "# Puede que se represente inconsistencia entre str y int\n",
    "try:\n",
    "    Data_ZSD037_Pedidos_Exito_Cencosub['Nº pedido cliente']=Funtions.Estandarizo_Pedidos(Data_ZSD037_Pedidos_Exito_Cencosub['Nº pedido cliente'])\n",
    "except:\n",
    "    pass"
   ]
  },
  {
   "cell_type": "code",
   "execution_count": 28,
   "metadata": {},
   "outputs": [],
   "source": [
    "#Dataframe de interes\n",
    "Data_ZSD037_Pedidos_Pendientes_Fecha=Data_ZSD037_Pedidos_Exito_Cencosub[['Nº pedido cliente','PrimFeEntr','ÚltEntrega']].drop_duplicates()"
   ]
  },
  {
   "cell_type": "code",
   "execution_count": 29,
   "metadata": {},
   "outputs": [
    {
     "data": {
      "text/html": [
       "<div>\n",
       "<style scoped>\n",
       "    .dataframe tbody tr th:only-of-type {\n",
       "        vertical-align: middle;\n",
       "    }\n",
       "\n",
       "    .dataframe tbody tr th {\n",
       "        vertical-align: top;\n",
       "    }\n",
       "\n",
       "    .dataframe thead th {\n",
       "        text-align: right;\n",
       "    }\n",
       "</style>\n",
       "<table border=\"1\" class=\"dataframe\">\n",
       "  <thead>\n",
       "    <tr style=\"text-align: right;\">\n",
       "      <th></th>\n",
       "      <th>Nº pedido cliente</th>\n",
       "      <th>PrimFeEntr</th>\n",
       "      <th>ÚltEntrega</th>\n",
       "    </tr>\n",
       "  </thead>\n",
       "  <tbody>\n",
       "    <tr>\n",
       "      <th>0</th>\n",
       "      <td>0020660875</td>\n",
       "      <td>01.07.2023</td>\n",
       "      <td>07.07.2023</td>\n",
       "    </tr>\n",
       "    <tr>\n",
       "      <th>9</th>\n",
       "      <td>60-1165110</td>\n",
       "      <td>05.07.2023</td>\n",
       "      <td>05.07.2023</td>\n",
       "    </tr>\n",
       "    <tr>\n",
       "      <th>283</th>\n",
       "      <td>60-1165133</td>\n",
       "      <td>05.07.2023</td>\n",
       "      <td>05.07.2023</td>\n",
       "    </tr>\n",
       "    <tr>\n",
       "      <th>319</th>\n",
       "      <td>60-1165136</td>\n",
       "      <td>05.07.2023</td>\n",
       "      <td>05.07.2023</td>\n",
       "    </tr>\n",
       "    <tr>\n",
       "      <th>409</th>\n",
       "      <td>60-1165147</td>\n",
       "      <td>05.07.2023</td>\n",
       "      <td>07.07.2023</td>\n",
       "    </tr>\n",
       "    <tr>\n",
       "      <th>427</th>\n",
       "      <td>93-488879</td>\n",
       "      <td>06.07.2023</td>\n",
       "      <td>06.07.2023</td>\n",
       "    </tr>\n",
       "    <tr>\n",
       "      <th>499</th>\n",
       "      <td>95-497094</td>\n",
       "      <td>06.07.2023</td>\n",
       "      <td>06.07.2023</td>\n",
       "    </tr>\n",
       "  </tbody>\n",
       "</table>\n",
       "</div>"
      ],
      "text/plain": [
       "    Nº pedido cliente  PrimFeEntr  ÚltEntrega\n",
       "0          0020660875  01.07.2023  07.07.2023\n",
       "9          60-1165110  05.07.2023  05.07.2023\n",
       "283        60-1165133  05.07.2023  05.07.2023\n",
       "319        60-1165136  05.07.2023  05.07.2023\n",
       "409        60-1165147  05.07.2023  07.07.2023\n",
       "427         93-488879  06.07.2023  06.07.2023\n",
       "499         95-497094  06.07.2023  06.07.2023"
      ]
     },
     "execution_count": 29,
     "metadata": {},
     "output_type": "execute_result"
    }
   ],
   "source": [
    "Data_ZSD037_Pedidos_Pendientes_Fecha"
   ]
  },
  {
   "cell_type": "code",
   "execution_count": 33,
   "metadata": {},
   "outputs": [
    {
     "data": {
      "text/html": [
       "<div>\n",
       "<style scoped>\n",
       "    .dataframe tbody tr th:only-of-type {\n",
       "        vertical-align: middle;\n",
       "    }\n",
       "\n",
       "    .dataframe tbody tr th {\n",
       "        vertical-align: top;\n",
       "    }\n",
       "\n",
       "    .dataframe thead th {\n",
       "        text-align: right;\n",
       "    }\n",
       "</style>\n",
       "<table border=\"1\" class=\"dataframe\">\n",
       "  <thead>\n",
       "    <tr style=\"text-align: right;\">\n",
       "      <th></th>\n",
       "      <th>Pedido</th>\n",
       "      <th>Clase Pedido</th>\n",
       "      <th>Cantidad</th>\n",
       "      <th>Material</th>\n",
       "      <th>Valor Neto</th>\n",
       "    </tr>\n",
       "  </thead>\n",
       "  <tbody>\n",
       "    <tr>\n",
       "      <th>0</th>\n",
       "      <td>0020660875</td>\n",
       "      <td>ZEDI</td>\n",
       "      <td>24.0</td>\n",
       "      <td>3</td>\n",
       "      <td>453972.0</td>\n",
       "    </tr>\n",
       "  </tbody>\n",
       "</table>\n",
       "</div>"
      ],
      "text/plain": [
       "       Pedido Clase Pedido  Cantidad  Material  Valor Neto\n",
       "0  0020660875         ZEDI      24.0         3    453972.0"
      ]
     },
     "execution_count": 33,
     "metadata": {},
     "output_type": "execute_result"
    }
   ],
   "source": [
    "Table_dinamica_Exito_entrega_pendiente"
   ]
  },
  {
   "cell_type": "code",
   "execution_count": 36,
   "metadata": {},
   "outputs": [],
   "source": [
    "#---------------------------------Tabla dinamica Exito---------------------------------------------\n",
    "Tabla_Agenda_Exito=pd.merge(Data_ZSD037_Pedidos_Pendientes_Fecha,Table_dinamica_Exito_entrega_pendiente,how=\"right\",left_on=\"Nº pedido cliente\",right_on=\"Pedido\")[['Nº pedido cliente', 'PrimFeEntr', 'ÚltEntrega',\n",
    "       'Clase Pedido', 'Cantidad', 'Material', 'Valor Neto']]\n",
    "\n",
    "Agenda_name_Exito={\"0085\":\"FUNZA\",\"0020\":\"VEGAS\",\"0146\":\"BARRANQUILLA\",\"0149\":\"BUCARAMANGA\",\"0050\":\"CALI\",\"0138\":\"PEREIRA\",\"0045\":\"SURTIMAYORISTAS\"}\n",
    "\n",
    "Tabla_Agenda_Exito[\"Plataforma\"]=Tabla_Agenda_Exito[\"Nº pedido cliente\"].apply(lambda x: Agenda_name_Exito[re.findall(\"(\"+\"|\".join(list(Agenda_name_Exito.keys()))+\")\",x)[0]] if re.findall(\"(\"+\"|\".join(list(Agenda_name_Exito.keys()))+\")\",x)!=[] else x)\n"
   ]
  },
  {
   "cell_type": "code",
   "execution_count": 38,
   "metadata": {},
   "outputs": [],
   "source": [
    "#Dataframe de interes\n",
    "\n",
    "Tabla_Agenda_Cencusub=pd.merge(Data_ZSD037_Pedidos_Pendientes_Fecha,Table_dinamica_Cencosub_entrega_pendiente,how=\"right\",left_on=\"Nº pedido cliente\",right_on=\"Pedido\")[['Nº pedido cliente', 'PrimFeEntr', 'ÚltEntrega',\n",
    "       'Clase Pedido', 'Cantidad', 'Material', 'Valor Neto']]\n",
    "\n",
    "Agenda_name_Cencosub={\"93-\":\"MEDELLIN\",\"122-\":\"BARRANQUILLA\",\"127-\":\"BUCARAMANGA\",\"95-\":\"CALI\",\"60-\":\"BOGOTA\"}\n",
    "\n",
    "Tabla_Agenda_Cencusub[\"Plataforma\"]=Tabla_Agenda_Cencusub[\"Nº pedido cliente\"].apply(lambda x: Agenda_name_Cencosub[re.findall(\"\\d*-\",x)[0]] if re.findall(\"\\d*-\",x)[0] in list(Agenda_name_Cencosub.keys()) else None)"
   ]
  },
  {
   "attachments": {},
   "cell_type": "markdown",
   "metadata": {},
   "source": [
    "# Pedido Firme Mercadeo Total"
   ]
  },
  {
   "cell_type": "code",
   "execution_count": 67,
   "metadata": {},
   "outputs": [],
   "source": [
    "# ZSD110 FIRME\n",
    "url_ZSD110_FIRME=\"C:\\\\Users\\\\prac.ingindustrial2\\\\OneDrive - Prebel S.A\\\\Escritorio\\\\SAP\\\\Archivos_CSV\\\\\"+str(Name_ZSD110_FIRME)+\".txt\"\n",
    "Data_ZSD110_FIRME=pd.read_csv(url_ZSD110_FIRME,skiprows=1,delimiter=\"\\t\")\n",
    "Data_ZSD110_FIRME=Funtions.Clean_Columns(Data_ZSD110_FIRME)\n",
    "Data_ZSD110_FIRME[\"Lineas\"]=Funtions.Clean_Num_List(Data_ZSD110_FIRME[\"Lineas\"])\n",
    "\n",
    "\n",
    "# ZSD110 MERCADE0\n",
    "url_ZSD110_MERCADEO=\"C:\\\\Users\\\\prac.ingindustrial2\\\\OneDrive - Prebel S.A\\\\Escritorio\\\\SAP\\\\Archivos_CSV\\\\\"+str(Name_ZSD110_MERCADEO)+\".txt\"\n",
    "Data_ZSD110_MERCADEO=pd.read_csv(url_ZSD110_MERCADEO,skiprows=1,delimiter=\"\\t\")\n",
    "Data_ZSD110_MERCADEO=Funtions.Clean_Columns(Data_ZSD110_MERCADEO)\n",
    "Data_ZSD110_MERCADEO[\"Lineas\"]=Funtions.Clean_Num_List(Data_ZSD110_MERCADEO[\"Lineas\"])\n",
    "\n",
    "\n",
    "# ZSD110 Pendiente Total\n",
    "url_ZSD110_PENDIENTES=\"C:\\\\Users\\\\prac.ingindustrial2\\\\OneDrive - Prebel S.A\\\\Escritorio\\\\SAP\\\\Archivos_CSV\\\\\"+str(Name_ZSD110_TOTAL)+\".txt\"\n",
    "Data_ZSD110_PENDIENTES=pd.read_csv(url_ZSD110_PENDIENTES,skiprows=1,delimiter=\"\\t\")\n",
    "Data_ZSD110_PENDIENTES=Funtions.Clean_Columns(Data_ZSD110_PENDIENTES)\n",
    "Data_ZSD110_PENDIENTES[\"Lineas\"]=Funtions.Clean_Num_List(Data_ZSD110_PENDIENTES[\"Lineas\"])\n",
    "\n",
    "\"\"\"---------------------CAMBIAR INDICES------------------------------------------\"\"\"\n",
    "Channels_Name={1:\"MODERNO\",2:\"TRADICIONAL\",7:\"TIENDAS DE BELLEZA\",8:\"PROFESIONAL\",12:\"INSTITUCIONAL\",14:\"HARD DISCOUNTERS\",15:\"ECOMMERCE\",19:\"ALTERNATIVO\",50:\"ALMACENES INTERNOS\"}\n",
    "\n",
    "#Aplicar transformacion\n",
    "Data_ZSD110_MERCADEO[\"Can.distr.\"]=Data_ZSD110_MERCADEO[\"Can.distr.\"].replace(Channels_Name)\n",
    "Data_ZSD110_FIRME[\"Can.distr.\"]=Data_ZSD110_FIRME[\"Can.distr.\"].replace(Channels_Name)\n",
    "Data_ZSD110_PENDIENTES[\"Can.distr.\"]=Data_ZSD110_PENDIENTES[\"Can.distr.\"].replace(Channels_Name)"
   ]
  },
  {
   "cell_type": "code",
   "execution_count": 68,
   "metadata": {},
   "outputs": [],
   "source": [
    "#Estandarizo Datos\n",
    "# Cambio a valores Numericos Mercadeo\n",
    "Data_ZSD110_MERCADEO['Pedidos'],Data_ZSD110_MERCADEO['Unidades'],Data_ZSD110_MERCADEO['Valor Neto']=Funtions.Clean_Num_List(Data_ZSD110_MERCADEO['Pedidos'],Data_ZSD110_MERCADEO['Unidades'],Data_ZSD110_MERCADEO['Valor Neto'])\n",
    "# Cambio a valores Numericos Firme\n",
    "Data_ZSD110_FIRME['Pedidos'],Data_ZSD110_FIRME['Unidades'],Data_ZSD110_FIRME['Valor Neto']=Funtions.Clean_Num_List(Data_ZSD110_FIRME['Pedidos'],Data_ZSD110_FIRME['Unidades'],Data_ZSD110_FIRME['Valor Neto'])\n",
    "# Cambio a valores Numericos Pendiente Total\n",
    "Data_ZSD110_PENDIENTES['Pedidos'],Data_ZSD110_PENDIENTES['Unidades'],Data_ZSD110_PENDIENTES['Valor Neto']=Funtions.Clean_Num_List(Data_ZSD110_PENDIENTES['Pedidos'],Data_ZSD110_PENDIENTES['Unidades'],Data_ZSD110_PENDIENTES['Valor Neto'])"
   ]
  },
  {
   "cell_type": "code",
   "execution_count": 69,
   "metadata": {},
   "outputs": [],
   "source": [
    "#Aplicar consolidado de todas las tablas Mercadeo Firme Total\n",
    "Consolidado_Mercadeo_Firme_Total=pd.merge(pd.merge(Data_ZSD110_MERCADEO,Data_ZSD110_FIRME,how=\"right\",on=\"Can.distr.\"),Data_ZSD110_PENDIENTES,how=\"right\",on=\"Can.distr.\")\n",
    "Consolidado_Mercadeo_Firme_Total=Consolidado_Mercadeo_Firme_Total.fillna(0)\n",
    "Consolidado_Mercadeo_Firme_Total['Can.distr.']=Consolidado_Mercadeo_Firme_Total['Can.distr.'].replace({0:\"TOTAL\"})"
   ]
  },
  {
   "cell_type": "code",
   "execution_count": 70,
   "metadata": {},
   "outputs": [],
   "source": [
    "Consolidado_Mercadeo_Firme_Total\n",
    "Column_Consolidado_Mercadeo_Firme_Total=['Can.distr.', 'Pedidos M', 'Lineas M', 'Unidades M', 'Valor Neto M',\n",
    "       'Pedidos F', 'Lineas F', 'Unidades F', 'Valor Neto F', 'Pedidos T',\n",
    "       'Lineas T', 'Unidades T', 'Valor Neto T']\n",
    "\n",
    "Consolidado_Clientes=Funtions.default_column(Column_Consolidado_Mercadeo_Firme_Total,Consolidado_Mercadeo_Firme_Total)"
   ]
  },
  {
   "cell_type": "code",
   "execution_count": 71,
   "metadata": {},
   "outputs": [],
   "source": [
    "#Creo tabla total de la linea de clientes\n",
    "\n",
    "Datos_lineas_clientes=pd.DataFrame([[1,\"ECOMMERCE\",0],[2,\"Cencosud\",0],[3,\"Éxito Agenda\",0],\n",
    "              [4,\"Canal 1\",0],[5,\"Canales 2,7,8\",0],[6,\"BAZAR\",0],[7,\"Mercadeo\",0],\n",
    "              [8,\"Canales 14, 19 Citas\",0],[9,\"Extra agenda\",0]],columns=[\"Prioridad\",\"Clientes\",\"Cantidad\"])"
   ]
  },
  {
   "cell_type": "code",
   "execution_count": 63,
   "metadata": {},
   "outputs": [
    {
     "data": {
      "text/plain": [
       "'ECOMMERCE'"
      ]
     },
     "execution_count": 63,
     "metadata": {},
     "output_type": "execute_result"
    }
   ],
   "source": [
    "#Linea Ecommerce\n",
    "Datos_lineas_clientes['Clientes'][0]"
   ]
  },
  {
   "cell_type": "code",
   "execution_count": 104,
   "metadata": {},
   "outputs": [],
   "source": [
    "valor_ecommerce =Consolidado_Clientes[Consolidado_Clientes[\"Can.distr.\"]=='ECOMMERCE']['Lineas F'].values[0] if 'ECOMMERCE' in Consolidado_Clientes[\"Can.distr.\"].to_list() else 0\n",
    "valor_canal_2_7_8=Consolidado_Clientes.loc[1][6]+Consolidado_Clientes.loc[2][6]+Consolidado_Clientes.loc[3][6]   #Tradiconal suma(1,2,3)\n",
    "valor_Bazar=Consolidado_Clientes.loc[4][6]   \n",
    "valor_Mercadeo=sum([Consolidado_Clientes.loc[i][2] for i in range(0,len(Consolidado_Clientes)-1)])\n",
    "valor_canal_14_19=Consolidado_Clientes.loc[5][6]+Consolidado_Clientes.loc[7][6]"
   ]
  },
  {
   "cell_type": "code",
   "execution_count": 103,
   "metadata": {},
   "outputs": [
    {
     "data": {
      "text/plain": [
       "1480.0"
      ]
     },
     "execution_count": 103,
     "metadata": {},
     "output_type": "execute_result"
    }
   ],
   "source": [
    "Consolidado_Clientes[Consolidado_Clientes[\"Can.distr.\"]=='ECOMMERCE']['Lineas F'].values[0] if 'ECOMMERCE' in Consolidado_Clientes[\"Can.distr.\"].to_list() else 0"
   ]
  },
  {
   "cell_type": "code",
   "execution_count": 101,
   "metadata": {},
   "outputs": [
    {
     "data": {
      "text/plain": [
       "1480.0"
      ]
     },
     "execution_count": 101,
     "metadata": {},
     "output_type": "execute_result"
    }
   ],
   "source": [
    "Consolidado_Clientes[Consolidado_Clientes[\"Can.distr.\"]=='ECOMMERCE']['Lineas F']"
   ]
  },
  {
   "attachments": {},
   "cell_type": "markdown",
   "metadata": {},
   "source": [
    "# Dash board"
   ]
  },
  {
   "cell_type": "code",
   "execution_count": 49,
   "metadata": {},
   "outputs": [],
   "source": [
    "def Create_Table(Table,Name_id,fontSize='11px'):\n",
    "    \"\"\"\n",
    "    - Table: Dataframe referencia a tabla\n",
    "    - Name_id: Id de la tabla\n",
    "    - Alias_libreria: Libreria Dash dash_table as dt\n",
    "    \"\"\" \n",
    "    Tabla=dt.DataTable(\n",
    "            id=Name_id,\n",
    "            columns=[{\"name\": i, \"id\": i} for i in Table.columns],\n",
    "            data=Table.to_dict(\"records\"),\n",
    "            style_data={\n",
    "            'fontSize':fontSize\n",
    "            },\n",
    "            style_table={\n",
    "                'margin': '0 auto',\n",
    "                'border': '1px solid black',\n",
    "                'borderCollapse': 'collapse'\n",
    "            },\n",
    "            style_header={\n",
    "                'fontSize':fontSize,\n",
    "                'backgroundColor': '#4074D5',\n",
    "                'fontWeight': 'bold',\n",
    "                'border': '1px solid black'\n",
    "            },\n",
    "            style_cell={\n",
    "                'textAlign': 'center',\n",
    "                'border': '1px solid black',\n",
    "                'padding': '2px',\n",
    "                'width': '15px'\n",
    "            },\n",
    "            )\n",
    "    return(Tabla)\n",
    "\n",
    "def Create_Dropdown(Column_Table,Estados,Name_id):\n",
    "        Dropdown=dcc.Dropdown(\n",
    "                        id=Name_id,\n",
    "                        options=[{\"label\": st, \"value\": st} for st in Estados],\n",
    "                        placeholder=\"-Select a State-\",\n",
    "                        multi=True,\n",
    "                        value=Column_Table.unique())\n",
    "        return(Dropdown)\n",
    "\n",
    "\n",
    "def data_bars(df, column):\n",
    "    n_bins = 100\n",
    "    bounds = [i * (1.0 / n_bins) for i in range(n_bins + 1)]\n",
    "    ranges = [\n",
    "        ((df[column].sum() - df[column].min()) * i)\n",
    "        for i in bounds\n",
    "    ]\n",
    "    styles = []\n",
    "    \n",
    "    for i in range(1, len(bounds)):\n",
    "        min_bound = ranges[i - 1]\n",
    "        max_bound = ranges[i]\n",
    "        max_bound_percentage = bounds[i] * 100\n",
    "        styles.append({\n",
    "            'if': {\n",
    "                'filter_query': (\n",
    "                    '{{{column}}} >= {min_bound}' +\n",
    "                    (' && {{{column}}} < {max_bound}' if (i < len(bounds) - 1) else '')\n",
    "                ).format(column=column, min_bound=min_bound, max_bound=max_bound),\n",
    "                'column_id': column\n",
    "            },\n",
    "            'background': (\n",
    "                \"\"\"\n",
    "                    linear-gradient(90deg,\n",
    "                    #2FCF7F 0%,\n",
    "                    #2FCF7F {max_bound_percentage}%,\n",
    "                    white {max_bound_percentage}%,\n",
    "                    white 100%)\n",
    "                \"\"\".format(max_bound_percentage=max_bound_percentage)\n",
    "            ),\n",
    "            'paddingBottom': 2,\n",
    "            'paddingTop': 2\n",
    "        })\n",
    "\n",
    "    return styles\n",
    "\n",
    "def Create_Table_Condition(df,Name_id,columns,fontSize='11px'):\n",
    "    table=  dt.DataTable(id=Name_id,\n",
    "            data=df.to_dict('records'),\n",
    "            sort_action='native',\n",
    "            columns=[{'name': i, 'id': i} for i in df.columns],\n",
    "            style_data_conditional=(\n",
    "                data_bars(df,columns)\n",
    "            ),\n",
    "            style_data={\n",
    "                'fontSize':fontSize\n",
    "            },\n",
    "            style_table={\n",
    "                'margin': '0 auto',\n",
    "                'border': '1px solid black',\n",
    "                'borderCollapse': 'collapse'\n",
    "            },\n",
    "            style_header={\n",
    "                'fontSize':fontSize,\n",
    "                'backgroundColor': '#4074D5',\n",
    "                'fontWeight': 'bold',\n",
    "                'border': '1px solid black'\n",
    "            },\n",
    "            style_cell={\n",
    "                'textAlign': 'center',\n",
    "                'border': '1px solid black',\n",
    "                'padding': '5px',\n",
    "                'width': '20px'\n",
    "            },\n",
    "            page_size=20\n",
    "        )\n",
    "    return(table)"
   ]
  },
  {
   "cell_type": "code",
   "execution_count": 50,
   "metadata": {},
   "outputs": [],
   "source": [
    "Columns_Consolidado_Clientes=['Pedidos M', 'Lineas M', 'Unidades M', 'Valor Neto M',\n",
    "       'Pedidos F', 'Lineas F', 'Unidades F', 'Valor Neto F', 'Pedidos T',\n",
    "       'Lineas T', 'Unidades T', 'Valor Neto T']\n",
    "Total_Consolidado_Clientes=Consolidado_Clientes[Consolidado_Clientes['Can.distr.']=='TOTAL']\n",
    "Consolidado_Clientes=Consolidado_Clientes[Consolidado_Clientes['Can.distr.']!='TOTAL']"
   ]
  },
  {
   "cell_type": "code",
   "execution_count": 52,
   "metadata": {},
   "outputs": [],
   "source": [
    "def Total_Consolidado(Consolidado_Clientes,Columns_Consolidado_Clientes,Total_Consolidado_Clientes):\n",
    "    Diccionario_Total_Consolidado_Clientes=Total_Consolidado_Clientes.to_dict('records')[0]\n",
    "    for i in Columns_Consolidado_Clientes:\n",
    "        Diccionario_Total_Consolidado_Clientes[i]=Consolidado_Clientes[i].sum()\n",
    "    Consolidado_Clientes=Consolidado_Clientes.to_dict(\"records\")\n",
    "    Consolidado_Clientes.append(Diccionario_Total_Consolidado_Clientes)\n",
    "    return(Consolidado_Clientes)\n"
   ]
  },
  {
   "cell_type": "code",
   "execution_count": 53,
   "metadata": {},
   "outputs": [],
   "source": [
    "def Create_figure(Dataframe,Column_X,list_column_y):\n",
    "    Channels = Dataframe[Column_X].unique().tolist()\n",
    "\n",
    "    fig = go.Figure()\n",
    "    fig.add_trace(go.Bar(\n",
    "        x=Channels,\n",
    "        y=Dataframe[list_column_y[0]].tolist(),\n",
    "        name='Pedidos',\n",
    "        marker_color='indianred'\n",
    "    ))\n",
    "        # Establecer el diseño del gráfico\n",
    "    fig.add_trace(go.Bar(\n",
    "        x=Channels,\n",
    "        y=Dataframe[list_column_y[1]].tolist(),\n",
    "        name='Lineas',\n",
    "        marker_color='lightsalmon'\n",
    "    ))\n",
    "    fig.add_trace(go.Bar(\n",
    "        x=Channels,\n",
    "        y=Dataframe[list_column_y[2]].tolist(),\n",
    "        name='Unidades',\n",
    "        marker_color='blue'\n",
    "    ))\n",
    "    # Here we modify the tickangle of the xaxis, resulting in rotated labels.\n",
    "    fig.update_layout(barmode='group', xaxis_tickangle=-45,margin=dict(l=0, r=0, t=30, b=0))\n",
    "    return(fig)"
   ]
  },
  {
   "cell_type": "code",
   "execution_count": 110,
   "metadata": {},
   "outputs": [
    {
     "name": "stdout",
     "output_type": "stream",
     "text": [
      "Dash is running on http://0.0.0.0:8000/\n",
      "\n",
      "Dash is running on http://0.0.0.0:8000/\n",
      "\n",
      "Dash is running on http://0.0.0.0:8000/\n",
      "\n",
      "Dash is running on http://0.0.0.0:8000/\n",
      "\n",
      "Dash is running on http://0.0.0.0:8000/\n",
      "\n",
      "Dash is running on http://0.0.0.0:8000/\n",
      "\n",
      "Dash is running on http://0.0.0.0:8000/\n",
      "\n",
      " * Serving Flask app '__main__'\n",
      " * Debug mode: off\n"
     ]
    },
    {
     "name": "stderr",
     "output_type": "stream",
     "text": [
      "WARNING: This is a development server. Do not use it in a production deployment. Use a production WSGI server instead.\n",
      " * Running on all addresses (0.0.0.0)\n",
      " * Running on http://127.0.0.1:8000\n",
      " * Running on http://172.15.1.68:8000\n",
      "Press CTRL+C to quit\n",
      "127.0.0.1 - - [04/Jul/2023 16:26:06] \"GET / HTTP/1.1\" 200 -\n",
      "127.0.0.1 - - [04/Jul/2023 16:26:06] \"GET /_dash-dependencies HTTP/1.1\" 200 -\n",
      "127.0.0.1 - - [04/Jul/2023 16:26:06] \"GET /_dash-layout HTTP/1.1\" 200 -\n",
      "127.0.0.1 - - [04/Jul/2023 16:26:06] \"GET /_dash-component-suites/dash/dash_table/async-highlight.js HTTP/1.1C:\\Users\\prac.ingindustrial2\\AppData\\Local\\Temp\\ipykernel_2396\\414661414.py:131: SettingWithCopyWarning:\n",
      "\n",
      "\n",
      "A value is trying to be set on a copy of a slice from a DataFrame\n",
      "\n",
      "See the caveats in the documentation: https://pandas.pydata.org/pandas-docs/stable/user_guide/indexing.html#returning-a-view-versus-a-copy\n",
      "\n",
      "C:\\Users\\prac.ingindustrial2\\AppData\\Local\\Temp\\ipykernel_2396\\414661414.py:132: SettingWithCopyWarning:\n",
      "\n",
      "\n",
      "A value is trying to be set on a copy of a slice from a DataFrame\n",
      "\n",
      "See the caveats in the documentation: https://pandas.pydata.org/pandas-docs/stable/user_guide/indexing.html#returning-a-view-versus-a-copy\n",
      "\n",
      "C:\\Users\\prac.ingindustrial2\\AppData\\Local\\Temp\\ipykernel_2396\\414661414.py:133: SettingWithCopyWarning:\n",
      "\n",
      "\n",
      "A value is trying to be set on a copy of a slice from a DataFrame\n",
      "\n",
      "See the caveats in the documentation: https://pandas.pydata.org/pandas-docs/stable/user_guide/indexing.html#returning-a-view-versus-a-copy\n",
      "\n",
      "C:\\Users\\prac.ingindustrial2\\AppData\\Local\\Temp\\ipykernel_2396\\414661414.py:134: SettingWithCopyWarning:\n",
      "\n",
      "\n",
      "A value is trying to be set on a copy of a slice from a DataFrame\n",
      "\n",
      "See the caveats in the documentation: https://pandas.pydata.org/pandas-docs/stable/user_guide/indexing.html#returning-a-view-versus-a-copy\n",
      "\n",
      "\" 304 -\n",
      "127.0.0.1 - - [04/Jul/2023 16:26:06] \"POST /_dash-update-component HTTP/1.1\" 200 -\n",
      "127.0.0.1 - - [04/Jul/2023 16:26:06] \"GET /_dash-component-suites/dash/dash_table/async-table.js HTTP/1.1\" 304 -\n",
      "127.0.0.1 - - [04/Jul/2023 16:26:06] \"GET /_dash-component-suites/dash/dcc/async-dropdown.js HTTP/1.1\" 304 -\n",
      "127.0.0.1 - - [04/Jul/2023 16:26:08] \"POST /_dash-update-component HTTP/1.1\" 204 -\n",
      "127.0.0.1 - - [04/Jul/2023 16:26:08] \"GET /_dash-component-suites/dash/dcc/async-graph.js HTTP/1.1\" 304 -\n",
      "127.0.0.1 - - [04/Jul/2023 16:26:08] \"GET /_dash-component-suites/dash/dcc/async-plotlyjs.js HTTP/1.1\" 304 -\n",
      "127.0.0.1 - - [04/Jul/2023 16:26:08] \"POST /_dash-update-component HTTP/1.1\" 200 -\n",
      "127.0.0.1 - - [04/Jul/2023 16:26:10] \"POST /_dash-update-component HTTP/1.1\" 200 -\n",
      "127.0.0.1 - - [04/Jul/2023 16:26:11] \"POST /_dash-update-component HTTP/1.1\" 200 -\n",
      "127.0.0.1 - - [04/Jul/2023 16:26:12] \"POST /_dash-update-component HTTP/1.1\" 200 -\n",
      "127.0.0.1 - - [04/Jul/2023 16:26:13] \"POST /_dash-update-component HTTP/1.1\" 200 -\n",
      "127.0.0.1 - - [04/Jul/2023 16:26:15] \"POST /_dash-update-component HTTP/1.1\" 200 -\n",
      "127.0.0.1 - - [04/Jul/2023 16:26:16] \"POST /_dash-update-component HTTP/1.1\" 200 -\n",
      "127.0.0.1 - - [04/Jul/2023 16:26:18] \"POST /_dash-update-component HTTP/1.1\" 200 -\n",
      "127.0.0.1 - - [04/Jul/2023 16:26:19] \"POST /_dash-update-component HTTP/1.1\" 200 -\n",
      "127.0.0.1 - - [04/Jul/2023 16:26:20] \"POST /_dash-update-component HTTP/1.1\" 200 -\n",
      "127.0.0.1 - - [04/Jul/2023 16:26:22] \"POST /_dash-update-component HTTP/1.1\" 200 -\n",
      "127.0.0.1 - - [04/Jul/2023 16:26:25] \"POST /_dash-update-component HTTP/1.1\" 200 -\n",
      "127.0.0.1 - - [04/Jul/2023 16:26:26] \"POST /_dash-update-component HTTP/1.1\" 200 -\n",
      "127.0.0.1 - - [04/Jul/2023 16:26:26] \"POST /_dash-update-component HTTP/1.1\" 200 -\n"
     ]
    }
   ],
   "source": [
    "Lineas_table_dinamica_Exito_entrega=sum(Tabla_Agenda_Exito['Cantidad'])\n",
    "\n",
    "Lineas_table_dinamica_Cencosub_entrega=sum(Tabla_Agenda_Cencusub['Cantidad'])\n",
    "\n",
    "data=np.array([[\"Exito\",2,3,Lineas_table_dinamica_Exito_entrega],[\"Cencosub\",4,5,Lineas_table_dinamica_Cencosub_entrega]])\n",
    "\n",
    "df3=pd.DataFrame(data,index=[\"Exito\",\"Cencosub\"],columns=[\"Cliente\",\"ZVMI\",\"FIRME\",\"Total\"])\n",
    "df3[\"Total\"]=df3[\"Total\"].astype(float)\n",
    "        \n",
    "\n",
    "app = Dash(__name__,external_stylesheets=[dbc.themes.BOOTSTRAP],suppress_callback_exceptions=True)\n",
    "states_clase_pedido_Exito = Tabla_Agenda_Exito['Clase Pedido'].unique().tolist()\n",
    "states_clase_pedido_Cencosub  =Tabla_Agenda_Cencusub['Clase Pedido'].unique().tolist()\n",
    "states_clase_plataforma_Exito = Tabla_Agenda_Exito['Plataforma'].unique().tolist()\n",
    "states_clase_plataforma_Cencosub=Tabla_Agenda_Cencusub['Plataforma'].unique().tolist()\n",
    "states_Candistr=Consolidado_Clientes['Can.distr.'].unique().tolist()\n",
    "\n",
    "\n",
    "Pague_1 = html.Div(children=[\n",
    "    html.Div(className=\"row justify-content mb-3\", children=[\n",
    "        html.Div(className=\"col-md-3 \"),\n",
    "        html.Div(className=\"col-md-6 w-50\", children=[\n",
    "            html.Div(className=\"blockquote text-center\", children=[\n",
    "                html.H3(\"Consolidado\"),\n",
    "            ]),\n",
    "            Create_Table_Condition(df3,\"Consolidado_Agenda_Exito_Cencosub\",'Total'),\n",
    "        ]),\n",
    "        html.Div(className=\"col-md-3 \"),\n",
    "    ]),\n",
    "    html.Div(className=\"row justify-content\", children=[\n",
    "        html.Div(className=\"col-md-6 w-30 mx-auto mb-2\", children=[\n",
    "            html.Div(className=\"container bg-primary rounded-3 border border border-success p-2 mb-2 border-opacity-50 mb-2\", children=[\n",
    "                html.Div(className=\"row justify-content\", children=[\n",
    "                    html.Div(className=\"blockquote text-center text-white mb-2 \", children=[\n",
    "                            html.H3(\"Agenda EXITO\"),\n",
    "                    ]),\n",
    "                    html.Div(className=\"col-md-6 w-50 mx-auto mb-3\", children=[\n",
    "                        html.Label(['Clase Pedido'], style={'font-weight': 'bold', \"text-align\": \"center\"}),\n",
    "                        Create_Dropdown(Tabla_Agenda_Exito['Clase Pedido'],states_clase_pedido_Exito,\"filter_dropdown_Clase_Pedido_E\"),  #Creamos Dropsown\n",
    "                    ]),\n",
    "                    html.Div(className=\"col-md-6 w-50 mx-auto mb-3\", children=[\n",
    "                        html.Label(['Plataforma'], style={'font-weight': 'bold', \"text-align\": \"center\"}),\n",
    "                        Create_Dropdown(Tabla_Agenda_Exito['Plataforma'],states_clase_plataforma_Exito,\"filter_dropdown_Plataforma_E\"),   #Creamos Dropdown\n",
    "                    ]),\n",
    "                ]),                                   \n",
    "            ]),\n",
    "            Create_Table(Tabla_Agenda_Exito,\"Tabla_Agenda_Exito\"),    #Crear Tabla_Agenda_Exito   \n",
    "        ]), \n",
    "        html.Div(className=\"col-md-6 w-50 mx-auto mb-2\", children=[\n",
    "            html.Div(className=\"container bg-primary rounded-3 border border-success p-2 mb-2 border-opacity-50 mb-2\", children=[   \n",
    "                html.Div(className=\"row justify-content\", children=[  \n",
    "                    html.Div(className=\"blockquote text-center text-white mb-2\", children=[\n",
    "                        html.H3(\"Agenda CENCOSUD\"),\n",
    "                    ]),\n",
    "                    html.Div(className=\"col-md-6 w-50 mx-auto mb-3\", children=[\n",
    "                        html.Label(['Clase Pedido'], style={'font-weight': 'bold', \"text-align\": \"start\"}),\n",
    "                        Create_Dropdown(Tabla_Agenda_Cencusub['Clase Pedido'],states_clase_pedido_Cencosub,\"filter_dropdown_Clase_Pedido_CEN\"),\n",
    "                    ]),\n",
    "                    html.Div(className=\"col-md-6 w-50 mx-auto\", children=[\n",
    "                        html.Label(['Plataforma'], style={'font-weight': 'bold', \"text-align\": \"center\"}),\n",
    "                        Create_Dropdown(Tabla_Agenda_Cencusub['Plataforma'],states_clase_plataforma_Cencosub,\"filter_dropdown_Plataforma_CEN\"),   #Creamos Dropdown\n",
    "                    ]),\n",
    "                ]),\n",
    "            ]),\n",
    "            Create_Table(Tabla_Agenda_Cencusub,\"Tabla entrega CENCOSUB\"),   \n",
    "        ]),\n",
    "    ]),\n",
    "])\n",
    "\n",
    "Pague_2 = html.Div(children=[\n",
    "    html.Div(className=\"row justify-content\", children=[\n",
    "        html.Div(className=\"col-md-8 w-30 p-2\", children=[\n",
    "            html.Div(className=\"blockquote text-center text-black mb-2 pe-5\", children=[\n",
    "                html.H2(\"Total Pedidos\"),\n",
    "                html.Label(['Plataforma'], style={'font-weight': 'bold', \"text-align\": \"center\"}),\n",
    "                Create_Dropdown(Consolidado_Clientes['Can.distr.'],states_Candistr,\"filter_dropdown_Candistr\"),  \n",
    "            ]),\n",
    "            Create_Table(Consolidado_Clientes,\"Consolidado_Clientes\",\"9px\"),    #Crear Tabla_Agenda_Exito    \n",
    "        ]), \n",
    "        html.Div(className=\"col-md-4 w-30 p-2\", children=[\n",
    "            html.Div(className=\"container bg-primary ms-3\", children=[\n",
    "                dcc.Graph(id='Grafico_Mercadeo',style={'width': '400px', 'height': '350px'},figure=Create_figure(Consolidado_Clientes,'Can.distr.',['Pedidos M','Lineas M','Unidades M'])),\n",
    "                dcc.Graph(id='Grafico_Firme',style={'width': '400px', 'height': '350px'},figure=Create_figure(Consolidado_Clientes,'Can.distr.',['Pedidos F','Lineas F','Unidades F'])),\n",
    "                dcc.Graph(id='Grafico_Total',style={'width': '400px', 'height': '350px'},figure=Create_figure(Consolidado_Clientes,'Can.distr.',['Pedidos T','Lineas T','Unidades T'])),\n",
    "            ]),    \n",
    "        ]),\n",
    "    ]),\n",
    "])\n",
    "\n",
    "Pague_3= html.Div(children=[\n",
    "    html.H1('Prueba'),\n",
    "])\n",
    "app.layout = html.Div(children=[\n",
    "    html.Div(className=\"container-fluid p-3 bg-primary text-white text-center\", children=[\n",
    "         html.H1(\"Pedidos Pendientes\"),\n",
    "    ]),\n",
    "\n",
    "    dcc.Tabs(id=\"tabs-example-graph\", value='tab-1-example-graph', children=[\n",
    "        dcc.Tab(label='Tab One', value='tab-1-example-graph', children=[Pague_1]),\n",
    "        dcc.Tab(label='Tab Two', value='tab-2-example-graph', children=[Pague_2]),\n",
    "        dcc.Tab(label='Tab Tree', value='tab-3-example-graph', children=[Pague_3]),\n",
    "    ]),\n",
    "])\n",
    "\n",
    "\n",
    "\n",
    "@app.callback(\n",
    "    Output(\"Tabla_Agenda_Exito\", \"data\"),\n",
    "    Output(\"Tabla entrega CENCOSUB\", \"data\"), \n",
    "    Output(\"Consolidado_Agenda_Exito_Cencosub\", \"data\"), \n",
    "    Output(\"Consolidado_Clientes\", \"data\"),\n",
    "    Output(\"Grafico_Mercadeo\", \"figure\"),\n",
    "    Output('Grafico_Firme', \"figure\"),  \n",
    "    Output('Grafico_Total', \"figure\"), \n",
    "    Input(\"filter_dropdown_Clase_Pedido_E\", \"value\"),\n",
    "    Input(\"filter_dropdown_Plataforma_E\", \"value\"),\n",
    "    Input(\"filter_dropdown_Clase_Pedido_CEN\", \"value\"),\n",
    "    Input(\"filter_dropdown_Plataforma_CEN\", \"value\"),\n",
    "    Input(\"filter_dropdown_Candistr\", \"value\"),\n",
    "    Input('tabs-example-graph', 'value'),\n",
    ")\n",
    "\n",
    "def display_table(State_Clase_Pedido_EXT,State_Plataforma_EXT,State_Clase_Pedido_CEN,State_Plataforma_CEN,State_Candistr,tab):\n",
    "    if tab == 'tab-1-example-graph':\n",
    "        Output_Exito = Tabla_Agenda_Exito[Tabla_Agenda_Exito['Clase Pedido'].isin(State_Clase_Pedido_EXT) | Tabla_Agenda_Exito['Plataforma'].isin(State_Plataforma_EXT)]\n",
    "        Output_Cencosub = Tabla_Agenda_Cencusub[Tabla_Agenda_Cencusub['Clase Pedido'].isin(State_Clase_Pedido_CEN)| Tabla_Agenda_Cencusub['Plataforma'].isin(State_Plataforma_CEN)]\n",
    "        Output_Exito_ZVMI=Output_Exito[Output_Exito['Clase Pedido']=='ZVMI']\n",
    "        Output_Cencosub_ZVMI=Output_Cencosub[Output_Cencosub['Clase Pedido']=='ZVMI']\n",
    "        Output_Exito_ZED1_ZEDI=Output_Exito[(Output_Exito['Clase Pedido']=='ZED1') | (Output_Exito['Clase Pedido']=='ZEDI')] # | Output_Exito['Clase Pedido']=='ZEDI'\n",
    "        Output_Cencosub_ZED1_ZEDI=Output_Cencosub[(Output_Cencosub['Clase Pedido']=='ZED1') | (Output_Cencosub['Clase Pedido']=='ZEDI')] # | Output_Cencosub['Clase Pedido']=='ZEDI'\n",
    "        df3[\"ZVMI\"][0]=Output_Exito_ZVMI[\"Cantidad\"].sum()\n",
    "        df3[\"ZVMI\"][1]=Output_Cencosub_ZVMI[\"Cantidad\"].sum()\n",
    "        df3[\"FIRME\"][0]=Output_Exito_ZED1_ZEDI[\"Cantidad\"].sum()\n",
    "        df3[\"FIRME\"][1]=Output_Cencosub_ZED1_ZEDI[\"Cantidad\"].sum()\n",
    "        df3[\"Total\"]=df3[\"ZVMI\"]+df3[\"FIRME\"]\n",
    "        dff3=df3\n",
    "        return Output_Exito.to_dict(\"records\"),Output_Cencosub.to_dict(\"records\"),dff3.to_dict(\"records\"),dash.no_update,dash.no_update,dash.no_update,dash.no_update\n",
    "    elif tab == 'tab-2-example-graph':\n",
    "        Output_Consolidado=Consolidado_Clientes[Consolidado_Clientes['Can.distr.'].isin(State_Candistr)]\n",
    "        Output_Consolidado_figure=Consolidado_Clientes[Consolidado_Clientes['Can.distr.'].isin(State_Candistr)]\n",
    "        figure_mercadeo=Create_figure(Output_Consolidado_figure,'Can.distr.',['Pedidos M','Lineas M','Unidades M'])\n",
    "        figure_firme=Create_figure(Output_Consolidado_figure,'Can.distr.',['Pedidos F','Lineas F','Unidades F'])\n",
    "        figure_total=Create_figure(Output_Consolidado_figure,'Can.distr.',['Pedidos T','Lineas T','Unidades T'])\n",
    "        Output_Consolidado=Total_Consolidado(Output_Consolidado,Columns_Consolidado_Clientes,Total_Consolidado_Clientes)\n",
    "        return dash.no_update,dash.no_update,dash.no_update,Output_Consolidado,figure_mercadeo,figure_firme,figure_total\n",
    "    elif tab == 'tab-3-example-graph':\n",
    "        return(dash.no_update,dash.no_update,dash.no_update,dash.no_update,dash.no_update,dash.no_update,dash.no_update)\n",
    "\n",
    "\n",
    "app.run(host='0.0.0.0', port=8000, debug=False)"
   ]
  },
  {
   "attachments": {},
   "cell_type": "markdown",
   "metadata": {},
   "source": [
    "# Primer parte con reporte de procesos diarios ZSD10 y ZD79\n"
   ]
  },
  {
   "cell_type": "code",
   "execution_count": 62,
   "metadata": {},
   "outputs": [],
   "source": [
    "Reporte_Procesos_Diarios=pd.read_csv(\"C:\\\\Users\\\\prac.ingindustrial2\\\\OneDrive - Prebel S.A\\\\Escritorio\\\\SAP\\Archivos_CSV\\\\Tabla_Consolidado_Diaria.txt\",delimiter='\\t')"
   ]
  },
  {
   "cell_type": "code",
   "execution_count": 63,
   "metadata": {},
   "outputs": [],
   "source": [
    "Agenda=[\"85\",\"20\",\"146\",\"149\",\"50\",\"138\",\"45\"]\n",
    "Reporte_Procesos_Diarios['Nº Pedido cliente']=Funtions.complete_pedidos(Reporte_Procesos_Diarios['Nº Pedido cliente'],Agenda)"
   ]
  },
  {
   "cell_type": "code",
   "execution_count": 64,
   "metadata": {},
   "outputs": [],
   "source": [
    "variant=\"PEDIDOS\""
   ]
  },
  {
   "cell_type": "code",
   "execution_count": 65,
   "metadata": {},
   "outputs": [],
   "source": [
    "transsaccion_ZSD10=\"ZSD10\"\n",
    "provision_ZSD10=\"PEDIDOS\"\n",
    "variant_ZSD10=\"JESPINOSAP\"\n",
    "\n",
    "\n",
    "\n",
    "\n",
    "def Search_ZSD10(transsaccion,Series,variant,provision,session):\n",
    "    \"\"\"\n",
    "    Transsaccion: Transsacion a buscar\n",
    "    Series: Columna del dataframe que quiero copiar\n",
    "    session: session del usuario\n",
    "    variant: Variante a buscar\n",
    "    provision: disposicion de interes\n",
    "    session: session activa\n",
    "    \"\"\"\n",
    "    session.StartTransaction(transsaccion)\n",
    "    session.findById(\"wnd[0]/tbar[1]/btn[17]\").press()\n",
    "    session.findById(\"wnd[1]/usr/txtV-LOW\").text = provision\n",
    "    session.findById(\"wnd[1]/usr/txtENAME-LOW\").text = variant\n",
    "    session.findById(\"wnd[1]/usr/txtV-LOW\").caretPosition = 8\n",
    "    session.findById(\"wnd[1]/tbar[0]/btn[8]\").press()\n",
    "    Series=Series.to_clipboard(index=False, header=False)\n",
    "    session.findById(\"wnd[0]/usr/btn%_SP$00013_%_APP_%-VALU_PUSH\").press()\n",
    "    session.findById(\"wnd[1]/tbar[0]/btn[24]\").press()\n",
    "    session.findById(\"wnd[1]/tbar[0]/btn[8]\").press()\n",
    "    session.findById(\"wnd[0]/tbar[1]/btn[8]\").press()\n",
    "    try:\n",
    "        tabla=session.findById(\"wnd[0]/usr/cntlCONTAINER/shellcont/shell\")\n",
    "        return(tabla)\n",
    "    except:\n",
    "        return(session)"
   ]
  },
  {
   "cell_type": "code",
   "execution_count": 66,
   "metadata": {},
   "outputs": [
    {
     "data": {
      "text/plain": [
       "<COMObject <unknown>>"
      ]
     },
     "execution_count": 66,
     "metadata": {},
     "output_type": "execute_result"
    }
   ],
   "source": [
    "Search_ZSD10(transsaccion_ZSD10,Reporte_Procesos_Diarios['Nº Pedido cliente'],variant_ZSD10,provision_ZSD10,session)"
   ]
  },
  {
   "attachments": {},
   "cell_type": "markdown",
   "metadata": {},
   "source": [
    "# Puedo omitir este paso y con otro posterior"
   ]
  },
  {
   "cell_type": "code",
   "execution_count": 67,
   "metadata": {},
   "outputs": [],
   "source": [
    "Ruta_ZSD10_Total_Exito=\"C:\\\\Users\\\\prac.ingindustrial2\\\\OneDrive - Prebel S.A\\\\Escritorio\\\\SAP\\\\Archivos_CSV\\\\\"\n",
    "Name_ZSD10_Total_Pedidos=\"Lineas_Exto\"\n",
    "SAP_GUI.Export_TXT2(Name_ZSD10_Total_Pedidos,session,Ruta_ZSD10_Total_Exito)"
   ]
  },
  {
   "cell_type": "code",
   "execution_count": 68,
   "metadata": {},
   "outputs": [],
   "source": [
    "Pedidos_Dia_ZSD10=pd.read_csv(Ruta_ZSD10_Total_Exito+Name_ZSD10_Total_Pedidos+'.txt',skiprows=5,delimiter='\\t')\n",
    "Pedidos_Dia_ZSD10=Funtions.Clean_Columns(Pedidos_Dia_ZSD10)\n",
    "Pedidos_Dia_ZSD10=Funtions.default_column(Columns_Data_ZSD10,Pedidos_Dia_ZSD10)\n",
    "Pedidos_Dia_ZSD10=Pedidos_Dia_ZSD10[Pedidos_Dia_ZSD10[\"Doc.venta\"].notnull()]    #Elimino espacios vacios \n",
    "Pedidos_Dia_ZSD10[\"Doc.venta\"]=Funtions.Clean_int_to_str(Pedidos_Dia_ZSD10[\"Doc.venta\"])   #Combierto columna"
   ]
  },
  {
   "cell_type": "code",
   "execution_count": 71,
   "metadata": {},
   "outputs": [],
   "source": [
    "transsaccion_ZSD76=\"ZSD76\"\n",
    "provision_ZSD76=\"PEDIDOS\"\n",
    "variant_ZSD76=\"JESPINOSAP\""
   ]
  },
  {
   "cell_type": "code",
   "execution_count": 56,
   "metadata": {},
   "outputs": [],
   "source": [
    "def Search_ZSD76(transsaccion,Series,session):\n",
    "    \"\"\"\n",
    "    Transsaccion: Transsacion a buscar\n",
    "    Series: Columna del dataframe que quiero copiar\n",
    "    session: session del usuario\n",
    "    \"\"\"\n",
    "    session.StartTransaction(transsaccion)\n",
    "    Series=Series.to_clipboard(index=False, header=False)\n",
    "    session.findById(\"wnd[0]/usr/btn%_SP$00010_%_APP_%-VALU_PUSH\").press()\n",
    "    session.findById(\"wnd[1]/tbar[0]/btn[24]\").press()\n",
    "    session.findById(\"wnd[1]/tbar[0]/btn[8]\").press()\n",
    "    session.findById(\"wnd[0]/tbar[1]/btn[8]\").press()\n",
    "    try:\n",
    "        tabla=session.findById(\"wnd[0]/usr/cntlCONTAINER/shellcont/shell\")\n",
    "        return(tabla)\n",
    "    except:\n",
    "        return(session)"
   ]
  },
  {
   "cell_type": "code",
   "execution_count": 75,
   "metadata": {},
   "outputs": [],
   "source": [
    "tabla=Search_ZSD76(transsaccion_ZSD76,Pedidos_Dia_ZSD10[\"Doc.venta\"].drop_duplicates(),session)"
   ]
  },
  {
   "cell_type": "code",
   "execution_count": 78,
   "metadata": {},
   "outputs": [],
   "source": [
    "Ruta_ZSD10_Detalle_Entregas=\"C:\\\\Users\\\\prac.ingindustrial2\\\\OneDrive - Prebel S.A\\\\Escritorio\\\\SAP\\\\Archivos_CSV\\\\\"\n",
    "Name_ZSD10_Detalle_Entregas=\"Detalle_Entregas\"\n",
    "SAP_GUI.Export_TXT2(Name_ZSD10_Detalle_Entregas,session,Ruta_ZSD10_Detalle_Entregas)"
   ]
  },
  {
   "cell_type": "code",
   "execution_count": 101,
   "metadata": {},
   "outputs": [],
   "source": [
    "Detalle_Entregas=pd.read_csv(Ruta_ZSD10_Detalle_Entregas+Name_ZSD10_Detalle_Entregas+\".txt\",skiprows=5,delimiter='\\t')\n",
    "Detalle_Entregas=Funtions.Clean_Columns(Detalle_Entregas)\n",
    "Detalle_Entregas=Funtions.default_column(Column_Data_ZSD76,Detalle_Entregas)\n",
    "Detalle_Entregas=Detalle_Entregas[Detalle_Entregas[\"Solic.\"].notnull()]"
   ]
  },
  {
   "attachments": {},
   "cell_type": "markdown",
   "metadata": {},
   "source": [
    "# Tener presente para lineas total exito"
   ]
  },
  {
   "cell_type": "code",
   "execution_count": 106,
   "metadata": {},
   "outputs": [],
   "source": [
    "Lineas_Total_Exito=Detalle_Entregas.groupby(\"Cantidad entrega\").count()[\"Solic.\"].sum()"
   ]
  },
  {
   "cell_type": "code",
   "execution_count": 107,
   "metadata": {},
   "outputs": [
    {
     "data": {
      "text/plain": [
       "2524"
      ]
     },
     "execution_count": 107,
     "metadata": {},
     "output_type": "execute_result"
    }
   ],
   "source": [
    "Lineas_Total_Exito"
   ]
  }
 ],
 "metadata": {
  "kernelspec": {
   "display_name": "base",
   "language": "python",
   "name": "python3"
  },
  "language_info": {
   "codemirror_mode": {
    "name": "ipython",
    "version": 3
   },
   "file_extension": ".py",
   "mimetype": "text/x-python",
   "name": "python",
   "nbconvert_exporter": "python",
   "pygments_lexer": "ipython3",
   "version": "3.9.13"
  },
  "orig_nbformat": 4
 },
 "nbformat": 4,
 "nbformat_minor": 2
}
