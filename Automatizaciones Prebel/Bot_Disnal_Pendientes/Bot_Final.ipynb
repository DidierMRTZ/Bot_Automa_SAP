{
 "cells": [
  {
   "cell_type": "code",
   "execution_count": 1,
   "metadata": {},
   "outputs": [],
   "source": [
    "from dash import Dash, dash_table, dcc, html\n",
    "from dash.dependencies import Input, Output\n",
    "import pandas as pd\n",
    "from flask import Flask\n",
    "from Librerias_SAP import SAP_GUI, Funtions\n",
    "import pandas as pd\n",
    "import re\n",
    "from collections import OrderedDict\n",
    "from dash import dash_table as dt\n",
    "from dash import dcc\n",
    "from dash import html\n",
    "from dash.dependencies import Input\n",
    "from dash.dependencies import Output\n",
    "import numpy as np\n",
    "import dash_bootstrap_components as dbc\n",
    "from datetime import datetime, timedelta"
   ]
  },
  {
   "cell_type": "code",
   "execution_count": 2,
   "metadata": {},
   "outputs": [],
   "source": [
    "\"\"\"----------------------------Inciar session----------------------------------------------------\"\"\"\n",
    "# Insert User name and password\n",
    "\n",
    "Keys=pd.read_excel(\"C:\\\\Users\\\\prac.ingindustrial2\\\\OneDrive - Prebel S.A\\\\Escritorio\\\\SAP\\\\Claves\\\\Keys.xlsx\")\n",
    "user=Keys[\"User\"][0]\n",
    "password=Keys[\"Password\"][0]\n",
    "# Initialize session\n",
    "session=SAP_GUI.SessionSAP(user,password)"
   ]
  },
  {
   "cell_type": "code",
   "execution_count": 3,
   "metadata": {},
   "outputs": [],
   "source": [
    "# Disposiciones ZSD110\n",
    "Name_ZSD110_FIRME=\"Pendiente_Firme\"  # Revisar suele no guardar\n",
    "Name_ZSD110_MERCADEO=\"Pendiente_Mercadeo\"  # Revisar suele no guardar\n",
    "Name_ZSD110_TOTAL=\"Pendiente_Total\"  # Revisar suele no guardar\n",
    "\n",
    "\n",
    "default_column_Canal01_Pendientes=['Can.distr.', 'Denomin.', 'Seccion', 'Estado', 'Solic.', 'Nombre',\n",
    "       'Pedido', 'Clase Pedi', 'Creado el', 'Pedido.1', 'Posición', 'Material',\n",
    "       'Vlr.Neto P', 'Moneda', 'Cantidad P', 'Cantidad C', 'UM venta',\n",
    "       'Vlr.Neto C', 'Status Glo', 'Status Tot', 'Status Ent', 'Status Ent.1',\n",
    "       'Status Ent.2']  \n",
    "\n",
    "\n",
    "default_column_Canal01_Entregado=['Can.distr.', 'Denomin.', 'Seccion', 'Estado', 'Solic.', 'Nombre',\n",
    "       'Entrega', 'Posicion E', 'F.Creacion', 'Pedido', 'Clase Pedi',\n",
    "       'F.Creacion.1', 'Pedido.1', 'Posicion P', 'Material', 'Moneda',\n",
    "       'Cantidad E', 'UM venta', 'Valor Neto', 'StTotPick.', 'StatGlWM',\n",
    "       'StTotMovMe', 'Stat.fact.', 'Status PT']\n",
    "\n",
    "\n",
    "default_column_Pedidos=['OrgVt', 'CDis', 'BqEn', 'Solic.', 'PrimFeEntr', 'ÚltEntrega',\n",
    "       'FePrefEnt.', 'ClVt', 'Valor neto', 'Mon.', 'Doc.venta', 'ST',\n",
    "       'Solicitante', 'Nº pedido cliente', 'Descrip.breve', 'Nº de cliente 1',\n",
    "       'Contador de pedidos', 'Dirección', 'Barrio', 'Población', 'Teléfono']\n",
    "\n",
    "\n",
    "Columns_Data_ZSD10_Exito_Cencosub_ZVMI=['Fecha doc.', 'Solicitante', 'Cliente', 'Nº de cliente 1', 'Marca',\n",
    "       'Material', 'Número de material', 'Unidades', 'UM', 'ValorNeto',\n",
    "       'Nº pedido cliente', 'Doc.venta', 'ClVt', 'Solic.', 'OrgVt', 'CDis',\n",
    "       'OfVta', 'GVen', 'Organización de ventas', 'Mon.', 'Jquía.productos',\n",
    "       'Total Pedidos', 'Plataforma', 'Fe.PedCpas', 'Creado por']\n",
    "\n",
    "Columns_Data_ZSD038_Exito_Cencosub_Rechazados=['Doc.comer.', 'Fecha doc.', 'Destinat.', 'Nombre 1', 'Cód.Vend.',\n",
    "       'Nombre vendedor', 'MR', 'Denominación', 'Material', 'Denominación.1',\n",
    "       'Marca', 'Categoría', 'Ctd.confirmada', 'Valor neto', 'Mon.', 'CDis',\n",
    "       'Solic.', 'Nombre']\n",
    "\n",
    "\"\"\"----------------------------------------------LEER ARCHIVOS--------------------------------\"\"\"\n",
    "#Data Pendientes\n",
    "Canal01_Pendiente=pd.read_csv(\"C:\\\\Users\\\\prac.ingindustrial2\\\\OneDrive - Prebel S.A\\\\Escritorio\\\\SAP\\\\Archivos_CSV\\\\Canal01_PEN.txt\",skiprows=1,delimiter=\"\\t\")\n",
    "Canal01_Pendiente=Funtions.Clean_Columns(Canal01_Pendiente)\n",
    "Canal01_Pendiente=Funtions.default_column(default_column_Canal01_Pendientes,Canal01_Pendiente)\n",
    "\n",
    "#Dta Entregados\n",
    "Canal01_Entregado=pd.read_csv(\"C:\\\\Users\\\\prac.ingindustrial2\\\\OneDrive - Prebel S.A\\\\Escritorio\\\\SAP\\\\Archivos_CSV\\\\Canal01_ENT.txt\",skiprows=1,delimiter=\"\\t\")\n",
    "Canal01_Entregado=Funtions.Clean_Columns(Canal01_Entregado)\n",
    "Canal01_Entregado=Funtions.default_column(default_column_Canal01_Entregado,Canal01_Entregado)"
   ]
  },
  {
   "cell_type": "code",
   "execution_count": 4,
   "metadata": {},
   "outputs": [],
   "source": [
    "\"\"\"\"\"-------------------------------------------Limpio los datos-----------------------------------\"\"\"\n",
    "\n",
    "# Esta session combierte los valores monetarios en enteros str a int para posteriores calculos\n",
    "Canal01_Pendiente['Vlr.Neto P'], Canal01_Pendiente['Cantidad P']=Funtions.Clean_Num_List(Canal01_Pendiente['Vlr.Neto C'], Canal01_Pendiente['Cantidad P'])\n",
    "Canal01_Entregado['Valor Neto'], Canal01_Entregado['Cantidad E']=Funtions.Clean_Num_List(Canal01_Entregado['Valor Neto'],Canal01_Entregado['Cantidad E'])\n",
    "\n",
    "# Esta session combierte colunmas de float .0 a enteros int, tambien recibe valores Null\n",
    "Canal01_Pendiente['Pedido.1'],Canal01_Entregado['Pedido.1']=Funtions.Estandarizo_Pedidos(Canal01_Pendiente['Pedido.1'],Canal01_Entregado['Pedido.1'])\n"
   ]
  },
  {
   "attachments": {},
   "cell_type": "markdown",
   "metadata": {},
   "source": [
    "# ¿Preguntar cantidad pendiente P y C significado"
   ]
  },
  {
   "cell_type": "code",
   "execution_count": 5,
   "metadata": {},
   "outputs": [],
   "source": [
    "\"\"\"Seccion para coompletar los valores necesarios para trabajar\"\"\"\n",
    "\n",
    "Agenda=[\"85\",\"20\",\"146\",\"149\",\"50\",\"138\",\"45\"]\n",
    "# En este caso solo aplica para Entrega y pendiente en el cual completa con 00 los pedidos del Exito\n",
    "Canal01_Entregado['Pedido.1']=Funtions.complete_pedidos(Canal01_Entregado['Pedido.1'],Agenda)\n",
    "Canal01_Pendiente['Pedido.1']=Funtions.complete_pedidos(Canal01_Pendiente['Pedido.1'],Agenda)"
   ]
  },
  {
   "cell_type": "code",
   "execution_count": 6,
   "metadata": {},
   "outputs": [
    {
     "name": "stdout",
     "output_type": "stream",
     "text": [
      "759 3047\n"
     ]
    }
   ],
   "source": [
    "\"\"\"---------------------------------------Unifico los dataframes de pedido y entregas--------------------------------------------------------------\"\"\"\n",
    "Default_Column_Informe=['Canal','Denomin.','Solic.','Nombre','Pedido','Clase Pedido','Material','Valor Neto','Cantidad']\n",
    "\n",
    "longuitud_Pendiente=len(Canal01_Pendiente)\n",
    "longuitud_Entrega=len(Canal01_Entregado)\n",
    "\n",
    "\n",
    "Canal01_Pendiente[['Can.distr.','Denomin.','Solic.','Nombre','Pedido.1','Clase Pedi','Material','Vlr.Neto P','Cantidad P']]\n",
    "Canal01_Entregado[['Can.distr.', 'Denomin.','Solic.','Nombre','Pedido.1','Clase Pedi','Material','Valor Neto','Cantidad E']]\n",
    "\n",
    "\n",
    "Canal01_Pendiente_Informe=Canal01_Pendiente[['Can.distr.','Denomin.','Solic.','Nombre','Pedido.1','Clase Pedi','Material','Vlr.Neto P','Cantidad P']]\n",
    "Canal01_Entregado_Informe=Canal01_Entregado[['Can.distr.', 'Denomin.','Solic.','Nombre','Pedido.1','Clase Pedi','Material','Valor Neto','Cantidad E']]\n",
    "\n",
    "\n",
    "print(longuitud_Pendiente,longuitud_Entrega)\n",
    "\n",
    "\n",
    "\"\"\"---En esta sección analizar si borro duplicados-----\"\"\"\n",
    "\n",
    "Canal01_Entregado_Pendiente_Informe=pd.concat([Funtions.default_column(Default_Column_Informe,Canal01_Pendiente_Informe),Funtions.default_column(Default_Column_Informe,Canal01_Entregado_Informe)]).reset_index(drop=True).drop_duplicates()"
   ]
  },
  {
   "cell_type": "code",
   "execution_count": 7,
   "metadata": {},
   "outputs": [],
   "source": [
    "\"\"\"\"------------------------------------ Estandarizo datos de columnas del informe de las lineas que deberian ser numericos------------------------------------------------\"\"\"\n",
    "\n",
    "try:\n",
    "    Canal01_Entregado_Pendiente_Informe['Valor Neto'],Canal01_Entregado_Pendiente_Informe['Cantidad']=Funtions.Clean_Num_List(Canal01_Entregado_Pendiente_Informe['Valor Neto'],Canal01_Entregado_Pendiente_Informe['Cantidad'])\n",
    "except:\n",
    "    print(\"intento\")\n",
    "    pass\n"
   ]
  },
  {
   "cell_type": "code",
   "execution_count": 8,
   "metadata": {},
   "outputs": [],
   "source": [
    "\"\"\"------------------------Optener datos de Agenda_Exito y Cencosub------------------\"\"\"\n",
    "#Agenda Exito y Cencosub\n",
    "Agenda_Exito=[\"0085\",\"0020\",\"0146\",\"0149\",\"0050\",\"0138\",\"0045\"]\n",
    "Agenda_Cencosub=[\"93\",\"122\",\"127\",\"95\",\"60\"]\n",
    "\n",
    "\n",
    "\"\"\"-----------------------------Aplico filtro en Agenda exito Entrega----------------------------------\"\"\"\n",
    "Filtro_Agenda_Exito_Entrega_Pendiente=Funtions.Search_Agenda_Exito(Canal01_Entregado_Pendiente_Informe['Pedido'],Agenda_Exito)\n",
    "Filtro_Agenda_Cencosub_Entrega_Pendiente=Funtions.Search_agenda_Cencosub(Canal01_Entregado_Pendiente_Informe[\"Pedido\"],Agenda_Cencosub)\n",
    "Filtro_Sin_Agenda_Cencosub_Entrega_Pendiente=Filtro_Agenda_Exito_Entrega_Pendiente+Filtro_Agenda_Cencosub_Entrega_Pendiente"
   ]
  },
  {
   "cell_type": "code",
   "execution_count": 9,
   "metadata": {},
   "outputs": [],
   "source": [
    "\"\"\"-------------------------------------------------Aplico filtro para el consolidados------------------------------------------------------------\"\"\"\n",
    "\n",
    "\n",
    "\"\"\"------------------------------Canal 01 Entrega con agenda Exito-----------------------\"\"\"\n",
    "#Agenda Exito\n",
    "Filtro_Canal01_Entregado_Pendiente_Exito=(Canal01_Entregado_Pendiente_Informe['Pedido'].isin(Filtro_Agenda_Exito_Entrega_Pendiente))   #Excluyo con ~\n",
    "Canal01_Entregado_Pendiente_Agenda_Exito=Canal01_Entregado_Pendiente_Informe.loc[Filtro_Canal01_Entregado_Pendiente_Exito].reset_index(drop=True)\n",
    "Canal01_Entregado_Pendiente_Sin_Agenda_Exito=Canal01_Entregado_Pendiente_Informe.loc[~Filtro_Canal01_Entregado_Pendiente_Exito].reset_index(drop=True)\n",
    "\n",
    "#Agenda Censosud\n",
    "\"\"\"------------------------------Canal 01 Entrega con agenda Cencosub-----------------------\"\"\"\n",
    "Filtro_Canal01_Entregado_Pendiente_Cencosub=(Canal01_Entregado_Pendiente_Informe['Pedido'].isin(Filtro_Agenda_Cencosub_Entrega_Pendiente))   #Excluyo con ~\n",
    "Canal01_Entregado_Pendiente_Agenda_Cencosub=Canal01_Entregado_Pendiente_Informe.loc[Filtro_Canal01_Entregado_Pendiente_Cencosub].reset_index(drop=True)\n",
    "Canal01_Entregado_Pendiente_Sin_Agenda_Cencosub=Canal01_Entregado_Pendiente_Informe.loc[~Filtro_Canal01_Entregado_Pendiente_Cencosub].reset_index(drop=True)\n"
   ]
  },
  {
   "cell_type": "code",
   "execution_count": 10,
   "metadata": {},
   "outputs": [],
   "source": [
    "\"\"\"------------------------------Canal 01 Entrega con y sin agenda Exito y Cencosub-----------------------\"\"\"\n",
    "Filtro_Canal01_Entregado_Pendiente_Sin_Exito_Cencosub=(Canal01_Entregado_Pendiente_Informe['Pedido'].isin(Filtro_Sin_Agenda_Cencosub_Entrega_Pendiente)) \n",
    "Canal01_Entregado_Pendiente_Sin_Agenda_Exito_Cencosub=Canal01_Entregado_Pendiente_Informe.loc[~Filtro_Canal01_Entregado_Pendiente_Sin_Exito_Cencosub].reset_index(drop=True)"
   ]
  },
  {
   "cell_type": "code",
   "execution_count": 11,
   "metadata": {},
   "outputs": [],
   "source": [
    "\n",
    "\"\"\"----------------------------------------------Creao tabla dinamica general--------------------------------------------------------------------------------\"\"\"\n",
    "Tabla_dinamica_Canal01_Entregado_Pendiente_Informe=Canal01_Entregado_Pendiente_Informe.pivot_table(index=['Pedido','Clase Pedido'],aggfunc={'Material':'count','Cantidad':sum,'Valor Neto':sum}).reset_index()"
   ]
  },
  {
   "cell_type": "code",
   "execution_count": 12,
   "metadata": {},
   "outputs": [],
   "source": [
    "# Tabla dinácamica Exito\n",
    "Table_dinamica_Exito_entrega_pendiente=Tabla_dinamica_Canal01_Entregado_Pendiente_Informe[Tabla_dinamica_Canal01_Entregado_Pendiente_Informe['Pedido'].isin(Filtro_Agenda_Exito_Entrega_Pendiente)]\n",
    "# Tabla dinácamica Exito Cencosud\n",
    "Table_dinamica_Cencosub_entrega_pendiente=Tabla_dinamica_Canal01_Entregado_Pendiente_Informe[Tabla_dinamica_Canal01_Entregado_Pendiente_Informe['Pedido'].isin(Filtro_Agenda_Cencosub_Entrega_Pendiente)]\n",
    "# Tabla dinácamica sin agenda Exito y Cencosud\n",
    "Table_dinamica_Sin_Exito_Cencosub_entrega_pendiente=Tabla_dinamica_Canal01_Entregado_Pendiente_Informe[~Tabla_dinamica_Canal01_Entregado_Pendiente_Informe['Pedido'].isin(Filtro_Sin_Agenda_Cencosub_Entrega_Pendiente)]\n"
   ]
  },
  {
   "attachments": {},
   "cell_type": "markdown",
   "metadata": {},
   "source": [
    "# Preguntar con los valores Null"
   ]
  },
  {
   "cell_type": "code",
   "execution_count": 13,
   "metadata": {},
   "outputs": [],
   "source": [
    "pedidos_Exito_Cencosub=pd.concat([Table_dinamica_Exito_entrega_pendiente['Pedido'],Table_dinamica_Cencosub_entrega_pendiente['Pedido']])\n",
    "\n",
    "#Busco en la tansaccion ZSD037 los pedidos de las tablas dinamicas tanto de Exito y Cencosub\n",
    "\n",
    "Transsaccion_ZSD037=\"zsd037\"\n",
    "SAP_GUI.Search_Pedidos_ZSD037(Transsaccion_ZSD037,pedidos_Exito_Cencosub,session)"
   ]
  },
  {
   "cell_type": "code",
   "execution_count": 14,
   "metadata": {},
   "outputs": [],
   "source": [
    "Name_ZSD037=\"Pedidos pendientes Exito y Cencosub\"\n",
    "Ruta_ZSD037_Exito_Cencosub=\"C:\\\\Users\\\\prac.ingindustrial2\\\\OneDrive - Prebel S.A\\\\Escritorio\\\\SAP\\\\Archivos_CSV\\\\\"\n",
    "SAP_GUI.Export_TXT2(Name_ZSD037,session,Ruta_ZSD037_Exito_Cencosub)"
   ]
  },
  {
   "cell_type": "code",
   "execution_count": 15,
   "metadata": {},
   "outputs": [],
   "source": [
    "# Utilizo la transaccion para buscar ZSD037 en entrega para las fechas\n",
    "url_ZSD037_Pedidos_Exito_Cencosub=\"C:\\\\Users\\\\prac.ingindustrial2\\\\OneDrive - Prebel S.A\\\\Escritorio\\\\SAP\\\\Archivos_CSV\\\\\"+str(Name_ZSD037)+\".txt\"\n",
    "\n",
    "Data_ZSD037_Pedidos_Exito_Cencosub=pd.read_csv(url_ZSD037_Pedidos_Exito_Cencosub,skiprows=5,delimiter=\"\\t\")\n",
    "Data_ZSD037_Pedidos_Exito_Cencosub=Funtions.Clean_Columns(Data_ZSD037_Pedidos_Exito_Cencosub)\n",
    "Data_ZSD037_Pedidos_Exito_Cencosub=Funtions.default_column(default_column_Pedidos,Data_ZSD037_Pedidos_Exito_Cencosub)\n",
    "Data_ZSD037_Pedidos_Exito_Cencosub=Data_ZSD037_Pedidos_Exito_Cencosub[Data_ZSD037_Pedidos_Exito_Cencosub['Nº pedido cliente'].notnull()]\n"
   ]
  },
  {
   "attachments": {},
   "cell_type": "markdown",
   "metadata": {},
   "source": [
    "# Ver metodo estandarizar pedidos y ver las fechas de los que no pertenecen a la agendas Exito y Cencosub"
   ]
  },
  {
   "cell_type": "code",
   "execution_count": 16,
   "metadata": {},
   "outputs": [],
   "source": [
    "# Puede que se represente inconsistencia entre str y int\n",
    "try:\n",
    "    Data_ZSD037_Pedidos_Exito_Cencosub['Nº pedido cliente']=Funtions.Estandarizo_Pedidos(Data_ZSD037_Pedidos_Exito_Cencosub['Nº pedido cliente'])\n",
    "except:\n",
    "    pass"
   ]
  },
  {
   "cell_type": "code",
   "execution_count": 17,
   "metadata": {},
   "outputs": [],
   "source": [
    "#Dataframe de interes\n",
    "Data_ZSD037_Pedidos_Pendientes_Fecha=Data_ZSD037_Pedidos_Exito_Cencosub[['Nº pedido cliente','PrimFeEntr','ÚltEntrega']].drop_duplicates()"
   ]
  },
  {
   "cell_type": "code",
   "execution_count": 18,
   "metadata": {},
   "outputs": [
    {
     "data": {
      "text/html": [
       "<div>\n",
       "<style scoped>\n",
       "    .dataframe tbody tr th:only-of-type {\n",
       "        vertical-align: middle;\n",
       "    }\n",
       "\n",
       "    .dataframe tbody tr th {\n",
       "        vertical-align: top;\n",
       "    }\n",
       "\n",
       "    .dataframe thead th {\n",
       "        text-align: right;\n",
       "    }\n",
       "</style>\n",
       "<table border=\"1\" class=\"dataframe\">\n",
       "  <thead>\n",
       "    <tr style=\"text-align: right;\">\n",
       "      <th></th>\n",
       "      <th>Nº pedido cliente</th>\n",
       "      <th>PrimFeEntr</th>\n",
       "      <th>ÚltEntrega</th>\n",
       "    </tr>\n",
       "  </thead>\n",
       "  <tbody>\n",
       "    <tr>\n",
       "      <th>0</th>\n",
       "      <td>0020657846</td>\n",
       "      <td>27.06.2023</td>\n",
       "      <td>04.07.2023</td>\n",
       "    </tr>\n",
       "    <tr>\n",
       "      <th>20</th>\n",
       "      <td>0050443107</td>\n",
       "      <td>01.07.2023</td>\n",
       "      <td>01.07.2023</td>\n",
       "    </tr>\n",
       "    <tr>\n",
       "      <th>30</th>\n",
       "      <td>0085764470</td>\n",
       "      <td>29.06.2023</td>\n",
       "      <td>29.06.2023</td>\n",
       "    </tr>\n",
       "    <tr>\n",
       "      <th>40</th>\n",
       "      <td>0050443312</td>\n",
       "      <td>08.07.2023</td>\n",
       "      <td>08.07.2023</td>\n",
       "    </tr>\n",
       "    <tr>\n",
       "      <th>50</th>\n",
       "      <td>0050443367</td>\n",
       "      <td>08.07.2023</td>\n",
       "      <td>08.07.2023</td>\n",
       "    </tr>\n",
       "    <tr>\n",
       "      <th>60</th>\n",
       "      <td>0050444502</td>\n",
       "      <td>27.06.2023</td>\n",
       "      <td>08.07.2023</td>\n",
       "    </tr>\n",
       "    <tr>\n",
       "      <th>147</th>\n",
       "      <td>0085764471</td>\n",
       "      <td>29.06.2023</td>\n",
       "      <td>29.06.2023</td>\n",
       "    </tr>\n",
       "    <tr>\n",
       "      <th>247</th>\n",
       "      <td>0085765393</td>\n",
       "      <td>24.06.2023</td>\n",
       "      <td>28.06.2023</td>\n",
       "    </tr>\n",
       "    <tr>\n",
       "      <th>256</th>\n",
       "      <td>0085768075</td>\n",
       "      <td>29.06.2023</td>\n",
       "      <td>29.06.2023</td>\n",
       "    </tr>\n",
       "    <tr>\n",
       "      <th>266</th>\n",
       "      <td>0085768022</td>\n",
       "      <td>08.07.2023</td>\n",
       "      <td>08.07.2023</td>\n",
       "    </tr>\n",
       "    <tr>\n",
       "      <th>840</th>\n",
       "      <td>0085768079</td>\n",
       "      <td>01.07.2023</td>\n",
       "      <td>01.07.2023</td>\n",
       "    </tr>\n",
       "    <tr>\n",
       "      <th>967</th>\n",
       "      <td>0085768083</td>\n",
       "      <td>01.07.2023</td>\n",
       "      <td>01.07.2023</td>\n",
       "    </tr>\n",
       "    <tr>\n",
       "      <th>990</th>\n",
       "      <td>0085768085</td>\n",
       "      <td>29.06.2023</td>\n",
       "      <td>29.06.2023</td>\n",
       "    </tr>\n",
       "    <tr>\n",
       "      <th>1495</th>\n",
       "      <td>0085768086</td>\n",
       "      <td>01.07.2023</td>\n",
       "      <td>01.07.2023</td>\n",
       "    </tr>\n",
       "    <tr>\n",
       "      <th>1505</th>\n",
       "      <td>0085768219</td>\n",
       "      <td>01.07.2023</td>\n",
       "      <td>01.07.2023</td>\n",
       "    </tr>\n",
       "    <tr>\n",
       "      <th>1705</th>\n",
       "      <td>0085768220</td>\n",
       "      <td>01.07.2023</td>\n",
       "      <td>01.07.2023</td>\n",
       "    </tr>\n",
       "    <tr>\n",
       "      <th>1715</th>\n",
       "      <td>0085768221</td>\n",
       "      <td>29.06.2023</td>\n",
       "      <td>29.06.2023</td>\n",
       "    </tr>\n",
       "    <tr>\n",
       "      <th>1955</th>\n",
       "      <td>0085768222</td>\n",
       "      <td>29.06.2023</td>\n",
       "      <td>29.06.2023</td>\n",
       "    </tr>\n",
       "    <tr>\n",
       "      <th>2110</th>\n",
       "      <td>0085768255</td>\n",
       "      <td>29.06.2023</td>\n",
       "      <td>29.06.2023</td>\n",
       "    </tr>\n",
       "    <tr>\n",
       "      <th>2682</th>\n",
       "      <td>0085768259</td>\n",
       "      <td>01.07.2023</td>\n",
       "      <td>01.07.2023</td>\n",
       "    </tr>\n",
       "    <tr>\n",
       "      <th>2712</th>\n",
       "      <td>0085768258</td>\n",
       "      <td>01.07.2023</td>\n",
       "      <td>01.07.2023</td>\n",
       "    </tr>\n",
       "    <tr>\n",
       "      <th>2822</th>\n",
       "      <td>0085768262</td>\n",
       "      <td>29.06.2023</td>\n",
       "      <td>29.06.2023</td>\n",
       "    </tr>\n",
       "    <tr>\n",
       "      <th>3225</th>\n",
       "      <td>0085768263</td>\n",
       "      <td>01.07.2023</td>\n",
       "      <td>01.07.2023</td>\n",
       "    </tr>\n",
       "    <tr>\n",
       "      <th>3235</th>\n",
       "      <td>0085768265</td>\n",
       "      <td>29.06.2023</td>\n",
       "      <td>29.06.2023</td>\n",
       "    </tr>\n",
       "    <tr>\n",
       "      <th>3263</th>\n",
       "      <td>0085768267</td>\n",
       "      <td>01.07.2023</td>\n",
       "      <td>01.07.2023</td>\n",
       "    </tr>\n",
       "    <tr>\n",
       "      <th>3313</th>\n",
       "      <td>0085768269</td>\n",
       "      <td>29.06.2023</td>\n",
       "      <td>29.06.2023</td>\n",
       "    </tr>\n",
       "    <tr>\n",
       "      <th>3614</th>\n",
       "      <td>0085768433</td>\n",
       "      <td>08.07.2023</td>\n",
       "      <td>08.07.2023</td>\n",
       "    </tr>\n",
       "    <tr>\n",
       "      <th>3624</th>\n",
       "      <td>60-1164151</td>\n",
       "      <td>01.07.2023</td>\n",
       "      <td>08.07.2023</td>\n",
       "    </tr>\n",
       "  </tbody>\n",
       "</table>\n",
       "</div>"
      ],
      "text/plain": [
       "     Nº pedido cliente  PrimFeEntr  ÚltEntrega\n",
       "0           0020657846  27.06.2023  04.07.2023\n",
       "20          0050443107  01.07.2023  01.07.2023\n",
       "30          0085764470  29.06.2023  29.06.2023\n",
       "40          0050443312  08.07.2023  08.07.2023\n",
       "50          0050443367  08.07.2023  08.07.2023\n",
       "60          0050444502  27.06.2023  08.07.2023\n",
       "147         0085764471  29.06.2023  29.06.2023\n",
       "247         0085765393  24.06.2023  28.06.2023\n",
       "256         0085768075  29.06.2023  29.06.2023\n",
       "266         0085768022  08.07.2023  08.07.2023\n",
       "840         0085768079  01.07.2023  01.07.2023\n",
       "967         0085768083  01.07.2023  01.07.2023\n",
       "990         0085768085  29.06.2023  29.06.2023\n",
       "1495        0085768086  01.07.2023  01.07.2023\n",
       "1505        0085768219  01.07.2023  01.07.2023\n",
       "1705        0085768220  01.07.2023  01.07.2023\n",
       "1715        0085768221  29.06.2023  29.06.2023\n",
       "1955        0085768222  29.06.2023  29.06.2023\n",
       "2110        0085768255  29.06.2023  29.06.2023\n",
       "2682        0085768259  01.07.2023  01.07.2023\n",
       "2712        0085768258  01.07.2023  01.07.2023\n",
       "2822        0085768262  29.06.2023  29.06.2023\n",
       "3225        0085768263  01.07.2023  01.07.2023\n",
       "3235        0085768265  29.06.2023  29.06.2023\n",
       "3263        0085768267  01.07.2023  01.07.2023\n",
       "3313        0085768269  29.06.2023  29.06.2023\n",
       "3614        0085768433  08.07.2023  08.07.2023\n",
       "3624        60-1164151  01.07.2023  08.07.2023"
      ]
     },
     "execution_count": 18,
     "metadata": {},
     "output_type": "execute_result"
    }
   ],
   "source": [
    "Data_ZSD037_Pedidos_Pendientes_Fecha"
   ]
  },
  {
   "cell_type": "code",
   "execution_count": 19,
   "metadata": {},
   "outputs": [],
   "source": [
    "#---------------------------------Tabla dinamica Exito---------------------------------------------\n",
    "Tabla_Agenda_Exito=pd.merge(Data_ZSD037_Pedidos_Pendientes_Fecha,Table_dinamica_Exito_entrega_pendiente,how=\"right\",left_on=\"Nº pedido cliente\",right_on=\"Pedido\")[['Nº pedido cliente', 'PrimFeEntr', 'ÚltEntrega',\n",
    "       'Clase Pedido', 'Cantidad', 'Material', 'Valor Neto']]\n",
    "\n",
    "Agenda_name_Exito={\"0085\":\"FUNZA\",\"0020\":\"VEGAS\",\"0146\":\"BARRANQUILLA\",\"0149\":\"BUCARAMANGA\",\"0050\":\"CALI\",\"0138\":\"PEREIRA\",\"0045\":\"SURTIMAYORISTAS\"}\n",
    "\n",
    "Tabla_Agenda_Exito[\"Plataforma\"]=Tabla_Agenda_Exito[\"Nº pedido cliente\"].apply(lambda x: Agenda_name_Exito[re.findall(\"(\"+\"|\".join(list(Agenda_name_Exito.keys()))+\")\",x)[0]] if re.findall(\"(\"+\"|\".join(list(Agenda_name_Exito.keys()))+\")\",x)!=[] else x)\n"
   ]
  },
  {
   "cell_type": "code",
   "execution_count": 20,
   "metadata": {},
   "outputs": [],
   "source": [
    "#Dataframe de interes\n",
    "\n",
    "Tabla_Agenda_Cencusub=pd.merge(Data_ZSD037_Pedidos_Pendientes_Fecha,Table_dinamica_Cencosub_entrega_pendiente,how=\"right\",left_on=\"Nº pedido cliente\",right_on=\"Pedido\")[['Nº pedido cliente', 'PrimFeEntr', 'ÚltEntrega',\n",
    "       'Clase Pedido', 'Cantidad', 'Material', 'Valor Neto']]\n",
    "\n",
    "Agenda_name_Cencosub={\"93-\":\"MEDELLIN\",\"122-\":\"BARRANQUILLA\",\"127-\":\"BUCARAMANGA\",\"95-\":\"CALI\",\"60-\":\"BOGOTA\"}\n",
    "\n",
    "Tabla_Agenda_Cencusub[\"Plataforma\"]=Tabla_Agenda_Cencusub[\"Nº pedido cliente\"].apply(lambda x: Agenda_name_Cencosub[re.findall(\"\\d*-\",x)[0]] if re.findall(\"\\d*-\",x)[0] in list(Agenda_name_Cencosub.keys()) else None)"
   ]
  },
  {
   "cell_type": "code",
   "execution_count": 27,
   "metadata": {},
   "outputs": [],
   "source": [
    "Agenda_name_Olimpica={\"TAT (SAO)\":\"\",\"Sanchez Polo\":\"\",\"Olimpica Bogota\":\"919\",\"Olimpica Cali\":\"955\",\"Olimpica 900 Cartagena\":\"900\",\"Olimpica 945 Cartagena\":\"945\"}\n",
    "Agenda_name_Leonisa_Nova_Lebon_Dolla={\"Lobon Inscra\":\"\",\"Leonisa\":\"\",\"Novaventa\":\"\",\"Dóllarcity\":\"\"}"
   ]
  },
  {
   "cell_type": "code",
   "execution_count": 22,
   "metadata": {},
   "outputs": [],
   "source": [
    "\"\"\"----------------------------------------Realizo las mayas de trabajos------------------------------------\"\"\"\n",
    "#Lunes\n",
    "Maya_Trabajo_Lunes={\"0085\":\"FUNZA\",\"0045\":\"SURTIMAYORISTAS\",\"60-\":\"BOGOTA\",\"93-\":\"MEDELLIN\",\"122-\":\"BARRANQUILLA\",\"127-\":\"BUCARAMANGA\",\"95-\":\"CALI\"}\n"
   ]
  },
  {
   "cell_type": "code",
   "execution_count": 23,
   "metadata": {},
   "outputs": [],
   "source": [
    "Maya_Trabajo_Martes={\"0085\":\"FUNZA\",\"0020\":\"VEGAS\",\"0146\":\"BARRANQUILLA\",\"0149\":\"BUCARAMANGA\",\"0050\":\"CALI\",\"0138\":\"PEREIRA\",\"60-\":\"BOGOTA\",\"0045\":\"SURTIMAYORISTAS\"}\n"
   ]
  },
  {
   "cell_type": "code",
   "execution_count": 30,
   "metadata": {},
   "outputs": [],
   "source": [
    "Maya_Trabajo_Miercoles={\"0085\":\"FUNZA\",\"0045\":\"SURTIMAYORISTAS\",\"TAT (SAO)\":\"\",\"Sanchez Polo\":\"\",\"Olimpica Cali\":\"955\"}"
   ]
  },
  {
   "cell_type": "code",
   "execution_count": 31,
   "metadata": {},
   "outputs": [],
   "source": [
    "Maya_Trabajo_Jueves={\"0020\":\"VEGAS\",\"0146\":\"BARRANQUILLA\",\"0149\":\"BUCARAMANGA\",\"Olimpica 900 Cartagena\":\"900\",\"Olimpica 945 Cartagena\":\"945\"}"
   ]
  },
  {
   "cell_type": "code",
   "execution_count": 32,
   "metadata": {},
   "outputs": [],
   "source": [
    "\n",
    "Maya_Trabajo_Viernes={\"0020\":\"VEGAS\",\"0146\":\"BARRANQUILLA\",\"0149\":\"BUCARAMANGA\",\"Olimpica 900 Cartagena\":\"900\",\"Olimpica 945 Cartagena\":\"945\"}"
   ]
  },
  {
   "cell_type": "code",
   "execution_count": 39,
   "metadata": {},
   "outputs": [
    {
     "data": {
      "text/html": [
       "<div>\n",
       "<style scoped>\n",
       "    .dataframe tbody tr th:only-of-type {\n",
       "        vertical-align: middle;\n",
       "    }\n",
       "\n",
       "    .dataframe tbody tr th {\n",
       "        vertical-align: top;\n",
       "    }\n",
       "\n",
       "    .dataframe thead th {\n",
       "        text-align: right;\n",
       "    }\n",
       "</style>\n",
       "<table border=\"1\" class=\"dataframe\">\n",
       "  <thead>\n",
       "    <tr style=\"text-align: right;\">\n",
       "      <th></th>\n",
       "      <th>CEDI</th>\n",
       "      <th>Pedido</th>\n",
       "    </tr>\n",
       "  </thead>\n",
       "  <tbody>\n",
       "    <tr>\n",
       "      <th>0</th>\n",
       "      <td>FUNZA</td>\n",
       "      <td>0085</td>\n",
       "    </tr>\n",
       "    <tr>\n",
       "      <th>1</th>\n",
       "      <td>VEGAS</td>\n",
       "      <td>0020</td>\n",
       "    </tr>\n",
       "    <tr>\n",
       "      <th>2</th>\n",
       "      <td>BARRANQUILLA</td>\n",
       "      <td>0146</td>\n",
       "    </tr>\n",
       "    <tr>\n",
       "      <th>3</th>\n",
       "      <td>BUCARAMANGA</td>\n",
       "      <td>0149</td>\n",
       "    </tr>\n",
       "    <tr>\n",
       "      <th>4</th>\n",
       "      <td>CALI</td>\n",
       "      <td>0050</td>\n",
       "    </tr>\n",
       "    <tr>\n",
       "      <th>5</th>\n",
       "      <td>PEREIRA</td>\n",
       "      <td>0138</td>\n",
       "    </tr>\n",
       "    <tr>\n",
       "      <th>6</th>\n",
       "      <td>SURTIMAYORISTAS</td>\n",
       "      <td>0045</td>\n",
       "    </tr>\n",
       "  </tbody>\n",
       "</table>\n",
       "</div>"
      ],
      "text/plain": [
       "              CEDI Pedido\n",
       "0            FUNZA   0085\n",
       "1            VEGAS   0020\n",
       "2     BARRANQUILLA   0146\n",
       "3      BUCARAMANGA   0149\n",
       "4             CALI   0050\n",
       "5          PEREIRA   0138\n",
       "6  SURTIMAYORISTAS   0045"
      ]
     },
     "execution_count": 39,
     "metadata": {},
     "output_type": "execute_result"
    }
   ],
   "source": [
    "Agenda_name_Exito={\"0085\",\"0020\",\"0146\",\"0149\",\"0050\",\"0138\",\"0045\"}\n",
    "Dia_lunes={\"CEDI\":[\"FUNZA\",\"VEGAS\",\"BARRANQUILLA\",\"BUCARAMANGA\",\"CALI\",\"PEREIRA\",\"SURTIMAYORISTAS\"],\"Pedido\":[\"0085\",\"0020\",\"0146\",\"0149\",\"0050\",\"0138\",\"0045\"]}\n",
    "pd.DataFrame(Dia_lunes)"
   ]
  },
  {
   "cell_type": "code",
   "execution_count": 63,
   "metadata": {},
   "outputs": [],
   "source": [
    "\n",
    "Dia_lunes={\"Plataforma\":[\"FUNZA\",\"FUNZA\",\"VEGAS\",\"VEGAS\",\"BARRANQUILLA\",\"BUCARAMANGA\",\"CALI\",\"PEREIRA\",\"SURTIMAYORISTAS\"],\"Pedido\":[\"0085\",\"0020\",\"0085\",\"0020\",\"0146\",\"0149\",\"0050\",\"0138\",\"0045\"],\"Dia Pedido\":[\"Martes\",\"Miercoles\",\"Lunes\",\"Martes\",\"Jueves\",\"Jueves\",\"Viernes\",\"Viernes\",\"Lunes\"]}\n",
    "dias=pd.DataFrame(Dia_lunes)"
   ]
  },
  {
   "cell_type": "code",
   "execution_count": 76,
   "metadata": {},
   "outputs": [
    {
     "data": {
      "text/plain": [
       "Index(['Nº pedido cliente', 'PrimFeEntr', 'ÚltEntrega', 'Clase Pedido',\n",
       "       'Cantidad', 'Material', 'Valor Neto', 'Plataforma', 'Dia Pedido'],\n",
       "      dtype='object')"
      ]
     },
     "execution_count": 76,
     "metadata": {},
     "output_type": "execute_result"
    }
   ],
   "source": [
    "test=pd.merge(Tabla_Agenda_Exito,dias,on=\"Plataforma\",how=\"inner\").drop(\"Pedido\",axis=1) \n",
    "test.columns\n"
   ]
  },
  {
   "cell_type": "code",
   "execution_count": 142,
   "metadata": {},
   "outputs": [],
   "source": [
    "prueba=test.groupby(['Nº pedido cliente', 'PrimFeEntr', 'ÚltEntrega', 'Clase Pedido',\n",
    "       'Cantidad', 'Material', 'Valor Neto', 'Plataforma','Dia Pedido']).agg({'Nº pedido cliente':lambda x: x.iloc[0],'Dia Pedido':lambda x: x.iloc[0]})"
   ]
  },
  {
   "cell_type": "code",
   "execution_count": 132,
   "metadata": {},
   "outputs": [
    {
     "data": {
      "text/plain": [
       "'Martes'"
      ]
     },
     "execution_count": 132,
     "metadata": {},
     "output_type": "execute_result"
    }
   ],
   "source": [
    "prueba.loc[prueba.index[1],'Dia Pedido']"
   ]
  }
 ],
 "metadata": {
  "kernelspec": {
   "display_name": "base",
   "language": "python",
   "name": "python3"
  },
  "language_info": {
   "codemirror_mode": {
    "name": "ipython",
    "version": 3
   },
   "file_extension": ".py",
   "mimetype": "text/x-python",
   "name": "python",
   "nbconvert_exporter": "python",
   "pygments_lexer": "ipython3",
   "version": "3.9.13"
  },
  "orig_nbformat": 4
 },
 "nbformat": 4,
 "nbformat_minor": 2
}
