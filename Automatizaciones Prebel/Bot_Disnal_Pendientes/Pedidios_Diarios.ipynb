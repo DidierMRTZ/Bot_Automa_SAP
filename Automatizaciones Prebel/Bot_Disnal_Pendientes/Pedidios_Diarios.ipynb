{
 "cells": [
  {
   "cell_type": "code",
   "execution_count": 92,
   "metadata": {},
   "outputs": [],
   "source": [
    "from dash import Dash, dash_table, dcc, html\n",
    "from dash.dependencies import Input, Output\n",
    "import pandas as pd\n",
    "from flask import Flask\n",
    "from Librerias_SAP import SAP_GUI, Funtions\n",
    "import pandas as pd\n",
    "import re\n",
    "from collections import OrderedDict\n",
    "from dash import dash_table as dt\n",
    "from dash import dcc\n",
    "from dash import html\n",
    "from dash.dependencies import Input\n",
    "from dash.dependencies import Output\n",
    "import numpy as np\n",
    "import dash_bootstrap_components as dbc\n",
    "from datetime import datetime, timedelta"
   ]
  },
  {
   "cell_type": "code",
   "execution_count": 93,
   "metadata": {},
   "outputs": [],
   "source": [
    "\"\"\"----------------------------Inciar session----------------------------------------------------\"\"\"\n",
    "# Insert User name and password\n",
    "\n",
    "Keys=pd.read_excel(\"C:\\\\Users\\\\prac.ingindustrial2\\\\OneDrive - Prebel S.A\\\\Escritorio\\\\SAP\\\\Claves\\\\Keys.xlsx\")\n",
    "user=Keys[\"User\"][0]\n",
    "password=Keys[\"Password\"][0]\n",
    "# Initialize session\n",
    "session=SAP_GUI.SessionSAP(user,password)"
   ]
  },
  {
   "cell_type": "code",
   "execution_count": 94,
   "metadata": {},
   "outputs": [],
   "source": [
    "Defaul_Column_Pedidos_dia=['Documento', 'GTr', 'Denomin.', 'ClVt', 'Denominación', 'Solic.',\n",
    "       'Creado el', 'Fecha doc.', 'Pedido', 'Func.', 'Responsab', 'Creado',\n",
    "       'OrgVt', 'CDis', 'Se', 'OfVta', 'GVen', 'Mon.', 'Valor neto']"
   ]
  },
  {
   "cell_type": "code",
   "execution_count": 95,
   "metadata": {},
   "outputs": [],
   "source": [
    "# PEDIDOSEXITO\n",
    "\n",
    "\n",
    "def Search_VA05N(Transsaccion,session,provision,variant):\n",
    "    session.StartTransaction(Transsaccion)\n",
    "    session.findById(\"wnd[0]/tbar[1]/btn[17]\").press()\n",
    "    session.findById(\"wnd[1]/usr/txtV-LOW\").text = provision\n",
    "    session.findById(\"wnd[1]/usr/txtENAME-LOW\").text = variant\n",
    "    session.findById(\"wnd[1]/usr/txtV-LOW\").caretPosition = 8\n",
    "    session.findById(\"wnd[1]/tbar[0]/btn[8]\").press()\n",
    "    session.findById(\"wnd[0]/tbar[1]/btn[8]\").press()\n",
    "    return(session)"
   ]
  },
  {
   "cell_type": "code",
   "execution_count": 96,
   "metadata": {},
   "outputs": [
    {
     "data": {
      "text/plain": [
       "<COMObject <unknown>>"
      ]
     },
     "execution_count": 96,
     "metadata": {},
     "output_type": "execute_result"
    }
   ],
   "source": [
    "Transsaccion='va05n'\n",
    "provision='PEDIDOSEXITO'\n",
    "variant='JESPINOSAP'\n",
    "\n",
    "Search_VA05N(Transsaccion,session,provision,variant)"
   ]
  },
  {
   "cell_type": "code",
   "execution_count": 97,
   "metadata": {},
   "outputs": [],
   "source": [
    "Name_VA05N=\"Pedidos_diarios\"\n",
    "Ruta_Exito_ZSD010_ZVMI=\"C:\\\\Users\\\\prac.ingindustrial2\\\\OneDrive - Prebel S.A\\\\Escritorio\\\\SAP\\\\Archivos_CSV\\\\\"\n",
    "SAP_GUI.Export_TXT2(Name_VA05N,session,Ruta_Exito_ZSD010_ZVMI)"
   ]
  },
  {
   "cell_type": "code",
   "execution_count": 98,
   "metadata": {},
   "outputs": [],
   "source": [
    "Pedidos_VN05N=pd.read_csv(Ruta_Exito_ZSD010_ZVMI+Name_VA05N+\".txt\",delimiter=\"\\t\",skiprows=1)\n",
    "Pedidos_VN05N=Funtions.Clean_Columns(Pedidos_VN05N)\n",
    "Pedidos_VN05N=Funtions.default_column(Defaul_Column_Pedidos_dia,Pedidos_VN05N)\n",
    "#Elimino pedidos con valores nulos\n",
    "Pedidos_VN05N=Pedidos_VN05N[Pedidos_VN05N['Pedido'].notnull()]"
   ]
  },
  {
   "cell_type": "code",
   "execution_count": 99,
   "metadata": {},
   "outputs": [
    {
     "data": {
      "text/plain": [
       "0       0020647408\n",
       "1       0020647394\n",
       "2       0020647407\n",
       "3       0020647408\n",
       "4       0020647392\n",
       "           ...    \n",
       "5508    0068022812\n",
       "5510    0408123275\n",
       "5526      PPFR8618\n",
       "5527    0029067961\n",
       "5528    0157102894\n",
       "Name: Pedido, Length: 5510, dtype: object"
      ]
     },
     "execution_count": 99,
     "metadata": {},
     "output_type": "execute_result"
    }
   ],
   "source": [
    "Pedidos_VN05N['Pedido']"
   ]
  },
  {
   "cell_type": "code",
   "execution_count": 100,
   "metadata": {},
   "outputs": [],
   "source": [
    "Agenda=[\"85\",\"20\",\"146\",\"149\",\"50\",\"138\",\"45\"]\n",
    "\n",
    "Pedidos_VN05N['Pedido']=Funtions.Estandarizo_Pedidos(Pedidos_VN05N['Pedido'])\n",
    "Pedidos_VN05N['Pedido']=Funtions.complete_pedidos(Pedidos_VN05N['Pedido'],Agenda)\n"
   ]
  },
  {
   "cell_type": "code",
   "execution_count": 101,
   "metadata": {},
   "outputs": [],
   "source": [
    "Lunes=[\"0085\"]\n",
    "\n",
    "\n",
    "buscar=Funtions.Search_Agenda_Exito(Pedidos_VN05N['Pedido'],Lunes)\n",
    "filtro_cencosub=Pedidos_VN05N[Pedidos_VN05N['Pedido'].isin(buscar)]"
   ]
  },
  {
   "cell_type": "code",
   "execution_count": 102,
   "metadata": {},
   "outputs": [
    {
     "data": {
      "text/plain": [
       "0085769642    62\n",
       "0085763459    61\n",
       "0085768255    60\n",
       "0085769564    60\n",
       "0085768075    60\n",
       "              ..\n",
       "0085764469     1\n",
       "0085763426     1\n",
       "0085763428     1\n",
       "0085769648     1\n",
       "0085770620     1\n",
       "Name: Pedido, Length: 145, dtype: int64"
      ]
     },
     "execution_count": 102,
     "metadata": {},
     "output_type": "execute_result"
    }
   ],
   "source": [
    "filtro_cencosub['Pedido'].value_counts()"
   ]
  },
  {
   "cell_type": "code",
   "execution_count": 106,
   "metadata": {},
   "outputs": [
    {
     "data": {
      "text/plain": [
       "0085761010    1\n",
       "0085768263    1\n",
       "0085768267    1\n",
       "0085768261    1\n",
       "0085768259    1\n",
       "             ..\n",
       "0085764471    1\n",
       "0085764470    1\n",
       "0085764463    1\n",
       "0085764490    1\n",
       "0085770620    1\n",
       "Name: Pedido, Length: 145, dtype: int64"
      ]
     },
     "execution_count": 106,
     "metadata": {},
     "output_type": "execute_result"
    }
   ],
   "source": [
    "filtro_cencosub['Pedido'].drop_duplicates().value_counts()"
   ]
  },
  {
   "cell_type": "code",
   "execution_count": 13,
   "metadata": {},
   "outputs": [
    {
     "ename": "com_error",
     "evalue": "(-2147352567, 'Ocurrió una excepción.', (619, 'SAP Frontend Server', 'The control could not be found by id.', 'C:\\\\Program Files (x86)\\\\SAP\\\\FrontEnd\\\\SAPgui\\\\sapfront.HLP', 393215, 0), None)",
     "output_type": "error",
     "traceback": [
      "\u001b[1;31m---------------------------------------------------------------------------\u001b[0m",
      "\u001b[1;31mcom_error\u001b[0m                                 Traceback (most recent call last)",
      "Cell \u001b[1;32mIn[13], line 1\u001b[0m\n\u001b[1;32m----> 1\u001b[0m session\u001b[39m.\u001b[39;49mfindById(\u001b[39m\"\u001b[39;49m\u001b[39mwnd[0]/usr/btn\u001b[39;49m\u001b[39m%\u001b[39;49m\u001b[39m_SO_DOC_E_\u001b[39;49m\u001b[39m%\u001b[39;49m\u001b[39m_APP_\u001b[39;49m\u001b[39m%\u001b[39;49m\u001b[39m-VALU_PUSH\u001b[39;49m\u001b[39m\"\u001b[39;49m)\u001b[39m.\u001b[39mpress()\n",
      "File \u001b[1;32m<COMObject <unknown>>:2\u001b[0m, in \u001b[0;36mfindById\u001b[1;34m(self, *args)\u001b[0m\n",
      "\u001b[1;31mcom_error\u001b[0m: (-2147352567, 'Ocurrió una excepción.', (619, 'SAP Frontend Server', 'The control could not be found by id.', 'C:\\\\Program Files (x86)\\\\SAP\\\\FrontEnd\\\\SAPgui\\\\sapfront.HLP', 393215, 0), None)"
     ]
    }
   ],
   "source": [
    "session.findById(\"wnd[0]/usr/btn%_SO_DOC_E_%_APP_%-VALU_PUSH\").press()"
   ]
  },
  {
   "cell_type": "code",
   "execution_count": 104,
   "metadata": {},
   "outputs": [],
   "source": [
    "def Search_VN05N(Transsaccion,Series,session):      #(column Dataframe)\n",
    "    \"\"\"\n",
    "    Transsaccion: Transsacion a buscar\n",
    "    Series: Columna del dataframe que quiero copiar\n",
    "    session: session del usuario\n",
    "    provision: disposicion de interes\n",
    "    \"\"\"\n",
    "    session.StartTransaction(Transsaccion)\n",
    "    Series=Series.to_clipboard(index=False, header=False)\n",
    "    session.findById(\"wnd[0]/usr/btn%_SO_BSTKD_%_APP_%-VALU_PUSH\").press()\n",
    "    session.findById(\"wnd[1]/tbar[0]/btn[24]\").press()\n",
    "    session.findById(\"wnd[1]/tbar[0]/btn[8]\").press()\n",
    "    session.findById(\"wnd[0]/tbar[1]/btn[8]\").press()\n"
   ]
  },
  {
   "cell_type": "code",
   "execution_count": 105,
   "metadata": {},
   "outputs": [],
   "source": [
    "Search_VN05N('zsd79',filtro_cencosub['Pedido'].drop_duplicates(),session)"
   ]
  },
  {
   "cell_type": "code",
   "execution_count": 107,
   "metadata": {},
   "outputs": [],
   "source": [
    "\n",
    "session.StartTransaction('zsd79')\n",
    "Series=filtro_cencosub['Pedido'].to_clipboard(index=False, header=False)\n",
    "session.findById(\"wnd[0]/usr/btn%_SO_BSTKD_%_APP_%-VALU_PUSH\").press()\n",
    "session.findById(\"wnd[1]/tbar[0]/btn[24]\").press()\n",
    "session.findById(\"wnd[1]/tbar[0]/btn[8]\").press()\n",
    "session.findById(\"wnd[0]/tbar[1]/btn[8]\").press()\n",
    "table=session.findById(\"wnd[0]/usr/cntlGRID1/shellcont/shell\")"
   ]
  },
  {
   "attachments": {},
   "cell_type": "markdown",
   "metadata": {},
   "source": [
    "# Nota no tiene entrega generada si Pedido Concluido Rojo y entrega conlcuida Verda"
   ]
  },
  {
   "cell_type": "code",
   "execution_count": 125,
   "metadata": {},
   "outputs": [],
   "source": [
    "table.SelectColumn(\"LFGSK\")\n",
    "table.SelectColumn(\"WBSTK\")"
   ]
  },
  {
   "cell_type": "code",
   "execution_count": 117,
   "metadata": {},
   "outputs": [],
   "source": [
    "#Columna Pedido concluido 1\n",
    "#table.GetCellValue(2,\"LFGSK\")\n",
    "table.SelectColumn(\"LFGSK\")\n",
    "table.SelectColumn(\"BUCHK\")\n",
    "#Columna entregas concluidas\n",
    "#Columna entregas\n",
    "#table.SelectColumn(\"ZAD\")\n",
    "#Columna entregas concluidas\n",
    "table.SelectColumn(\"WBSTK\")"
   ]
  },
  {
   "cell_type": "code",
   "execution_count": 89,
   "metadata": {},
   "outputs": [],
   "source": [
    "table.SelectColumn(\"LFGSK\")"
   ]
  },
  {
   "cell_type": "code",
   "execution_count": 126,
   "metadata": {},
   "outputs": [],
   "source": [
    "session.findById(\"wnd[0]/mbar/menu[1]/menu[3]\").select() \n",
    "session.findById(\"wnd[1]/usr/ssub%_SUBSCREEN_FREESEL:SAPLSSEL:1105/ctxt%%DYN001-LOW\").text = \"@0A@\"\n",
    "session.findById(\"wnd[1]/usr/ssub%_SUBSCREEN_FREESEL:SAPLSSEL:1105/ctxt%%DYN002-LOW\").text = \"@08@\" \n",
    "session.findById(\"wnd[1]/tbar[0]/btn[0]\").press()"
   ]
  },
  {
   "cell_type": "code",
   "execution_count": 128,
   "metadata": {},
   "outputs": [],
   "source": [
    "#Columna Pedido concluido 1\n",
    "table.GetCellValue(2,\"LFGSK\")\n",
    "\n",
    "#Columna entregas concluidas\n",
    "table.SelectColumn(\"WBSTK\")"
   ]
  },
  {
   "cell_type": "code",
   "execution_count": 129,
   "metadata": {},
   "outputs": [
    {
     "data": {
      "text/plain": [
       "'@0A@'"
      ]
     },
     "execution_count": 129,
     "metadata": {},
     "output_type": "execute_result"
    }
   ],
   "source": [
    "table.GetCellValue(2,\"LFGSK\")"
   ]
  },
  {
   "cell_type": "code",
   "execution_count": 142,
   "metadata": {},
   "outputs": [
    {
     "data": {
      "text/plain": [
       "'06.07.2023'"
      ]
     },
     "execution_count": 142,
     "metadata": {},
     "output_type": "execute_result"
    }
   ],
   "source": [
    "table.GetCellValue(2,\"BSTNK\")   #Nº Pedido cliente\n",
    "table.GetCellValue(2,\"AUART\")   #Clase Orden\n",
    "table.GetCellValue(2,\"AUDAT\")   #PrimFecEnt\n",
    "table.GetCellValue(2,\"VDATU\")   #ÚltEntrega"
   ]
  },
  {
   "cell_type": "code",
   "execution_count": 152,
   "metadata": {},
   "outputs": [
    {
     "name": "stdout",
     "output_type": "stream",
     "text": [
      "0085770424 ZVMI 29.06.2023 06.07.2023\n",
      "0085770425 ZVMI 29.06.2023 06.07.2023\n",
      "0085770426 ZVMI 29.06.2023 06.07.2023\n",
      "0085770427 ZVMI 29.06.2023 06.07.2023\n",
      "0085770428 ZVMI 29.06.2023 06.07.2023\n",
      "0085770429 ZVMI 29.06.2023 06.07.2023\n",
      "0085770430 ZVMI 29.06.2023 06.07.2023\n",
      "0085770431 ZVMI 29.06.2023 06.07.2023\n",
      "0085770432 ZVMI 29.06.2023 06.07.2023\n",
      "0085770433 ZVMI 29.06.2023 06.07.2023\n",
      "0085770589 ZVMI 29.06.2023 06.07.2023\n",
      "0085770620 ZVMI 29.06.2023 06.07.2023\n"
     ]
    }
   ],
   "source": [
    "Row=table.RowCount\n",
    "for i in range(0,Row):\n",
    "    Pedido_cliente,Clase_Orden,PrimFecEnt,ÚltEntrega=table.GetCellValue(i,\"BSTNK\"),table.GetCellValue(2,\"AUART\"),table.GetCellValue(2,\"AUDAT\"),table.GetCellValue(2,\"VDATU\") \n",
    "    print(Pedido_cliente,Clase_Orden,PrimFecEnt,ÚltEntrega)"
   ]
  },
  {
   "cell_type": "code",
   "execution_count": 74,
   "metadata": {},
   "outputs": [],
   "source": [
    "\"@0A@       Filtro Rojo\"      \"WBSTK\"   \"BUCHK\"\n",
    "#Columna entregas concluidas\n",
    "table.SelectColumn(\"BUCHK\")\n"
   ]
  },
  {
   "cell_type": "code",
   "execution_count": 67,
   "metadata": {},
   "outputs": [
    {
     "data": {
      "text/plain": [
       "'LFGSK'"
      ]
     },
     "execution_count": 67,
     "metadata": {},
     "output_type": "execute_result"
    }
   ],
   "source": [
    "#Columna entregas\n",
    "table.GetCellValue(2,\"ZAD\")\n",
    "\"LFGSK\""
   ]
  },
  {
   "cell_type": "code",
   "execution_count": 68,
   "metadata": {},
   "outputs": [],
   "source": []
  },
  {
   "cell_type": "code",
   "execution_count": 75,
   "metadata": {},
   "outputs": [],
   "source": [
    "from time import sleep"
   ]
  },
  {
   "cell_type": "code",
   "execution_count": 79,
   "metadata": {},
   "outputs": [],
   "source": [
    "sleep(1)\n",
    "session.findById(\"wnd[0]/mbar/menu[0]/menu[3]/menu[2]\").select()\n",
    "sleep(3)\n",
    "session.findById(\"wnd[1]/usr/subSUBSCREEN_STEPLOOP:SAPLSPO5:0150/sub:SAPLSPO5:0150/radSPOPLI-SELFLAG[1,0]\").select()\n",
    "sleep(3)"
   ]
  },
  {
   "cell_type": "code",
   "execution_count": 17,
   "metadata": {},
   "outputs": [],
   "source": [
    "def Export_TXT(Name,session,Ruta=None):\n",
    "    try:\n",
    "        session.findById(\"wnd[0]/mbar/menu[0]/menu[3]/menu[2]\").select()\n",
    "    except:\n",
    "        pass\n",
    "    finally:\n",
    "        session.findById(\"wnd[1]/usr/subSUBSCREEN_STEPLOOP:SAPLSPO5:0150/sub:SAPLSPO5:0150/radSPOPLI-SELFLAG[1,0]\").select()\n",
    "        session.findById(\"wnd[1]/tbar[0]/btn[0]\").press()\n",
    "        if Ruta==None:\n",
    "            session.findById(\"wnd[1]/usr/ctxtDY_PATH\").text = \"C:\\\\Users\\\\prac.ingindustrial2\\\\OneDrive - Prebel S.A\\\\Escritorio\\\\SAP\\\\Archivos_CSV\\\\\"\n",
    "        else:\n",
    "            session.findById(\"wnd[1]/usr/ctxtDY_PATH\").text = Ruta\n",
    "        session.findById(\"wnd[1]/usr/ctxtDY_FILENAME\").text = str(Name) + \".txt\"\n",
    "        session.findById(\"wnd[1]/usr/ctxtDY_FILE_ENCODING\").text = \"4310\"\n",
    "        session.findById(\"wnd[1]/tbar[0]/btn[11]\").press()"
   ]
  },
  {
   "cell_type": "code",
   "execution_count": 18,
   "metadata": {},
   "outputs": [],
   "source": [
    "Name_VA05N=\"Avisos_despacho\"\n",
    "Ruta_Exito_ZSD010_ZVMI=\"C:\\\\Users\\\\prac.ingindustrial2\\\\OneDrive - Prebel S.A\\\\Escritorio\\\\SAP\\\\Archivos_CSV\\\\\"\n",
    "Export_TXT(Name_VA05N,session,Ruta_Exito_ZSD010_ZVMI)"
   ]
  },
  {
   "cell_type": "code",
   "execution_count": 97,
   "metadata": {},
   "outputs": [
    {
     "data": {
      "text/html": [
       "<div>\n",
       "<style scoped>\n",
       "    .dataframe tbody tr th:only-of-type {\n",
       "        vertical-align: middle;\n",
       "    }\n",
       "\n",
       "    .dataframe tbody tr th {\n",
       "        vertical-align: top;\n",
       "    }\n",
       "\n",
       "    .dataframe thead th {\n",
       "        text-align: right;\n",
       "    }\n",
       "</style>\n",
       "<table border=\"1\" class=\"dataframe\">\n",
       "  <thead>\n",
       "    <tr style=\"text-align: right;\">\n",
       "      <th></th>\n",
       "      <th>Fecha doc.</th>\n",
       "      <th>Unnamed: 8</th>\n",
       "      <th>FePrefEnt.</th>\n",
       "      <th>Unnamed: 10</th>\n",
       "      <th>Pedido Concluido</th>\n",
       "      <th>Entregas Contab.</th>\n",
       "      <th>Fact. Gen-Cont.</th>\n",
       "      <th>Aviso D.</th>\n",
       "      <th>Fec. AD</th>\n",
       "      <th>Unnamed: 16</th>\n",
       "      <th>Reg. AD</th>\n",
       "      <th>F.Re. AD</th>\n",
       "      <th>Unnamed: 19</th>\n",
       "      <th>Borra. AD</th>\n",
       "      <th>F. Borr AD</th>\n",
       "    </tr>\n",
       "  </thead>\n",
       "  <tbody>\n",
       "    <tr>\n",
       "      <th>0</th>\n",
       "      <td>NaN</td>\n",
       "      <td>14.06.2023</td>\n",
       "      <td>NaN</td>\n",
       "      <td>17.06.2023</td>\n",
       "      <td>NaN</td>\n",
       "      <td>NaN</td>\n",
       "      <td>NaN</td>\n",
       "      <td>NaN</td>\n",
       "      <td>NaN</td>\n",
       "      <td>NaN</td>\n",
       "      <td>NaN</td>\n",
       "      <td>NaN</td>\n",
       "      <td>NaN</td>\n",
       "      <td>NaN</td>\n",
       "      <td>NaN</td>\n",
       "    </tr>\n",
       "    <tr>\n",
       "      <th>1</th>\n",
       "      <td>NaN</td>\n",
       "      <td>14.06.2023</td>\n",
       "      <td>NaN</td>\n",
       "      <td>17.06.2023</td>\n",
       "      <td>NaN</td>\n",
       "      <td>NaN</td>\n",
       "      <td>NaN</td>\n",
       "      <td>NaN</td>\n",
       "      <td>NaN</td>\n",
       "      <td>16.06.2023</td>\n",
       "      <td>NaN</td>\n",
       "      <td>NaN</td>\n",
       "      <td>NaN</td>\n",
       "      <td>NaN</td>\n",
       "      <td>NaN</td>\n",
       "    </tr>\n",
       "    <tr>\n",
       "      <th>2</th>\n",
       "      <td>NaN</td>\n",
       "      <td>14.06.2023</td>\n",
       "      <td>NaN</td>\n",
       "      <td>17.06.2023</td>\n",
       "      <td>NaN</td>\n",
       "      <td>NaN</td>\n",
       "      <td>NaN</td>\n",
       "      <td>NaN</td>\n",
       "      <td>NaN</td>\n",
       "      <td>16.06.2023</td>\n",
       "      <td>NaN</td>\n",
       "      <td>NaN</td>\n",
       "      <td>NaN</td>\n",
       "      <td>NaN</td>\n",
       "      <td>NaN</td>\n",
       "    </tr>\n",
       "    <tr>\n",
       "      <th>3</th>\n",
       "      <td>NaN</td>\n",
       "      <td>14.06.2023</td>\n",
       "      <td>NaN</td>\n",
       "      <td>17.06.2023</td>\n",
       "      <td>NaN</td>\n",
       "      <td>NaN</td>\n",
       "      <td>NaN</td>\n",
       "      <td>NaN</td>\n",
       "      <td>NaN</td>\n",
       "      <td>16.06.2023</td>\n",
       "      <td>NaN</td>\n",
       "      <td>NaN</td>\n",
       "      <td>NaN</td>\n",
       "      <td>NaN</td>\n",
       "      <td>NaN</td>\n",
       "    </tr>\n",
       "    <tr>\n",
       "      <th>4</th>\n",
       "      <td>NaN</td>\n",
       "      <td>14.06.2023</td>\n",
       "      <td>NaN</td>\n",
       "      <td>17.06.2023</td>\n",
       "      <td>NaN</td>\n",
       "      <td>NaN</td>\n",
       "      <td>NaN</td>\n",
       "      <td>NaN</td>\n",
       "      <td>NaN</td>\n",
       "      <td>16.06.2023</td>\n",
       "      <td>NaN</td>\n",
       "      <td>NaN</td>\n",
       "      <td>NaN</td>\n",
       "      <td>NaN</td>\n",
       "      <td>NaN</td>\n",
       "    </tr>\n",
       "    <tr>\n",
       "      <th>...</th>\n",
       "      <td>...</td>\n",
       "      <td>...</td>\n",
       "      <td>...</td>\n",
       "      <td>...</td>\n",
       "      <td>...</td>\n",
       "      <td>...</td>\n",
       "      <td>...</td>\n",
       "      <td>...</td>\n",
       "      <td>...</td>\n",
       "      <td>...</td>\n",
       "      <td>...</td>\n",
       "      <td>...</td>\n",
       "      <td>...</td>\n",
       "      <td>...</td>\n",
       "      <td>...</td>\n",
       "    </tr>\n",
       "    <tr>\n",
       "      <th>150</th>\n",
       "      <td>NaN</td>\n",
       "      <td>28.06.2023</td>\n",
       "      <td>NaN</td>\n",
       "      <td>06.07.2023</td>\n",
       "      <td>NaN</td>\n",
       "      <td>NaN</td>\n",
       "      <td>NaN</td>\n",
       "      <td>NaN</td>\n",
       "      <td>NaN</td>\n",
       "      <td>NaN</td>\n",
       "      <td>NaN</td>\n",
       "      <td>NaN</td>\n",
       "      <td>NaN</td>\n",
       "      <td>NaN</td>\n",
       "      <td>NaN</td>\n",
       "    </tr>\n",
       "    <tr>\n",
       "      <th>151</th>\n",
       "      <td>NaN</td>\n",
       "      <td>28.06.2023</td>\n",
       "      <td>NaN</td>\n",
       "      <td>01.07.2023</td>\n",
       "      <td>NaN</td>\n",
       "      <td>NaN</td>\n",
       "      <td>NaN</td>\n",
       "      <td>NaN</td>\n",
       "      <td>NaN</td>\n",
       "      <td>20.03.2019</td>\n",
       "      <td>NaN</td>\n",
       "      <td>NaN</td>\n",
       "      <td>NaN</td>\n",
       "      <td>NaN</td>\n",
       "      <td>NaN</td>\n",
       "    </tr>\n",
       "    <tr>\n",
       "      <th>152</th>\n",
       "      <td>NaN</td>\n",
       "      <td>28.06.2023</td>\n",
       "      <td>NaN</td>\n",
       "      <td>01.07.2023</td>\n",
       "      <td>NaN</td>\n",
       "      <td>NaN</td>\n",
       "      <td>NaN</td>\n",
       "      <td>NaN</td>\n",
       "      <td>NaN</td>\n",
       "      <td>20.03.2019</td>\n",
       "      <td>NaN</td>\n",
       "      <td>NaN</td>\n",
       "      <td>NaN</td>\n",
       "      <td>NaN</td>\n",
       "      <td>NaN</td>\n",
       "    </tr>\n",
       "    <tr>\n",
       "      <th>153</th>\n",
       "      <td>NaN</td>\n",
       "      <td>28.06.2023</td>\n",
       "      <td>NaN</td>\n",
       "      <td>08.07.2023</td>\n",
       "      <td>NaN</td>\n",
       "      <td>NaN</td>\n",
       "      <td>NaN</td>\n",
       "      <td>NaN</td>\n",
       "      <td>NaN</td>\n",
       "      <td>NaN</td>\n",
       "      <td>NaN</td>\n",
       "      <td>NaN</td>\n",
       "      <td>NaN</td>\n",
       "      <td>NaN</td>\n",
       "      <td>NaN</td>\n",
       "    </tr>\n",
       "    <tr>\n",
       "      <th>154</th>\n",
       "      <td>NaN</td>\n",
       "      <td>28.06.2023</td>\n",
       "      <td>NaN</td>\n",
       "      <td>08.07.2023</td>\n",
       "      <td>NaN</td>\n",
       "      <td>NaN</td>\n",
       "      <td>NaN</td>\n",
       "      <td>NaN</td>\n",
       "      <td>NaN</td>\n",
       "      <td>NaN</td>\n",
       "      <td>NaN</td>\n",
       "      <td>NaN</td>\n",
       "      <td>NaN</td>\n",
       "      <td>NaN</td>\n",
       "      <td>NaN</td>\n",
       "    </tr>\n",
       "  </tbody>\n",
       "</table>\n",
       "<p>155 rows × 15 columns</p>\n",
       "</div>"
      ],
      "text/plain": [
       "     Fecha doc.  Unnamed: 8  FePrefEnt. Unnamed: 10  Pedido Concluido  \\\n",
       "0           NaN  14.06.2023         NaN  17.06.2023               NaN   \n",
       "1           NaN  14.06.2023         NaN  17.06.2023               NaN   \n",
       "2           NaN  14.06.2023         NaN  17.06.2023               NaN   \n",
       "3           NaN  14.06.2023         NaN  17.06.2023               NaN   \n",
       "4           NaN  14.06.2023         NaN  17.06.2023               NaN   \n",
       "..          ...         ...         ...         ...               ...   \n",
       "150         NaN  28.06.2023         NaN  06.07.2023               NaN   \n",
       "151         NaN  28.06.2023         NaN  01.07.2023               NaN   \n",
       "152         NaN  28.06.2023         NaN  01.07.2023               NaN   \n",
       "153         NaN  28.06.2023         NaN  08.07.2023               NaN   \n",
       "154         NaN  28.06.2023         NaN  08.07.2023               NaN   \n",
       "\n",
       "     Entregas Contab.  Fact. Gen-Cont.  Aviso D.  Fec. AD Unnamed: 16  \\\n",
       "0                 NaN              NaN       NaN      NaN         NaN   \n",
       "1                 NaN              NaN       NaN      NaN  16.06.2023   \n",
       "2                 NaN              NaN       NaN      NaN  16.06.2023   \n",
       "3                 NaN              NaN       NaN      NaN  16.06.2023   \n",
       "4                 NaN              NaN       NaN      NaN  16.06.2023   \n",
       "..                ...              ...       ...      ...         ...   \n",
       "150               NaN              NaN       NaN      NaN         NaN   \n",
       "151               NaN              NaN       NaN      NaN  20.03.2019   \n",
       "152               NaN              NaN       NaN      NaN  20.03.2019   \n",
       "153               NaN              NaN       NaN      NaN         NaN   \n",
       "154               NaN              NaN       NaN      NaN         NaN   \n",
       "\n",
       "     Reg. AD  F.Re. AD Unnamed: 19  Borra. AD  F. Borr AD  \n",
       "0        NaN       NaN         NaN        NaN         NaN  \n",
       "1        NaN       NaN         NaN        NaN         NaN  \n",
       "2        NaN       NaN         NaN        NaN         NaN  \n",
       "3        NaN       NaN         NaN        NaN         NaN  \n",
       "4        NaN       NaN         NaN        NaN         NaN  \n",
       "..       ...       ...         ...        ...         ...  \n",
       "150      NaN       NaN         NaN        NaN         NaN  \n",
       "151      NaN       NaN         NaN        NaN         NaN  \n",
       "152      NaN       NaN         NaN        NaN         NaN  \n",
       "153      NaN       NaN         NaN        NaN         NaN  \n",
       "154      NaN       NaN         NaN        NaN         NaN  \n",
       "\n",
       "[155 rows x 15 columns]"
      ]
     },
     "execution_count": 97,
     "metadata": {},
     "output_type": "execute_result"
    }
   ],
   "source": [
    "pd.read_csv(Ruta_Exito_ZSD010_ZVMI+Name_VA05N+\".txt\",delimiter='\\t',skiprows=1)[['Fecha doc.', 'Unnamed: 8', 'FePrefEnt.',\n",
    "       'Unnamed: 10', 'Pedido Concluido', 'Entregas Contab.',\n",
    "       'Fact. Gen-Cont.', 'Aviso D.', 'Fec. AD', 'Unnamed: 16', 'Reg. AD',\n",
    "       'F.Re. AD', 'Unnamed: 19', 'Borra. AD', 'F. Borr AD']]"
   ]
  },
  {
   "cell_type": "code",
   "execution_count": 60,
   "metadata": {},
   "outputs": [],
   "source": [
    "prueba = pd.read_html(\"C:\\\\Users\\\\prac.ingindustrial2\\\\OneDrive - Prebel S.A\\\\Escritorio\\\\SAP\\\\Archivos_CSV\\\\Prueba.htm\")"
   ]
  },
  {
   "cell_type": "code",
   "execution_count": null,
   "metadata": {},
   "outputs": [],
   "source": []
  }
 ],
 "metadata": {
  "kernelspec": {
   "display_name": "base",
   "language": "python",
   "name": "python3"
  },
  "language_info": {
   "codemirror_mode": {
    "name": "ipython",
    "version": 3
   },
   "file_extension": ".py",
   "mimetype": "text/x-python",
   "name": "python",
   "nbconvert_exporter": "python",
   "pygments_lexer": "ipython3",
   "version": "3.9.13"
  },
  "orig_nbformat": 4
 },
 "nbformat": 4,
 "nbformat_minor": 2
}
