{
 "cells": [
  {
   "cell_type": "code",
   "execution_count": 71,
   "metadata": {},
   "outputs": [],
   "source": [
    "from dash import Dash, dash_table, dcc, html\n",
    "from dash.dependencies import Input, Output\n",
    "import pandas as pd\n",
    "from flask import Flask\n",
    "from Librerias_SAP import SAP_GUI, Funtions\n",
    "import pandas as pd\n",
    "import re\n",
    "from datetime import datetime,timedelta\n",
    "import numpy as np\n",
    "import win32com.client"
   ]
  },
  {
   "cell_type": "code",
   "execution_count": 72,
   "metadata": {},
   "outputs": [],
   "source": [
    "\"\"\"----------------------------Inciar session----------------------------------------------------\"\"\"\n",
    "# Insert User name and password\n",
    "\n",
    "Keys=pd.read_excel(\"C:\\\\Users\\\\prac.ingindustrial2\\\\OneDrive - Prebel S.A\\\\Escritorio\\\\SAP\\\\Claves\\\\Keys.xlsx\")\n",
    "user=Keys[\"User\"][0]\n",
    "password=Keys[\"Password\"][0]\n",
    "# Initialize session\n",
    "session=SAP_GUI.SessionSAP(user,password)"
   ]
  },
  {
   "cell_type": "code",
   "execution_count": 73,
   "metadata": {},
   "outputs": [],
   "source": [
    "Defaul_Column_Pedidos_dia=['Documento', 'GTr', 'Denomin.', 'ClVt', 'Denominación', 'Solic.',\n",
    "       'Creado el', 'Fecha doc.', 'Pedido', 'Func.', 'Responsab', 'Creado',\n",
    "       'OrgVt', 'CDis', 'Se', 'OfVta', 'GVen', 'Mon.', 'Valor neto']"
   ]
  },
  {
   "cell_type": "code",
   "execution_count": 74,
   "metadata": {},
   "outputs": [
    {
     "ename": "com_error",
     "evalue": "(-2147352567, 'Ocurrió una excepción.', (619, 'SAP Frontend Server', 'The control could not be found by id.', 'C:\\\\Program Files (x86)\\\\SAP\\\\FrontEnd\\\\SAPgui\\\\sapfront.HLP', 393215, 0), None)",
     "output_type": "error",
     "traceback": [
      "\u001b[1;31m---------------------------------------------------------------------------\u001b[0m",
      "\u001b[1;31mcom_error\u001b[0m                                 Traceback (most recent call last)",
      "Cell \u001b[1;32mIn[74], line 6\u001b[0m\n\u001b[0;32m      3\u001b[0m provision\u001b[39m=\u001b[39m\u001b[39m'\u001b[39m\u001b[39mPEDIDOSEXTCEN\u001b[39m\u001b[39m'\u001b[39m\n\u001b[0;32m      4\u001b[0m variant\u001b[39m=\u001b[39m\u001b[39m'\u001b[39m\u001b[39mJESPINOSAP\u001b[39m\u001b[39m'\u001b[39m\n\u001b[1;32m----> 6\u001b[0m SAP_GUI\u001b[39m.\u001b[39;49mSearch_VA05N(Transsaccion,session,provision,variant)\n",
      "File \u001b[1;32mc:\\Users\\prac.ingindustrial2\\Bot_Automa_SAP\\Automatizaciones Prebel\\Bot_Disnal_Pendientes\\Librerias_SAP\\SAP_GUI.py:408\u001b[0m, in \u001b[0;36mSearch_VA05N\u001b[1;34m(Transsaccion, session, provision, variant)\u001b[0m\n\u001b[0;32m    406\u001b[0m \u001b[39mdef\u001b[39;00m \u001b[39mSearch_VA05N\u001b[39m(Transsaccion,session,provision,variant):\n\u001b[0;32m    407\u001b[0m     session\u001b[39m.\u001b[39mStartTransaction(Transsaccion)\n\u001b[1;32m--> 408\u001b[0m     session\u001b[39m.\u001b[39;49mfindById(\u001b[39m\"\u001b[39;49m\u001b[39mwnd[0]/tbar[1]/btn[17]\u001b[39;49m\u001b[39m\"\u001b[39;49m)\u001b[39m.\u001b[39mpress()\n\u001b[0;32m    409\u001b[0m     session\u001b[39m.\u001b[39mfindById(\u001b[39m\"\u001b[39m\u001b[39mwnd[1]/usr/txtV-LOW\u001b[39m\u001b[39m\"\u001b[39m)\u001b[39m.\u001b[39mtext \u001b[39m=\u001b[39m provision\n\u001b[0;32m    410\u001b[0m     session\u001b[39m.\u001b[39mfindById(\u001b[39m\"\u001b[39m\u001b[39mwnd[1]/usr/txtENAME-LOW\u001b[39m\u001b[39m\"\u001b[39m)\u001b[39m.\u001b[39mtext \u001b[39m=\u001b[39m variant\n",
      "File \u001b[1;32m<COMObject <unknown>>:2\u001b[0m, in \u001b[0;36mfindById\u001b[1;34m(self, *args)\u001b[0m\n",
      "\u001b[1;31mcom_error\u001b[0m: (-2147352567, 'Ocurrió una excepción.', (619, 'SAP Frontend Server', 'The control could not be found by id.', 'C:\\\\Program Files (x86)\\\\SAP\\\\FrontEnd\\\\SAPgui\\\\sapfront.HLP', 393215, 0), None)"
     ]
    }
   ],
   "source": [
    "# PEDIDOSEXITO\n",
    "Transsaccion='va05n'\n",
    "provision='PEDIDOSEXTCEN'\n",
    "variant='JESPINOSAP'\n",
    "\n",
    "SAP_GUI.Search_VA05N(Transsaccion,session,provision,variant)"
   ]
  },
  {
   "cell_type": "code",
   "execution_count": null,
   "metadata": {},
   "outputs": [],
   "source": [
    "Name_VA05N=\"Pedidos_diarios\"\n",
    "Ruta_VA05N=\"C:\\\\Users\\\\prac.ingindustrial2\\\\OneDrive - Prebel S.A\\\\Escritorio\\\\SAP\\\\Archivos_CSV\\\\\"\n",
    "SAP_GUI.Export_TXT2(Name_VA05N,session,Ruta_VA05N)"
   ]
  },
  {
   "cell_type": "code",
   "execution_count": null,
   "metadata": {},
   "outputs": [],
   "source": [
    "Pedidos_VN05N=pd.read_csv(Ruta_VA05N+Name_VA05N+\".txt\",delimiter=\"\\t\",skiprows=1)\n",
    "Pedidos_VN05N=Funtions.Clean_Columns(Pedidos_VN05N)\n",
    "Pedidos_VN05N=Funtions.default_column(Defaul_Column_Pedidos_dia,Pedidos_VN05N)\n",
    "#Elimino pedidos con valores nulos\n",
    "Pedidos_VN05N=Pedidos_VN05N[Pedidos_VN05N['Pedido'].notnull()]"
   ]
  },
  {
   "cell_type": "code",
   "execution_count": null,
   "metadata": {},
   "outputs": [],
   "source": [
    "# Estandarizo\n",
    "\n",
    "Agenda=[\"85\",\"20\",\"146\",\"149\",\"50\",\"138\",\"45\"]\n",
    "\n",
    "Pedidos_VN05N['Pedido']=Funtions.Estandarizo_Pedidos(Pedidos_VN05N['Pedido'])\n",
    "Pedidos_VN05N['Pedido']=Funtions.complete_pedidos(Pedidos_VN05N['Pedido'],Agenda)"
   ]
  },
  {
   "attachments": {},
   "cell_type": "markdown",
   "metadata": {},
   "source": [
    "# Condicion especial para el filtro por cliente"
   ]
  },
  {
   "cell_type": "code",
   "execution_count": null,
   "metadata": {},
   "outputs": [],
   "source": [
    "#Dia actual\n",
    "now=datetime.now().date()\n",
    "\n",
    "if now.strftime(\"%A\")=='Monday':\n",
    "    #Clientes lunes\n",
    "    Lunes_Cliente_Exito=[\"0085\",\"0045\"]  #\"0085\"  Funza, Surtimayoristas\n",
    "    Lunes_Cliente_Cencosub=[\"93\",\"122\",\"127\",\"95\"] #\"93-\",\"122-\",\"127-\" Medellin, Barranquilla, Bucaramanga y cali\n",
    "    buscar_exito=Funtions.Search_Agenda_Exito(Pedidos_VN05N['Pedido'],Lunes_Cliente_Exito)\n",
    "    buscar_cencosub=Funtions.Search_agenda_Cencosub(Pedidos_VN05N['Pedido'],Lunes_Cliente_Cencosub)\n",
    "    filtro_exito_dia=Pedidos_VN05N[Pedidos_VN05N['Pedido'].isin(buscar_exito)]\n",
    "    filtro_cencosub_dia=Pedidos_VN05N[Pedidos_VN05N['Pedido'].isin(buscar_cencosub)]\n",
    "elif now.strftime(\"%A\")=='Tuesday':\n",
    "    #Clientes Martes\n",
    "    Martes_Cliente_Exito=[\"0020\",\"0045\"]  #\"0020\"  VEGAS, Surtimayoristas\n",
    "    Martes_Cliente_Cencosub=[\"93\",\"122\",\"127\"] #\"93-\",\"122-\",\"127-\" Medellin, Barranquilla y Bucaramanga\n",
    "    buscar_exito=Funtions.Search_Agenda_Exito(Pedidos_VN05N['Pedido'],Martes_Cliente_Exito)\n",
    "    buscar_cencosub=Funtions.Search_agenda_Cencosub(Pedidos_VN05N['Pedido'],Martes_Cliente_Cencosub)\n",
    "    filtro_exito_dia=Pedidos_VN05N[Pedidos_VN05N['Pedido'].isin(buscar_exito)]\n",
    "    filtro_cencosub_dia=Pedidos_VN05N[Pedidos_VN05N['Pedido'].isin(buscar_cencosub)]\n",
    "elif now.strftime(\"%A\")=='Wednesday':\n",
    "    #Clientes Miercoles\n",
    "    Miecoles_Cliente_Exito=[\"0085\",\"0045\"]  #\"0085\"  Funza\n",
    "    Martes_Cliente_Cencosub=[\"Sin programa\"]\n",
    "    buscar_exito=Funtions.Search_Agenda_Exito(Pedidos_VN05N['Pedido'],Miecoles_Cliente_Exito)\n",
    "    buscar_cencosub=Funtions.Search_agenda_Cencosub(Pedidos_VN05N['Pedido'],Martes_Cliente_Cencosub)\n",
    "    filtro_exito_dia=Pedidos_VN05N[Pedidos_VN05N['Pedido'].isin(buscar_exito)]\n",
    "    filtro_cencosub_dia=Pedidos_VN05N[Pedidos_VN05N['Pedido'].isin(buscar_cencosub)]\n",
    "elif now.strftime(\"%A\")=='Thursday':   \n",
    "    #Clientes Jueves\n",
    "    Jueves_Cliente_Exito=[\"0020\",\"0146\",\"0149\",\"0045\"]  #\"0020\"  VEGAS, Barranquilla, Bucaramanga, Surtimayoristas\n",
    "    Jueves_Cliente_Cencosub=[\"93\",\"122\",\"127\"] #\"93-\",\"122-\",\"127-\" Medellin, Barranquilla y Bucaramanga\n",
    "    buscar_exito=Funtions.Search_Agenda_Exito(Pedidos_VN05N['Pedido'],Jueves_Cliente_Exito)\n",
    "    buscar_cencosub=Funtions.Search_agenda_Cencosub(Pedidos_VN05N['Pedido'],Jueves_Cliente_Cencosub)\n",
    "    filtro_exito_dia=Pedidos_VN05N[Pedidos_VN05N['Pedido'].isin(buscar_exito)]\n",
    "    filtro_cencosub_dia=Pedidos_VN05N[Pedidos_VN05N['Pedido'].isin(buscar_cencosub)]\n",
    "elif now.strftime(\"%A\")=='Friday': \n",
    "    #Clientes Jueves\n",
    "    Viernes_Cliente_Exito=[\"0050\",\"0138\",\"0045\"]  #\"0020\"  Cali, Pereira, Surtimayoristas \n",
    "    Viernes_Cliente_Cencosub=[\"60\"] #\"60\" Bogota\n",
    "    buscar_exito=Funtions.Search_Agenda_Exito(Pedidos_VN05N['Pedido'],Viernes_Cliente_Exito)\n",
    "    buscar_cencosub=Funtions.Search_agenda_Cencosub(Pedidos_VN05N['Pedido'],Viernes_Cliente_Cencosub)\n",
    "    filtro_exito_dia=Pedidos_VN05N[Pedidos_VN05N['Pedido'].isin(buscar_exito)]\n",
    "    filtro_cencosub_dia=Pedidos_VN05N[Pedidos_VN05N['Pedido'].isin(buscar_cencosub)]"
   ]
  },
  {
   "cell_type": "code",
   "execution_count": null,
   "metadata": {},
   "outputs": [],
   "source": [
    "filtro_exito_cencosub_dia=pd.concat([filtro_exito_dia['Pedido'],filtro_cencosub_dia['Pedido']])"
   ]
  },
  {
   "cell_type": "code",
   "execution_count": null,
   "metadata": {},
   "outputs": [],
   "source": [
    "#Busco los que tengan Pedidos, Entregados, Despachados y facturados. \n",
    "Tabla_ZSD79=SAP_GUI.Search_ZSD79('zsd79',filtro_exito_cencosub_dia,session)"
   ]
  },
  {
   "attachments": {},
   "cell_type": "markdown",
   "metadata": {},
   "source": [
    "# Nota no tiene entrega generada si Pedido Concluido Rojo y entrega conlcuida Verda"
   ]
  },
  {
   "cell_type": "code",
   "execution_count": null,
   "metadata": {},
   "outputs": [],
   "source": [
    "def Search_Table_ZSD79(table,session):\n",
    "    \"\"\"\n",
    "    -table: Tabla ZSD79\n",
    "    -session: session\n",
    "    (Busca filtro especial de colores)\n",
    "    \"\"\"\n",
    "    #Columna Pedido concluido \n",
    "    table.SelectColumn(\"LFGSK\")\n",
    "    #Columna entregas concluidas\n",
    "    table.SelectColumn(\"WBSTK\")\n",
    "    session.findById(\"wnd[0]/mbar/menu[1]/menu[3]\").select() \n",
    "    session.findById(\"wnd[1]/usr/ssub%_SUBSCREEN_FREESEL:SAPLSSEL:1105/ctxt%%DYN001-LOW\").text = \"@0A@\"  #Rojo Pedido\n",
    "    session.findById(\"wnd[1]/usr/ssub%_SUBSCREEN_FREESEL:SAPLSSEL:1105/ctxt%%DYN002-LOW\").text = \"@08@\"  #Verde Entrega\n",
    "    session.findById(\"wnd[1]/tbar[0]/btn[0]\").press()\n",
    "    Row=table.RowCount\n",
    "    dic={\"Nº Pedido cliente\":[],\"Clase Orden\":[],\"PrimFecEnt\":[],\"ÚltEntrega\":[]}\n",
    "    for i in range(0,Row):\n",
    "        #Nº Pedido cliente Col \"BSTNK\"\n",
    "        #Clase Orden Col \"AUART\"\n",
    "        #PrimFecEnt Col \"AUDAT\"\n",
    "        #ÚltEntrega Col \"VDATU\"\n",
    "        Pedido_cliente,Clase_Orden,PrimFecEnt,ÚltEntrega=table.GetCellValue(i,\"BSTNK\"),table.GetCellValue(i,\"AUART\"),table.GetCellValue(i,\"AUDAT\"),table.GetCellValue(i,\"VDATU\") \n",
    "        dic[\"Nº Pedido cliente\"].append(Pedido_cliente)\n",
    "        dic[\"Clase Orden\"].append(Clase_Orden)\n",
    "        dic[\"PrimFecEnt\"].append(PrimFecEnt)\n",
    "        dic[\"ÚltEntrega\"].append(ÚltEntrega)\n",
    "    return(pd.DataFrame(dic))"
   ]
  },
  {
   "cell_type": "code",
   "execution_count": null,
   "metadata": {},
   "outputs": [],
   "source": [
    "#Buscar los pedidos diarios de clientes\n",
    "Tabla_Consolidado_Diaria=Search_Table_ZSD79(Tabla_ZSD79,session)"
   ]
  },
  {
   "cell_type": "code",
   "execution_count": null,
   "metadata": {},
   "outputs": [],
   "source": [
    "\"\"\"Send email\"\"\"\n",
    "\n",
    "correos=\"prac.ingindustrial2@prebel.com.co\"\n",
    "\n",
    "def send_emails(*args,emails=\"\",htmlbody=\"\",subject=\"\"):\n",
    "    email=emails\n",
    "    outlook=win32com.client.Dispatch(\"outlook.application\")\n",
    "    mail=outlook.CreateItem(0)\n",
    "    mail.Subject=subject+\" \"+datetime.now().strftime('%#d %b %Y %H:%M')\n",
    "    mail.To=email\n",
    "    mail.HTMLBody=htmlbody.format(*args)\n",
    "    mail.Send()\n",
    "\n",
    "\n",
    "def style_df(df):\n",
    "    \"\"\"\n",
    "    -df: Dataframe\n",
    "    -column: Nombre de la columna en Str\n",
    "    -value_left:Rango de valor izquierdo\n",
    "    -value_right: Rango de valor derecho\n",
    "    \"\"\"\n",
    "    return df.style \\\n",
    "        .set_table_styles([{'selector': \"table,tr,th,td\", 'props': [(\"border\", \"1px solid\"), ('color', '#000'),(\"text-align\",\"center\")]}]) \\\n",
    "\n"
   ]
  },
  {
   "cell_type": "code",
   "execution_count": null,
   "metadata": {},
   "outputs": [],
   "source": [
    "html=\"\"\"\n",
    "    <h2 style=\"text-align: center\">INFORME DE PEDIDOS DIARIOS</h2>\n",
    "    <p> Por medio del presente informe se evidencia las permanencia de pedidos diarios pendientes de entrega</p>\n",
    "\n",
    "    <div\">{0}</div>\n",
    "\n",
    "    <p> Anticipo sinceros agradecimientos. </p>\n",
    " \"\"\"\n",
    "\n",
    "#Tabla=style_df(Tabla)     #Style between LI and LS\n",
    "\n",
    "send_emails(Tabla_Consolidado_Diaria.to_html(),emails=correos,htmlbody=html,subject=\"INFORME DE PEDIDOS DIARIOS\")"
   ]
  },
  {
   "cell_type": "code",
   "execution_count": null,
   "metadata": {},
   "outputs": [],
   "source": [
    "Tabla_Consolidado_Diaria.to_csv(\"C:\\\\Users\\\\prac.ingindustrial2\\\\OneDrive - Prebel S.A\\\\Escritorio\\\\SAP\\\\Archivos_CSV\\\\Tabla_Consolidado_Diaria.txt\",sep='\\t',index=False)"
   ]
  }
 ],
 "metadata": {
  "kernelspec": {
   "display_name": "base",
   "language": "python",
   "name": "python3"
  },
  "language_info": {
   "codemirror_mode": {
    "name": "ipython",
    "version": 3
   },
   "file_extension": ".py",
   "mimetype": "text/x-python",
   "name": "python",
   "nbconvert_exporter": "python",
   "pygments_lexer": "ipython3",
   "version": "3.9.13"
  },
  "orig_nbformat": 4
 },
 "nbformat": 4,
 "nbformat_minor": 2
}
