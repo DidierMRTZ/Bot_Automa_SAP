{
 "cells": [
  {
   "cell_type": "code",
   "execution_count": 1,
   "metadata": {},
   "outputs": [],
   "source": [
    "from dash import Dash, dash_table, dcc, html\n",
    "from dash.dependencies import Input, Output\n",
    "import pandas as pd\n",
    "from flask import Flask\n",
    "from Librerias_SAP import SAP_GUI, Funtions\n",
    "import pandas as pd\n",
    "import re\n",
    "from collections import OrderedDict\n",
    "from dash import dash_table as dt\n",
    "from dash import dcc\n",
    "from dash import html\n",
    "from dash.dependencies import Input\n",
    "from dash.dependencies import Output\n",
    "import numpy as np\n",
    "import dash_bootstrap_components as dbc\n",
    "from datetime import datetime, timedelta"
   ]
  },
  {
   "cell_type": "code",
   "execution_count": 2,
   "metadata": {},
   "outputs": [],
   "source": [
    "\"\"\"----------------------------Inciar session----------------------------------------------------\"\"\"\n",
    "# Insert User name and password\n",
    "\n",
    "Keys=pd.read_excel(\"C:\\\\Users\\\\prac.ingindustrial2\\\\OneDrive - Prebel S.A\\\\Escritorio\\\\SAP\\\\Claves\\\\Keys.xlsx\")\n",
    "user=Keys[\"User\"][0]\n",
    "password=Keys[\"Password\"][0]\n",
    "# Initialize session\n",
    "session=SAP_GUI.SessionSAP(user,password)"
   ]
  },
  {
   "cell_type": "code",
   "execution_count": 3,
   "metadata": {},
   "outputs": [],
   "source": [
    "Defaul_Column_Pedidos_dia=['Documento', 'GTr', 'Denomin.', 'ClVt', 'Denominación', 'Solic.',\n",
    "       'Creado el', 'Fecha doc.', 'Pedido', 'Func.', 'Responsab', 'Creado',\n",
    "       'OrgVt', 'CDis', 'Se', 'OfVta', 'GVen', 'Mon.', 'Valor neto']"
   ]
  },
  {
   "cell_type": "code",
   "execution_count": 4,
   "metadata": {},
   "outputs": [
    {
     "data": {
      "text/plain": [
       "<COMObject <unknown>>"
      ]
     },
     "execution_count": 4,
     "metadata": {},
     "output_type": "execute_result"
    }
   ],
   "source": [
    "# PEDIDOSEXITO\n",
    "Transsaccion='va05n'\n",
    "provision='PEDIDOSEXITO'\n",
    "variant='JESPINOSAP'\n",
    "\n",
    "SAP_GUI.Search_VA05N(Transsaccion,session,provision,variant)"
   ]
  },
  {
   "cell_type": "code",
   "execution_count": 5,
   "metadata": {},
   "outputs": [],
   "source": [
    "Name_VA05N=\"Pedidos_diarios\"\n",
    "Ruta_Exito_ZSD010_ZVMI=\"C:\\\\Users\\\\prac.ingindustrial2\\\\OneDrive - Prebel S.A\\\\Escritorio\\\\SAP\\\\Archivos_CSV\\\\\"\n",
    "SAP_GUI.Export_TXT2(Name_VA05N,session,Ruta_Exito_ZSD010_ZVMI)"
   ]
  },
  {
   "cell_type": "code",
   "execution_count": 6,
   "metadata": {},
   "outputs": [],
   "source": [
    "Pedidos_VN05N=pd.read_csv(Ruta_Exito_ZSD010_ZVMI+Name_VA05N+\".txt\",delimiter=\"\\t\",skiprows=1)\n",
    "Pedidos_VN05N=Funtions.Clean_Columns(Pedidos_VN05N)\n",
    "Pedidos_VN05N=Funtions.default_column(Defaul_Column_Pedidos_dia,Pedidos_VN05N)\n",
    "#Elimino pedidos con valores nulos\n",
    "Pedidos_VN05N=Pedidos_VN05N[Pedidos_VN05N['Pedido'].notnull()]"
   ]
  },
  {
   "cell_type": "code",
   "execution_count": 9,
   "metadata": {},
   "outputs": [],
   "source": [
    "# Estandarizo\n",
    "\n",
    "Agenda=[\"85\",\"20\",\"146\",\"149\",\"50\",\"138\",\"45\"]\n",
    "\n",
    "Pedidos_VN05N['Pedido']=Funtions.Estandarizo_Pedidos(Pedidos_VN05N['Pedido'])\n",
    "Pedidos_VN05N['Pedido']=Funtions.complete_pedidos(Pedidos_VN05N['Pedido'],Agenda)"
   ]
  },
  {
   "attachments": {},
   "cell_type": "markdown",
   "metadata": {},
   "source": [
    "# Condicion especial para el filtro por cliente"
   ]
  },
  {
   "cell_type": "code",
   "execution_count": 46,
   "metadata": {},
   "outputs": [],
   "source": [
    "#Clientes lunes\n",
    "Lunes_Cliente_Exito=[\"0085\",\"0045\"]  #\"0085\"  Funza, Surtimayoristas\n",
    "Lunes_Cliente_Cencosub=[\"93-\",\"122-\",\"127-\",\"95-\"] #\"93-\",\"122-\",\"127-\" Medellin, Barranquilla, Bucaramanga y cali\n",
    "#Clientes Martes\n",
    "Martes_Cliente_Exito=[\"0020\",\"0045\"]  #\"0020\"  VEGAS, Surtimayoristas\n",
    "Martes_Cliente_Cencosub=[\"93-\",\"122-\",\"127-\"] #\"93-\",\"122-\",\"127-\" Medellin, Barranquilla y Bucaramanga\n",
    "#Clientes Miercoles\n",
    "Miecoles_Cliente_Exito=[\"0020\",\"0045\"]  #\"0085\"  Funza\n",
    "#Clientes Jueves\n",
    "Jueves_Cliente_Exito=[\"0020\",\"0146\",\"0149\",\"0045\"]  #\"0020\"  VEGAS, Barranquilla, Bucaramanga, Surtimayoristas\n",
    "Jueves_Cliente_Cencosub=[\"93-\",\"122-\",\"127-\"] #\"93-\",\"122-\",\"127-\" Medellin, Barranquilla y Bucaramanga\n",
    "#Clientes Jueves\n",
    "Viernes_Cliente_Exito=[\"0050\",\"0138\",\"0045\"]  #\"0020\"  Cali, Pereira, Surtimayoristas \n",
    "Viernes_Cliente_Cencosub=[\"60-\"] #\"60\" Bogota"
   ]
  },
  {
   "cell_type": "code",
   "execution_count": 13,
   "metadata": {},
   "outputs": [],
   "source": [
    "Lunes=[\"0085\"]\n",
    "\n",
    "buscar=Funtions.Search_Agenda_Exito(Pedidos_VN05N['Pedido'],Lunes)\n",
    "filtro_cencosub=Pedidos_VN05N[Pedidos_VN05N['Pedido'].isin(buscar)]"
   ]
  },
  {
   "cell_type": "code",
   "execution_count": 14,
   "metadata": {},
   "outputs": [
    {
     "data": {
      "text/plain": [
       "0085761010    1\n",
       "0085768263    1\n",
       "0085768267    1\n",
       "0085768261    1\n",
       "0085768259    1\n",
       "             ..\n",
       "0085764471    1\n",
       "0085764470    1\n",
       "0085764463    1\n",
       "0085764490    1\n",
       "0085770620    1\n",
       "Name: Pedido, Length: 145, dtype: int64"
      ]
     },
     "execution_count": 14,
     "metadata": {},
     "output_type": "execute_result"
    }
   ],
   "source": [
    "filtro_cencosub['Pedido'].drop_duplicates().value_counts()"
   ]
  },
  {
   "cell_type": "code",
   "execution_count": 16,
   "metadata": {},
   "outputs": [],
   "source": [
    "#Busco los que tengan Pedidos, Entregados, Despachados y facturados. \n",
    "Tabla_ZSD79=SAP_GUI.Search_ZSD79('zsd79',filtro_cencosub['Pedido'].drop_duplicates(),session)"
   ]
  },
  {
   "cell_type": "code",
   "execution_count": 17,
   "metadata": {},
   "outputs": [],
   "source": [
    "table=Tabla_ZSD79"
   ]
  },
  {
   "attachments": {},
   "cell_type": "markdown",
   "metadata": {},
   "source": [
    "# Nota no tiene entrega generada si Pedido Concluido Rojo y entrega conlcuida Verda"
   ]
  },
  {
   "cell_type": "code",
   "execution_count": 45,
   "metadata": {},
   "outputs": [],
   "source": [
    "def Search_Table_ZSD79(table,session):\n",
    "    \"\"\"\n",
    "    -table: Tabla ZSD79\n",
    "    -session: session\n",
    "    (Busca filtro especial de colores)\n",
    "    \"\"\"\n",
    "    #Columna Pedido concluido \n",
    "    table.SelectColumn(\"LFGSK\")\n",
    "    #Columna entregas concluidas\n",
    "    table.SelectColumn(\"WBSTK\")\n",
    "    session.findById(\"wnd[0]/mbar/menu[1]/menu[3]\").select() \n",
    "    session.findById(\"wnd[1]/usr/ssub%_SUBSCREEN_FREESEL:SAPLSSEL:1105/ctxt%%DYN001-LOW\").text = \"@0A@\"  #Rojo Pedido\n",
    "    session.findById(\"wnd[1]/usr/ssub%_SUBSCREEN_FREESEL:SAPLSSEL:1105/ctxt%%DYN002-LOW\").text = \"@08@\"  #Verde Entrega\n",
    "    session.findById(\"wnd[1]/tbar[0]/btn[0]\").press()\n",
    "    Row=table.RowCount\n",
    "    dic={\"Nº Pedido cliente\":[],\"Clase Orden\":[],\"PrimFecEnt\":[],\"ÚltEntrega\":[]}\n",
    "    for i in range(0,Row):\n",
    "        #Nº Pedido cliente Col \"BSTNK\"\n",
    "        #Clase Orden Col \"AUART\"\n",
    "        #PrimFecEnt Col \"AUDAT\"\n",
    "        #ÚltEntrega Col \"VDATU\"\n",
    "        Pedido_cliente,Clase_Orden,PrimFecEnt,ÚltEntrega=table.GetCellValue(i,\"BSTNK\"),table.GetCellValue(2,\"AUART\"),table.GetCellValue(2,\"AUDAT\"),table.GetCellValue(2,\"VDATU\") \n",
    "        dic[\"Nº Pedido cliente\"].append(Pedido_cliente)\n",
    "        dic[\"Clase Orden\"].append(Clase_Orden)\n",
    "        dic[\"PrimFecEnt\"].append(PrimFecEnt)\n",
    "        dic[\"ÚltEntrega\"].append(ÚltEntrega)\n",
    "    return(pd.DataFrame(dic))"
   ]
  },
  {
   "cell_type": "code",
   "execution_count": 44,
   "metadata": {},
   "outputs": [
    {
     "data": {
      "text/html": [
       "<div>\n",
       "<style scoped>\n",
       "    .dataframe tbody tr th:only-of-type {\n",
       "        vertical-align: middle;\n",
       "    }\n",
       "\n",
       "    .dataframe tbody tr th {\n",
       "        vertical-align: top;\n",
       "    }\n",
       "\n",
       "    .dataframe thead th {\n",
       "        text-align: right;\n",
       "    }\n",
       "</style>\n",
       "<table border=\"1\" class=\"dataframe\">\n",
       "  <thead>\n",
       "    <tr style=\"text-align: right;\">\n",
       "      <th></th>\n",
       "      <th>Nº Pedido cliente</th>\n",
       "      <th>Clase Orden</th>\n",
       "      <th>PrimFecEnt</th>\n",
       "      <th>ÚltEntrega</th>\n",
       "    </tr>\n",
       "  </thead>\n",
       "  <tbody>\n",
       "    <tr>\n",
       "      <th>0</th>\n",
       "      <td>0085770424</td>\n",
       "      <td>ZVMI</td>\n",
       "      <td>29.06.2023</td>\n",
       "      <td>06.07.2023</td>\n",
       "    </tr>\n",
       "    <tr>\n",
       "      <th>1</th>\n",
       "      <td>0085770425</td>\n",
       "      <td>ZVMI</td>\n",
       "      <td>29.06.2023</td>\n",
       "      <td>06.07.2023</td>\n",
       "    </tr>\n",
       "    <tr>\n",
       "      <th>2</th>\n",
       "      <td>0085770426</td>\n",
       "      <td>ZVMI</td>\n",
       "      <td>29.06.2023</td>\n",
       "      <td>06.07.2023</td>\n",
       "    </tr>\n",
       "    <tr>\n",
       "      <th>3</th>\n",
       "      <td>0085770427</td>\n",
       "      <td>ZVMI</td>\n",
       "      <td>29.06.2023</td>\n",
       "      <td>06.07.2023</td>\n",
       "    </tr>\n",
       "    <tr>\n",
       "      <th>4</th>\n",
       "      <td>0085770428</td>\n",
       "      <td>ZVMI</td>\n",
       "      <td>29.06.2023</td>\n",
       "      <td>06.07.2023</td>\n",
       "    </tr>\n",
       "    <tr>\n",
       "      <th>5</th>\n",
       "      <td>0085770429</td>\n",
       "      <td>ZVMI</td>\n",
       "      <td>29.06.2023</td>\n",
       "      <td>06.07.2023</td>\n",
       "    </tr>\n",
       "    <tr>\n",
       "      <th>6</th>\n",
       "      <td>0085770430</td>\n",
       "      <td>ZVMI</td>\n",
       "      <td>29.06.2023</td>\n",
       "      <td>06.07.2023</td>\n",
       "    </tr>\n",
       "    <tr>\n",
       "      <th>7</th>\n",
       "      <td>0085770431</td>\n",
       "      <td>ZVMI</td>\n",
       "      <td>29.06.2023</td>\n",
       "      <td>06.07.2023</td>\n",
       "    </tr>\n",
       "    <tr>\n",
       "      <th>8</th>\n",
       "      <td>0085770432</td>\n",
       "      <td>ZVMI</td>\n",
       "      <td>29.06.2023</td>\n",
       "      <td>06.07.2023</td>\n",
       "    </tr>\n",
       "    <tr>\n",
       "      <th>9</th>\n",
       "      <td>0085770433</td>\n",
       "      <td>ZVMI</td>\n",
       "      <td>29.06.2023</td>\n",
       "      <td>06.07.2023</td>\n",
       "    </tr>\n",
       "    <tr>\n",
       "      <th>10</th>\n",
       "      <td>0085770589</td>\n",
       "      <td>ZVMI</td>\n",
       "      <td>29.06.2023</td>\n",
       "      <td>06.07.2023</td>\n",
       "    </tr>\n",
       "    <tr>\n",
       "      <th>11</th>\n",
       "      <td>0085770620</td>\n",
       "      <td>ZVMI</td>\n",
       "      <td>29.06.2023</td>\n",
       "      <td>06.07.2023</td>\n",
       "    </tr>\n",
       "  </tbody>\n",
       "</table>\n",
       "</div>"
      ],
      "text/plain": [
       "   Nº Pedido cliente Clase Orden  PrimFecEnt  ÚltEntrega\n",
       "0         0085770424        ZVMI  29.06.2023  06.07.2023\n",
       "1         0085770425        ZVMI  29.06.2023  06.07.2023\n",
       "2         0085770426        ZVMI  29.06.2023  06.07.2023\n",
       "3         0085770427        ZVMI  29.06.2023  06.07.2023\n",
       "4         0085770428        ZVMI  29.06.2023  06.07.2023\n",
       "5         0085770429        ZVMI  29.06.2023  06.07.2023\n",
       "6         0085770430        ZVMI  29.06.2023  06.07.2023\n",
       "7         0085770431        ZVMI  29.06.2023  06.07.2023\n",
       "8         0085770432        ZVMI  29.06.2023  06.07.2023\n",
       "9         0085770433        ZVMI  29.06.2023  06.07.2023\n",
       "10        0085770589        ZVMI  29.06.2023  06.07.2023\n",
       "11        0085770620        ZVMI  29.06.2023  06.07.2023"
      ]
     },
     "execution_count": 44,
     "metadata": {},
     "output_type": "execute_result"
    }
   ],
   "source": [
    "#Buscar los pedidos diarios de clientes\n",
    "Search_Table_ZSD79(Tabla_ZSD79,session)"
   ]
  }
 ],
 "metadata": {
  "kernelspec": {
   "display_name": "base",
   "language": "python",
   "name": "python3"
  },
  "language_info": {
   "codemirror_mode": {
    "name": "ipython",
    "version": 3
   },
   "file_extension": ".py",
   "mimetype": "text/x-python",
   "name": "python",
   "nbconvert_exporter": "python",
   "pygments_lexer": "ipython3",
   "version": "3.9.13"
  },
  "orig_nbformat": 4
 },
 "nbformat": 4,
 "nbformat_minor": 2
}
