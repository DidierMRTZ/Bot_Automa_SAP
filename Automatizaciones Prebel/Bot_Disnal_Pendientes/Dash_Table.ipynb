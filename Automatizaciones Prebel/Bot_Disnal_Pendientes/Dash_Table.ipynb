{
 "cells": [
  {
   "cell_type": "code",
   "execution_count": 46,
   "metadata": {},
   "outputs": [],
   "source": [
    "from dash import Dash, dcc, html\n",
    "from dash.dependencies import Input, Output\n",
    "from dash import dash_table as dt\n",
    "\n",
    "import pandas as pd\n",
    "import numpy as np\n",
    "from dash import dcc\n",
    "from dash import html"
   ]
  },
  {
   "cell_type": "code",
   "execution_count": 6,
   "metadata": {},
   "outputs": [],
   "source": [
    "data=np.array([[\"Exito\",2,3],[\"Cencosub\",4,5]])\n",
    "\n",
    "\n",
    "df3=pd.DataFrame(data,index=[\"Exito\",\"Cencosub\"],columns=[\"Cliente\",\"ZVMI\",\"FIRME\"])"
   ]
  },
  {
   "cell_type": "code",
   "execution_count": 35,
   "metadata": {},
   "outputs": [],
   "source": [
    "def Create_Table(Table,Name_id):\n",
    "    \"\"\"\n",
    "    - Table: Dataframe referencia a tabla\n",
    "    - Name_id: Id de la tabla\n",
    "    \"\"\" \n",
    "    tabla=\n",
    "    return(  \n",
    "        dt.DataTable(\n",
    "            id=Name_id,\n",
    "            columns=[{\"name\": i, \"id\": i} for i in Table.columns],\n",
    "            data=Table.to_dict(\"records\"),\n",
    "            style_data={\n",
    "            'fontSize':'11px'\n",
    "            },\n",
    "            style_table={\n",
    "                'margin': '0 auto',\n",
    "                'border': '1px solid black',\n",
    "                'borderCollapse': 'collapse'\n",
    "            },\n",
    "            style_header={\n",
    "                'fontSize':'11px',\n",
    "                'backgroundColor': '#4074D5',\n",
    "                'fontWeight': 'bold',\n",
    "                'border': '1px solid black'\n",
    "            },\n",
    "            style_cell={\n",
    "                'textAlign': 'center',\n",
    "                'border': '1px solid black',\n",
    "                'padding': '5px',\n",
    "                'width': '20px'\n",
    "            },\n",
    "        ),\n",
    "    )"
   ]
  },
  {
   "cell_type": "code",
   "execution_count": 42,
   "metadata": {},
   "outputs": [],
   "source": [
    "def Create_Table(Table,Name_id):\n",
    "    \"\"\"\n",
    "    - Table: Dataframe referencia a tabla\n",
    "    - Name_id: Id de la tabla\n",
    "    - Alias_libreria: Libreria Dash dash_table as dt\n",
    "    \"\"\" \n",
    "    Tabla=dt.DataTable(\n",
    "            id=Name_id,\n",
    "            columns=[{\"name\": i, \"id\": i} for i in Table.columns],\n",
    "            data=Table.to_dict(\"records\"),\n",
    "            style_data={\n",
    "            'fontSize':'11px'\n",
    "            },\n",
    "            style_table={\n",
    "                'margin': '0 auto',\n",
    "                'border': '1px solid black',\n",
    "                'borderCollapse': 'collapse'\n",
    "            },\n",
    "            style_header={\n",
    "                'fontSize':'11px',\n",
    "                'backgroundColor': '#4074D5',\n",
    "                'fontWeight': 'bold',\n",
    "                'border': '1px solid black'\n",
    "            },\n",
    "            style_cell={\n",
    "                'textAlign': 'center',\n",
    "                'border': '1px solid black',\n",
    "                'padding': '5px',\n",
    "                'width': '20px'\n",
    "            },\n",
    "        )\n",
    "    return(Tabla)"
   ]
  },
  {
   "cell_type": "code",
   "execution_count": 45,
   "metadata": {},
   "outputs": [
    {
     "data": {
      "text/plain": [
       "DataTable(data=[{'Cliente': 'Exito', 'ZVMI': '2', 'FIRME': '3'}, {'Cliente': 'Cencosub', 'ZVMI': '4', 'FIRME': '5'}], columns=[{'name': 'Cliente', 'id': 'Cliente'}, {'name': 'ZVMI', 'id': 'ZVMI'}, {'name': 'FIRME', 'id': 'FIRME'}], style_table={'margin': '0 auto', 'border': '1px solid black', 'borderCollapse': 'collapse'}, style_cell={'textAlign': 'center', 'border': '1px solid black', 'padding': '5px', 'width': '20px'}, style_data={'fontSize': '11px'}, style_header={'fontSize': '11px', 'backgroundColor': '#4074D5', 'fontWeight': 'bold', 'border': '1px solid black'}, id='table-container3')"
      ]
     },
     "execution_count": 45,
     "metadata": {},
     "output_type": "execute_result"
    }
   ],
   "source": [
    "Create_Table(df3,\"table-container3\")"
   ]
  },
  {
   "cell_type": "code",
   "execution_count": 48,
   "metadata": {},
   "outputs": [],
   "source": [
    "def Create_Dropdown(Column_Table,Estados,Name_id):\n",
    "        Dropdown=dcc.Dropdown(\n",
    "                        id=Name_id,\n",
    "                        options=[{\"label\": st, \"value\": st} for st in Estados],\n",
    "                        placeholder=\"-Select a State-\",\n",
    "                        multi=True,\n",
    "                        value=Column_Table.unique())\n",
    "        return(Dropdown)"
   ]
  },
  {
   "cell_type": "code",
   "execution_count": 6,
   "metadata": {},
   "outputs": [],
   "source": [
    "from webdriver_manager.chrome import ChromeDriverManager  \n",
    "from selenium import webdriver\n",
    "from selenium.webdriver.chrome.service import Service     #Search documentation\n",
    "from selenium.webdriver.common.by import By"
   ]
  },
  {
   "cell_type": "code",
   "execution_count": 7,
   "metadata": {},
   "outputs": [],
   "source": [
    "from selenium import webdriver\n",
    "from selenium import webdriver\n",
    "from webdriver_manager.chrome import ChromeDriverManager\n",
    "\n",
    "driver = webdriver.Chrome(ChromeDriverManager().install())\n",
    "# Abre una página web\n",
    "url=\"https://pelisplus.in/\"\n",
    "driver.get(url)"
   ]
  },
  {
   "cell_type": "code",
   "execution_count": null,
   "metadata": {},
   "outputs": [],
   "source": []
  }
 ],
 "metadata": {
  "kernelspec": {
   "display_name": "base",
   "language": "python",
   "name": "python3"
  },
  "language_info": {
   "codemirror_mode": {
    "name": "ipython",
    "version": 3
   },
   "file_extension": ".py",
   "mimetype": "text/x-python",
   "name": "python",
   "nbconvert_exporter": "python",
   "pygments_lexer": "ipython3",
   "version": "3.9.13"
  },
  "orig_nbformat": 4
 },
 "nbformat": 4,
 "nbformat_minor": 2
}
