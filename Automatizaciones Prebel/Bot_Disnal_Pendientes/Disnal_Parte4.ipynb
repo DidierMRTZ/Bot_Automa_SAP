{
 "cells": [
  {
   "cell_type": "code",
   "execution_count": 4,
   "metadata": {},
   "outputs": [
    {
     "ename": "ModuleNotFoundError",
     "evalue": "No module named 'Librerias_SAP'",
     "output_type": "error",
     "traceback": [
      "\u001b[1;31m---------------------------------------------------------------------------\u001b[0m",
      "\u001b[1;31mModuleNotFoundError\u001b[0m                       Traceback (most recent call last)",
      "Cell \u001b[1;32mIn[4], line 7\u001b[0m\n\u001b[0;32m      5\u001b[0m \u001b[39mfrom\u001b[39;00m \u001b[39mdatetime\u001b[39;00m \u001b[39mimport\u001b[39;00m datetime\n\u001b[0;32m      6\u001b[0m \u001b[39mfrom\u001b[39;00m \u001b[39mdatetime\u001b[39;00m \u001b[39mimport\u001b[39;00m timedelta\n\u001b[1;32m----> 7\u001b[0m \u001b[39mfrom\u001b[39;00m \u001b[39mLibrerias_SAP\u001b[39;00m \u001b[39mimport\u001b[39;00m SAP_GUI\n",
      "\u001b[1;31mModuleNotFoundError\u001b[0m: No module named 'Librerias_SAP'"
     ]
    }
   ],
   "source": [
    "import win32com.client\n",
    "import pandas as pd\n",
    "import subprocess\n",
    "from time import sleep\n",
    "from datetime import datetime\n",
    "from datetime import timedelta\n",
    "from ..Librerias_SAP import SAP_GUI\n"
   ]
  },
  {
   "cell_type": "code",
   "execution_count": 3,
   "metadata": {},
   "outputs": [],
   "source": [
    "\"\"\"----------------------------Inciar session----------------------------------------------------\"\"\"\n",
    "# Insert User name and password\n",
    "Keys=pd.read_excel(\"C:\\\\Users\\\\prac.ingindustrial2\\\\OneDrive - Prebel S.A\\\\Escritorio\\\\SAP\\\\Claves\\\\Keys.xlsx\")\n",
    "user=Keys[\"User\"][0]\n",
    "password=Keys[\"Password\"][0]\n",
    "# Initialize session\n",
    "session=SAP_GUI.SessionSAP(user,password)"
   ]
  },
  {
   "cell_type": "code",
   "execution_count": 10,
   "metadata": {},
   "outputs": [],
   "source": [
    "transsaccion=\"ZSD035D\"\n",
    "variant=\"JESPINOSAP\"\n",
    "provision=\"INFORME FACTU\"\n",
    "\n",
    "def Search_ZSD035D(Transsaccion,session,provision,date,variant):\n",
    "    session.StartTransaction(Transsaccion)\n",
    "    session.findById(\"wnd[0]/tbar[1]/btn[17]\").press()\n",
    "    session.findById(\"wnd[1]/usr/txtV-LOW\").text = provision\n",
    "    session.findById(\"wnd[1]/usr/txtENAME-LOW\").text = variant\n",
    "    session.findById(\"wnd[1]/usr/txtV-LOW\").caretPosition = 8\n",
    "    session.findById(\"wnd[1]/tbar[0]/btn[8]\").press()\n",
    "    if date==None:\n",
    "        None\n",
    "    else:\n",
    "        session.findById(\"wnd[0]/usr/ctxtSP$00024-LOW\").text = date\n",
    "    session.findById(\"wnd[0]/tbar[1]/btn[8]\").press()\n",
    "    try:\n",
    "        table=session.findById(\"wnd[0]/usr/cntlCONTAINER/shellcont/shell\")\n",
    "        return(table)\n",
    "    except:\n",
    "        return(session)"
   ]
  },
  {
   "cell_type": "code",
   "execution_count": 11,
   "metadata": {},
   "outputs": [
    {
     "data": {
      "text/plain": [
       "<COMObject <unknown>>"
      ]
     },
     "execution_count": 11,
     "metadata": {},
     "output_type": "execute_result"
    }
   ],
   "source": [
    "Search_ZSD035D(transsaccion,session,provision,\"13.06.2023\",variant)"
   ]
  },
  {
   "cell_type": "code",
   "execution_count": 12,
   "metadata": {},
   "outputs": [],
   "source": [
    "# Pendiente Firme\n",
    "Name_ZSD035D=\"Pendiente_Firme\"  # Revisar suele no guardar\n",
    "SAP_GUI.Export_TXT2(Name_ZSD035D,session)\n"
   ]
  },
  {
   "cell_type": "code",
   "execution_count": null,
   "metadata": {},
   "outputs": [],
   "source": [
    "# ZSD110 FIRME\n",
    "url_ZSD035D=\"C:\\\\Users\\\\prac.ingindustrial2\\\\OneDrive - Prebel S.A\\\\Documentos 1\\\\SAP\\\\SAP GUI\\\\\"+str(Name_ZSD035D)+\".txt\"\n",
    "Data_ZSD035D=pd.read_csv(url_ZSD035D,skiprows=1,delimiter=\"\\t\")\n",
    "Data_ZSD035D=Clean_Columns(Data_ZSD035D)\n",
    "Data_ZSD035D[\"Lineas\"]=Data_ZSD035D[\"Lineas\"].apply(lambda x:Clean_num(x))"
   ]
  }
 ],
 "metadata": {
  "kernelspec": {
   "display_name": "base",
   "language": "python",
   "name": "python3"
  },
  "language_info": {
   "codemirror_mode": {
    "name": "ipython",
    "version": 3
   },
   "file_extension": ".py",
   "mimetype": "text/x-python",
   "name": "python",
   "nbconvert_exporter": "python",
   "pygments_lexer": "ipython3",
   "version": "3.9.13"
  },
  "orig_nbformat": 4
 },
 "nbformat": 4,
 "nbformat_minor": 2
}
