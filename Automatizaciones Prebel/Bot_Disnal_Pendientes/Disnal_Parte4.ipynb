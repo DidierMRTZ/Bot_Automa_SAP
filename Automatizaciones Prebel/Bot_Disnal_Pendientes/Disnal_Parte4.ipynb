{
 "cells": [
  {
   "cell_type": "code",
   "execution_count": 32,
   "metadata": {},
   "outputs": [],
   "source": [
    "import win32com.client\n",
    "import pandas as pd\n",
    "import subprocess\n",
    "from time import sleep\n",
    "from datetime import datetime\n",
    "from datetime import timedelta\n",
    "from Librerias_SAP import SAP_GUI\n",
    "from Librerias_SAP import Funtions\n"
   ]
  },
  {
   "cell_type": "code",
   "execution_count": 33,
   "metadata": {},
   "outputs": [],
   "source": [
    "\"\"\"----------------------------Inciar session----------------------------------------------------\"\"\"\n",
    "# Insert User name and password\n",
    "Keys=pd.read_excel(\"C:\\\\Users\\\\prac.ingindustrial2\\\\OneDrive - Prebel S.A\\\\Escritorio\\\\SAP\\\\Claves\\\\Keys.xlsx\")\n",
    "user=Keys[\"User\"][0]\n",
    "password=Keys[\"Password\"][0]\n",
    "# Initialize session\n",
    "session=SAP_GUI.SessionSAP(user,password)"
   ]
  },
  {
   "cell_type": "code",
   "execution_count": 3,
   "metadata": {},
   "outputs": [],
   "source": [
    "transsaccion=\"ZSD035D\"\n",
    "variant=\"JESPINOSAP\"\n",
    "provision=\"INFORME FACTU\"\n",
    "\n",
    "def Search_ZSD035D(Transsaccion,session,provision,date,variant):\n",
    "    session.StartTransaction(Transsaccion)\n",
    "    session.findById(\"wnd[0]/tbar[1]/btn[17]\").press()\n",
    "    session.findById(\"wnd[1]/usr/txtV-LOW\").text = provision\n",
    "    session.findById(\"wnd[1]/usr/txtENAME-LOW\").text = variant\n",
    "    session.findById(\"wnd[1]/usr/txtV-LOW\").caretPosition = 8\n",
    "    session.findById(\"wnd[1]/tbar[0]/btn[8]\").press()\n",
    "    if date==None:\n",
    "        None\n",
    "    else:\n",
    "        session.findById(\"wnd[0]/usr/ctxtSP$00024-LOW\").text = date\n",
    "    session.findById(\"wnd[0]/tbar[1]/btn[8]\").press()\n",
    "    try:\n",
    "        table=session.findById(\"wnd[0]/usr/cntlCONTAINER/shellcont/shell\")\n",
    "        return(table)\n",
    "    except:\n",
    "        return(session)"
   ]
  },
  {
   "cell_type": "code",
   "execution_count": 4,
   "metadata": {},
   "outputs": [
    {
     "data": {
      "text/plain": [
       "<COMObject <unknown>>"
      ]
     },
     "execution_count": 4,
     "metadata": {},
     "output_type": "execute_result"
    }
   ],
   "source": [
    "Search_ZSD035D(transsaccion,session,provision,\"13.06.2023\",variant)"
   ]
  },
  {
   "cell_type": "code",
   "execution_count": 5,
   "metadata": {},
   "outputs": [],
   "source": [
    "# Pendiente Firme\n",
    "Name_ZSD035D=\"Pendiente_Firme\"  # Revisar suele no guardar\n",
    "SAP_GUI.Export_TXT2(Name_ZSD035D,session)\n"
   ]
  },
  {
   "cell_type": "code",
   "execution_count": 6,
   "metadata": {},
   "outputs": [],
   "source": [
    "# ZSD110 FIRME\n",
    "url_ZSD035D=\"C:\\\\Users\\\\prac.ingindustrial2\\\\OneDrive - Prebel S.A\\\\Documentos 1\\\\SAP\\\\SAP GUI\\\\\"+str(Name_ZSD035D)+\".txt\"\n",
    "Data_ZSD035D=pd.read_csv(url_ZSD035D,skiprows=5,delimiter=\"\\t\")\n",
    "Data_ZSD035D=Funtions.Clean_Columns(Data_ZSD035D)\n",
    "Data_ZSD035D=Data_ZSD035D[Data_ZSD035D['Material'].notnull()]\n",
    "#Data_ZSD035D[\"Lineas\"]=Data_ZSD035D[\"Lineas\"].apply(lambda x:Funtions.Clean_num(x))\n"
   ]
  },
  {
   "cell_type": "code",
   "execution_count": 17,
   "metadata": {},
   "outputs": [
    {
     "data": {
      "text/plain": [
       "Index(['Solic.', 'Solicitante', 'Pagador', 'Pagador.1', 'Destinat.',\n",
       "       'Destinatario de mercancías', 'ClFac', 'OrgVt', 'CDis', 'Fecha factura',\n",
       "       'Factura', 'Clase de factura', 'Tipo de lista de precios según pedido',\n",
       "       'Material', 'Número de material', 'Cantidad', 'UM', 'Valor Neto',\n",
       "       'Mon.', 'Pedido', 'Entrega', 'Lote', 'Nº de pedido', 'An.', 'DocFactAn',\n",
       "       'Grupo art.', 'Grupo de artículos', 'CambContab', 'Código EAN/UPC',\n",
       "       'Texto', 'MARCA', 'Creado el'],\n",
       "      dtype='object')"
      ]
     },
     "execution_count": 17,
     "metadata": {},
     "output_type": "execute_result"
    }
   ],
   "source": [
    "Data_ZSD035D.columns"
   ]
  },
  {
   "cell_type": "code",
   "execution_count": 16,
   "metadata": {},
   "outputs": [
    {
     "data": {
      "text/plain": [
       "0        3.0\n",
       "1        3.0\n",
       "2        3.0\n",
       "3        3.0\n",
       "4        6.0\n",
       "        ... \n",
       "3519    12.0\n",
       "3520    12.0\n",
       "3521     6.0\n",
       "3522     6.0\n",
       "3523    12.0\n",
       "Name: Cantidad, Length: 3524, dtype: float64"
      ]
     },
     "execution_count": 16,
     "metadata": {},
     "output_type": "execute_result"
    }
   ],
   "source": [
    "Data_ZSD035D['Cantidad']"
   ]
  },
  {
   "cell_type": "code",
   "execution_count": 22,
   "metadata": {},
   "outputs": [
    {
     "data": {
      "text/plain": [
       "Index(['Solic.', 'Solicitante', 'Pagador', 'Pagador.1', 'Destinat.',\n",
       "       'Destinatario de mercancías', 'ClFac', 'OrgVt', 'CDis', 'Fecha factura',\n",
       "       'Factura', 'Clase de factura', 'Tipo de lista de precios según pedido',\n",
       "       'Material', 'Número de material', 'Cantidad', 'UM', 'Valor Neto',\n",
       "       'Mon.', 'Pedido', 'Entrega', 'Lote', 'Nº de pedido', 'An.', 'DocFactAn',\n",
       "       'Grupo art.', 'Grupo de artículos', 'CambContab', 'Código EAN/UPC',\n",
       "       'Texto', 'MARCA', 'Creado el'],\n",
       "      dtype='object')"
      ]
     },
     "execution_count": 22,
     "metadata": {},
     "output_type": "execute_result"
    }
   ],
   "source": [
    "#Limpio datos de la columnas a numeros\n",
    "\n",
    "Data_ZSD035D['Cantidad'], Data_ZSD035D['Valor Neto']= Funtions.Clean_Num_List(Data_ZSD035D['Cantidad'],Data_ZSD035D['Valor Neto'])\n",
    "Data_ZSD035D.columns\n"
   ]
  },
  {
   "cell_type": "code",
   "execution_count": 31,
   "metadata": {},
   "outputs": [
    {
     "data": {
      "text/html": [
       "<div>\n",
       "<style scoped>\n",
       "    .dataframe tbody tr th:only-of-type {\n",
       "        vertical-align: middle;\n",
       "    }\n",
       "\n",
       "    .dataframe tbody tr th {\n",
       "        vertical-align: top;\n",
       "    }\n",
       "\n",
       "    .dataframe thead th {\n",
       "        text-align: right;\n",
       "    }\n",
       "</style>\n",
       "<table border=\"1\" class=\"dataframe\">\n",
       "  <thead>\n",
       "    <tr style=\"text-align: right;\">\n",
       "      <th></th>\n",
       "      <th>CDis</th>\n",
       "      <th>Pedido</th>\n",
       "      <th>Material</th>\n",
       "      <th>Cantidad</th>\n",
       "      <th>Valor Neto</th>\n",
       "    </tr>\n",
       "  </thead>\n",
       "  <tbody>\n",
       "    <tr>\n",
       "      <th>0</th>\n",
       "      <td>1.0</td>\n",
       "      <td>1016</td>\n",
       "      <td>1016</td>\n",
       "      <td>8573.0</td>\n",
       "      <td>190189674.0</td>\n",
       "    </tr>\n",
       "    <tr>\n",
       "      <th>1</th>\n",
       "      <td>2.0</td>\n",
       "      <td>466</td>\n",
       "      <td>466</td>\n",
       "      <td>6401.0</td>\n",
       "      <td>76898535.0</td>\n",
       "    </tr>\n",
       "    <tr>\n",
       "      <th>2</th>\n",
       "      <td>7.0</td>\n",
       "      <td>907</td>\n",
       "      <td>907</td>\n",
       "      <td>7957.0</td>\n",
       "      <td>113755457.0</td>\n",
       "    </tr>\n",
       "    <tr>\n",
       "      <th>3</th>\n",
       "      <td>8.0</td>\n",
       "      <td>454</td>\n",
       "      <td>454</td>\n",
       "      <td>1309.0</td>\n",
       "      <td>54363944.0</td>\n",
       "    </tr>\n",
       "    <tr>\n",
       "      <th>4</th>\n",
       "      <td>12.0</td>\n",
       "      <td>5</td>\n",
       "      <td>5</td>\n",
       "      <td>294.0</td>\n",
       "      <td>5643408.0</td>\n",
       "    </tr>\n",
       "    <tr>\n",
       "      <th>5</th>\n",
       "      <td>15.0</td>\n",
       "      <td>560</td>\n",
       "      <td>560</td>\n",
       "      <td>654.0</td>\n",
       "      <td>12719902.0</td>\n",
       "    </tr>\n",
       "    <tr>\n",
       "      <th>6</th>\n",
       "      <td>19.0</td>\n",
       "      <td>45</td>\n",
       "      <td>45</td>\n",
       "      <td>2947.0</td>\n",
       "      <td>24367469.0</td>\n",
       "    </tr>\n",
       "    <tr>\n",
       "      <th>7</th>\n",
       "      <td>20.0</td>\n",
       "      <td>71</td>\n",
       "      <td>71</td>\n",
       "      <td>1164.0</td>\n",
       "      <td>6730422.0</td>\n",
       "    </tr>\n",
       "  </tbody>\n",
       "</table>\n",
       "</div>"
      ],
      "text/plain": [
       "   CDis  Pedido  Material  Cantidad   Valor Neto\n",
       "0   1.0    1016      1016    8573.0  190189674.0\n",
       "1   2.0     466       466    6401.0   76898535.0\n",
       "2   7.0     907       907    7957.0  113755457.0\n",
       "3   8.0     454       454    1309.0   54363944.0\n",
       "4  12.0       5         5     294.0    5643408.0\n",
       "5  15.0     560       560     654.0   12719902.0\n",
       "6  19.0      45        45    2947.0   24367469.0\n",
       "7  20.0      71        71    1164.0    6730422.0"
      ]
     },
     "execution_count": 31,
     "metadata": {},
     "output_type": "execute_result"
    }
   ],
   "source": [
    "#Canal01_Entregado_Exluido.pivot_table(,,['Material', 'Valor Neto'])\n",
    "\n",
    "Table_Data_ZSD035D=Data_ZSD035D.pivot_table(index=['CDis'],aggfunc={'Material':'count','Pedido':'count','Valor Neto':sum,'Cantidad':sum}).reset_index()[['CDis','Pedido', 'Material', 'Cantidad', 'Valor Neto']]\n",
    "#Lineas_table_dinamica_Exito_entrega=sum(Table_Data_ZSD035D[\"Material\"])\n",
    "\n",
    "Table_Data_ZSD035D\n"
   ]
  },
  {
   "cell_type": "code",
   "execution_count": null,
   "metadata": {},
   "outputs": [],
   "source": []
  }
 ],
 "metadata": {
  "kernelspec": {
   "display_name": "base",
   "language": "python",
   "name": "python3"
  },
  "language_info": {
   "codemirror_mode": {
    "name": "ipython",
    "version": 3
   },
   "file_extension": ".py",
   "mimetype": "text/x-python",
   "name": "python",
   "nbconvert_exporter": "python",
   "pygments_lexer": "ipython3",
   "version": "3.9.13"
  },
  "orig_nbformat": 4
 },
 "nbformat": 4,
 "nbformat_minor": 2
}
