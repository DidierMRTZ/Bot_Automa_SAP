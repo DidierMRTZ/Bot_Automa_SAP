{
 "cells": [
  {
   "cell_type": "code",
   "execution_count": 1,
   "metadata": {},
   "outputs": [],
   "source": [
    "from Librerias_SAP import SAP_GUI, Funtions\n",
    "import pandas as pd\n",
    "import win32com.client\n",
    "from datetime import datetime"
   ]
  },
  {
   "cell_type": "code",
   "execution_count": 14,
   "metadata": {},
   "outputs": [],
   "source": [
    "\"\"\"----------------------------Inciar session----------------------------------------------------\"\"\"\n",
    "# Insert User name and password\n",
    "Keys=pd.read_excel(\"C:\\\\Users\\\\prac.ingindustrial2\\\\OneDrive - Prebel S.A\\\\Escritorio\\\\SAP\\\\Claves\\\\Keys.xlsx\")\n",
    "user=Keys[\"User\"][0]\n",
    "password=Keys[\"Password\"][0]\n",
    "# Initialize session\n",
    "session=SAP_GUI.SessionSAP(user,password)"
   ]
  },
  {
   "cell_type": "code",
   "execution_count": 15,
   "metadata": {},
   "outputs": [],
   "source": [
    "Default_Column_ZSD76=['Solic.', 'Solicitante', 'Fecha salida mercancía', 'Material',\n",
    "       'Número de material', 'Cantidad entrega', 'UM', 'MARCA', 'CATEGORIA',\n",
    "       'Entrega', 'ClEnt', 'Clase de entrega', 'ClVt',\n",
    "       'Clase de documento de ventas', 'OrgVt', 'CDis', 'Doc.venta',\n",
    "       'Prc.neto', 'Mon.', 'Destinat.', 'Destinatario de mercancías',\n",
    "       'Nº pedido cliente', 'Fecha creación Pedido']\n",
    "\n",
    "Default_Column_ZSD127=['Cliente', 'Nombre', 'Pedido Externo - OC', 'Pedido', 'Tipo',\n",
    "       'Denominación', 'Fecha creación Ped.', 'Status Picking (SM)',\n",
    "       'Status Factura', 'Status Transporte', 'Transporte']"
   ]
  },
  {
   "cell_type": "code",
   "execution_count": 16,
   "metadata": {},
   "outputs": [],
   "source": [
    "transsacion_ZSD76='zsd76'\n",
    "variant_ZSD76=\"JESPINOSAP\"\n",
    "provision_ZSd76=\"PROCESADOS\""
   ]
  },
  {
   "cell_type": "code",
   "execution_count": 17,
   "metadata": {},
   "outputs": [
    {
     "data": {
      "text/plain": [
       "<COMObject <unknown>>"
      ]
     },
     "execution_count": 17,
     "metadata": {},
     "output_type": "execute_result"
    }
   ],
   "source": [
    "SAP_GUI.Search_ZSD76(transsacion_ZSD76,session,provision_ZSd76,variant_ZSD76)"
   ]
  },
  {
   "cell_type": "code",
   "execution_count": 18,
   "metadata": {},
   "outputs": [],
   "source": [
    "#Dowloader data\n",
    "\n",
    "Name_ZSD76=\"Detalle_Entregas_ZSD76\"\n",
    "Ruta_ZSD76=\"C:\\\\Users\\\\prac.ingindustrial2\\\\OneDrive - Prebel S.A\\\\Escritorio\\\\SAP\\\\Archivos_CSV\\\\\"\n",
    "SAP_GUI.Export_TXT2(Name_ZSD76,session,Ruta_ZSD76)"
   ]
  },
  {
   "cell_type": "code",
   "execution_count": 19,
   "metadata": {},
   "outputs": [],
   "source": [
    "Pedidos_Procesados=pd.read_csv(Ruta_ZSD76+Name_ZSD76+\".txt\",delimiter=\"\\t\",skiprows=5)\n",
    "Pedidos_Procesados=Funtions.Clean_Columns(Pedidos_Procesados)\n",
    "Pedidos_Procesados=Funtions.default_column(Default_Column_ZSD76,Pedidos_Procesados)"
   ]
  },
  {
   "cell_type": "code",
   "execution_count": 22,
   "metadata": {},
   "outputs": [],
   "source": [
    "Transsaccion_ZSD127=\"zsd127\"\n",
    "Variant_ZSD127=\"ESTANDAR\"\n",
    "Documento_Ventas=Pedidos_Procesados['Doc.venta'].drop_duplicates()\n",
    "\n"
   ]
  },
  {
   "cell_type": "code",
   "execution_count": 24,
   "metadata": {},
   "outputs": [],
   "source": [
    "SAP_GUI.Search_Pedidos_ZSD127(Transsaccion_ZSD127,Documento_Ventas,session,Variant_ZSD127)"
   ]
  },
  {
   "cell_type": "code",
   "execution_count": 10,
   "metadata": {},
   "outputs": [
    {
     "ename": "com_error",
     "evalue": "(-2147352567, 'Ocurrió una excepción.', (619, 'SAP Frontend Server', 'The control could not be found by id.', 'C:\\\\Program Files (x86)\\\\SAP\\\\FrontEnd\\\\SAPgui\\\\sapfront.HLP', 393215, 0), None)",
     "output_type": "error",
     "traceback": [
      "\u001b[1;31m---------------------------------------------------------------------------\u001b[0m",
      "\u001b[1;31mcom_error\u001b[0m                                 Traceback (most recent call last)",
      "File \u001b[1;32mc:\\Users\\prac.ingindustrial2\\Bot_Automa_SAP\\Automatizaciones Prebel\\Bot_Transpote\\Librerias_SAP\\SAP_GUI.py:171\u001b[0m, in \u001b[0;36mExport_TXT2\u001b[1;34m(Name, session, Ruta)\u001b[0m\n\u001b[0;32m    170\u001b[0m \u001b[39mtry\u001b[39;00m:\n\u001b[1;32m--> 171\u001b[0m     session\u001b[39m.\u001b[39;49mfindById(\u001b[39m\"\u001b[39;49m\u001b[39mwnd[0]/usr/cntlCUSTOM/shellcont/shell/shellcont/shell\u001b[39;49m\u001b[39m\"\u001b[39;49m)\u001b[39m.\u001b[39mpressToolbarButton(\u001b[39m\"\u001b[39m\u001b[39m&NAVIGATION_PROFILE_TOOLBAR_EXPAND\u001b[39m\u001b[39m\"\u001b[39m)\n\u001b[0;32m    172\u001b[0m     session\u001b[39m.\u001b[39mfindById(\u001b[39m\"\u001b[39m\u001b[39mwnd[0]/usr/cntlCUSTOM/shellcont/shell/shellcont/shell\u001b[39m\u001b[39m\"\u001b[39m)\u001b[39m.\u001b[39mpressToolbarContextButton(\u001b[39m\"\u001b[39m\u001b[39m&MB_EXPORT\u001b[39m\u001b[39m\"\u001b[39m)\n",
      "File \u001b[1;32m<COMObject <unknown>>:2\u001b[0m, in \u001b[0;36mfindById\u001b[1;34m(self, *args)\u001b[0m\n",
      "\u001b[1;31mcom_error\u001b[0m: (-2147352567, 'Ocurrió una excepción.', (619, 'SAP Frontend Server', 'The control could not be found by id.', 'C:\\\\Program Files (x86)\\\\SAP\\\\FrontEnd\\\\SAPgui\\\\sapfront.HLP', 393215, 0), None)",
      "\nDuring handling of the above exception, another exception occurred:\n",
      "\u001b[1;31mcom_error\u001b[0m                                 Traceback (most recent call last)",
      "File \u001b[1;32mc:\\Users\\prac.ingindustrial2\\Bot_Automa_SAP\\Automatizaciones Prebel\\Bot_Transpote\\Librerias_SAP\\SAP_GUI.py:175\u001b[0m, in \u001b[0;36mExport_TXT2\u001b[1;34m(Name, session, Ruta)\u001b[0m\n\u001b[0;32m    174\u001b[0m \u001b[39mexcept\u001b[39;00m:\n\u001b[1;32m--> 175\u001b[0m     session\u001b[39m.\u001b[39;49mfindById(\u001b[39m\"\u001b[39;49m\u001b[39mwnd[0]/usr/cntlCONTAINER/shellcont/shell\u001b[39;49m\u001b[39m\"\u001b[39;49m)\u001b[39m.\u001b[39mpressToolbarContextButton(\u001b[39m\"\u001b[39m\u001b[39m&MB_EXPORT\u001b[39m\u001b[39m\"\u001b[39m)\n\u001b[0;32m    176\u001b[0m     session\u001b[39m.\u001b[39mfindById(\u001b[39m\"\u001b[39m\u001b[39mwnd[0]/usr/cntlCONTAINER/shellcont/shell\u001b[39m\u001b[39m\"\u001b[39m)\u001b[39m.\u001b[39mselectContextMenuItem(\u001b[39m\"\u001b[39m\u001b[39m&PC\u001b[39m\u001b[39m\"\u001b[39m)\n",
      "File \u001b[1;32m<COMObject <unknown>>:2\u001b[0m, in \u001b[0;36mfindById\u001b[1;34m(self, *args)\u001b[0m\n",
      "\u001b[1;31mcom_error\u001b[0m: (-2147352567, 'Ocurrió una excepción.', (619, 'SAP Frontend Server', 'The control could not be found by id.', 'C:\\\\Program Files (x86)\\\\SAP\\\\FrontEnd\\\\SAPgui\\\\sapfront.HLP', 393215, 0), None)",
      "\nDuring handling of the above exception, another exception occurred:\n",
      "\u001b[1;31mcom_error\u001b[0m                                 Traceback (most recent call last)",
      "File \u001b[1;32mc:\\Users\\prac.ingindustrial2\\Bot_Automa_SAP\\Automatizaciones Prebel\\Bot_Transpote\\Librerias_SAP\\SAP_GUI.py:179\u001b[0m, in \u001b[0;36mExport_TXT2\u001b[1;34m(Name, session, Ruta)\u001b[0m\n\u001b[0;32m    178\u001b[0m \u001b[39mtry\u001b[39;00m:\n\u001b[1;32m--> 179\u001b[0m     session\u001b[39m.\u001b[39;49mfindById(\u001b[39m\"\u001b[39;49m\u001b[39mwnd[0]/tbar[1]/btn[45]\u001b[39;49m\u001b[39m\"\u001b[39;49m)\u001b[39m.\u001b[39mpress()\n\u001b[0;32m    180\u001b[0m \u001b[39mexcept\u001b[39;00m:\n",
      "File \u001b[1;32m<COMObject <unknown>>:2\u001b[0m, in \u001b[0;36mfindById\u001b[1;34m(self, *args)\u001b[0m\n",
      "\u001b[1;31mcom_error\u001b[0m: (-2147352567, 'Ocurrió una excepción.', (619, 'SAP Frontend Server', 'The control could not be found by id.', 'C:\\\\Program Files (x86)\\\\SAP\\\\FrontEnd\\\\SAPgui\\\\sapfront.HLP', 393215, 0), None)",
      "\nDuring handling of the above exception, another exception occurred:\n",
      "\u001b[1;31mcom_error\u001b[0m                                 Traceback (most recent call last)",
      "File \u001b[1;32mc:\\Users\\prac.ingindustrial2\\Bot_Automa_SAP\\Automatizaciones Prebel\\Bot_Transpote\\Librerias_SAP\\SAP_GUI.py:181\u001b[0m, in \u001b[0;36mExport_TXT2\u001b[1;34m(Name, session, Ruta)\u001b[0m\n\u001b[0;32m    180\u001b[0m     \u001b[39mexcept\u001b[39;00m:\n\u001b[1;32m--> 181\u001b[0m         session\u001b[39m.\u001b[39;49mfindById(\u001b[39m\"\u001b[39;49m\u001b[39mwnd[0]/tbar[1]/btn[9]\u001b[39;49m\u001b[39m\"\u001b[39;49m)\u001b[39m.\u001b[39mpress ()\n\u001b[0;32m    182\u001b[0m \u001b[39mfinally\u001b[39;00m:\n",
      "File \u001b[1;32m<COMObject <unknown>>:2\u001b[0m, in \u001b[0;36mfindById\u001b[1;34m(self, *args)\u001b[0m\n",
      "\u001b[1;31mcom_error\u001b[0m: (-2147352567, 'Ocurrió una excepción.', (619, 'SAP Frontend Server', 'The control could not be found by id.', 'C:\\\\Program Files (x86)\\\\SAP\\\\FrontEnd\\\\SAPgui\\\\sapfront.HLP', 393215, 0), None)",
      "\nDuring handling of the above exception, another exception occurred:\n",
      "\u001b[1;31mcom_error\u001b[0m                                 Traceback (most recent call last)",
      "Cell \u001b[1;32mIn[10], line 5\u001b[0m\n\u001b[0;32m      3\u001b[0m Name_ZSD127\u001b[39m=\u001b[39m\u001b[39m\"\u001b[39m\u001b[39mAlerta_Entregas_ZS127\u001b[39m\u001b[39m\"\u001b[39m\n\u001b[0;32m      4\u001b[0m Ruta_ZSD127\u001b[39m=\u001b[39m\u001b[39m\"\u001b[39m\u001b[39mC:\u001b[39m\u001b[39m\\\\\u001b[39;00m\u001b[39mUsers\u001b[39m\u001b[39m\\\\\u001b[39;00m\u001b[39mprac.ingindustrial2\u001b[39m\u001b[39m\\\\\u001b[39;00m\u001b[39mOneDrive - Prebel S.A\u001b[39m\u001b[39m\\\\\u001b[39;00m\u001b[39mEscritorio\u001b[39m\u001b[39m\\\\\u001b[39;00m\u001b[39mSAP\u001b[39m\u001b[39m\\\\\u001b[39;00m\u001b[39mArchivos_CSV\u001b[39m\u001b[39m\\\\\u001b[39;00m\u001b[39m\"\u001b[39m\n\u001b[1;32m----> 5\u001b[0m SAP_GUI\u001b[39m.\u001b[39;49mExport_TXT2(Name_ZSD127,session,Ruta_ZSD127)\n",
      "File \u001b[1;32mc:\\Users\\prac.ingindustrial2\\Bot_Automa_SAP\\Automatizaciones Prebel\\Bot_Transpote\\Librerias_SAP\\SAP_GUI.py:183\u001b[0m, in \u001b[0;36mExport_TXT2\u001b[1;34m(Name, session, Ruta)\u001b[0m\n\u001b[0;32m    181\u001b[0m         session\u001b[39m.\u001b[39mfindById(\u001b[39m\"\u001b[39m\u001b[39mwnd[0]/tbar[1]/btn[9]\u001b[39m\u001b[39m\"\u001b[39m)\u001b[39m.\u001b[39mpress ()\n\u001b[0;32m    182\u001b[0m \u001b[39mfinally\u001b[39;00m:\n\u001b[1;32m--> 183\u001b[0m     session\u001b[39m.\u001b[39;49mfindById(\u001b[39m\"\u001b[39;49m\u001b[39mwnd[1]/usr/subSUBSCREEN_STEPLOOP:SAPLSPO5:0150/sub:SAPLSPO5:0150/radSPOPLI-SELFLAG[1,0]\u001b[39;49m\u001b[39m\"\u001b[39;49m)\u001b[39m.\u001b[39mselect()\n\u001b[0;32m    184\u001b[0m     session\u001b[39m.\u001b[39mfindById(\u001b[39m\"\u001b[39m\u001b[39mwnd[1]/tbar[0]/btn[0]\u001b[39m\u001b[39m\"\u001b[39m)\u001b[39m.\u001b[39mpress()\n\u001b[0;32m    185\u001b[0m     \u001b[39mif\u001b[39;00m Ruta\u001b[39m==\u001b[39m\u001b[39mNone\u001b[39;00m:\n",
      "File \u001b[1;32m<COMObject <unknown>>:2\u001b[0m, in \u001b[0;36mfindById\u001b[1;34m(self, *args)\u001b[0m\n",
      "\u001b[1;31mcom_error\u001b[0m: (-2147352567, 'Ocurrió una excepción.', (619, 'SAP Frontend Server', 'The control could not be found by id.', 'C:\\\\Program Files (x86)\\\\SAP\\\\FrontEnd\\\\SAPgui\\\\sapfront.HLP', 393215, 0), None)"
     ]
    }
   ],
   "source": [
    "#Dowloader data\n",
    "\n",
    "Name_ZSD127=\"Alerta_Entregas_ZS127\"\n",
    "Ruta_ZSD127=\"C:\\\\Users\\\\prac.ingindustrial2\\\\OneDrive - Prebel S.A\\\\Escritorio\\\\SAP\\\\Archivos_CSV\\\\\"\n",
    "SAP_GUI.Export_TXT2(Name_ZSD127,session,Ruta_ZSD127)"
   ]
  },
  {
   "cell_type": "code",
   "execution_count": null,
   "metadata": {},
   "outputs": [],
   "source": [
    "Transporte_Alertas=pd.read_csv(Ruta_ZSD127+Name_ZSD127+\".txt\",delimiter=\"\\t\",skiprows=5)\n",
    "Transporte_Alertas=Funtions.Clean_Columns(Transporte_Alertas)\n",
    "#Transporte_Alertas=Funtions.default_column(Default_Column_ZSD127,Pedidos_Procesados)"
   ]
  },
  {
   "cell_type": "code",
   "execution_count": null,
   "metadata": {},
   "outputs": [],
   "source": [
    "#Limpiar Datos\n",
    "Transporte_Alertas=Transporte_Alertas.fillna(\" \")"
   ]
  },
  {
   "cell_type": "code",
   "execution_count": null,
   "metadata": {},
   "outputs": [],
   "source": [
    "\"\"\"Send email\"\"\"\n",
    "\n",
    "correos=\"prac.ingindustrial2@prebel.com.co\"\n",
    "\n",
    "def send_emails(*args,emails=\"\",htmlbody=\"\",subject=\"\"):\n",
    "    email=emails\n",
    "    outlook=win32com.client.Dispatch(\"outlook.application\")\n",
    "    mail=outlook.CreateItem(0)\n",
    "    mail.Subject=subject+\" \"+datetime.now().strftime('%#d %b %Y %H:%M')\n",
    "    mail.To=email\n",
    "    mail.HTMLBody=htmlbody.format(*args)\n",
    "    mail.Send()\n",
    "\n",
    "\n",
    "def style_df(df,column:str,value_left,value_right):\n",
    "    \"\"\"\n",
    "    -df: Dataframe\n",
    "    -column: Nombre de la columna en Str\n",
    "    -value_left:Rango de valor izquierdo\n",
    "    -value_right: Rango de valor derecho\n",
    "    \"\"\"\n",
    "    return df.style \\\n",
    "        .set_table_styles([{'selector': \"table,tr,th,td\", 'props': [(\"border\", \"1px solid\"), ('color', '#000'),(\"text-align\",\"center\")]}]) \\\n",
    "        .highlight_between(subset=[column],color='#FF5733',left=value_left,right=value_right) \\\n",
    "\n"
   ]
  },
  {
   "cell_type": "code",
   "execution_count": null,
   "metadata": {},
   "outputs": [],
   "source": [
    "html=\"\"\"\n",
    "    <h2 style=\"text-align: center\">INFORME DE PERMANENCIAS DE PEDIDOS</h2>\n",
    "    <p> Por medio del presente informe se evidencia las permanencia de pedidos y el transporte asociado.</p>\n",
    "\n",
    "    <div\">{0}</div>\n",
    "\n",
    "    <p> Anticipo sinceros agradecimientos. </p>\n",
    " \"\"\"\n",
    "\n",
    "Transporte_Alertas_Informe=style_df(Transporte_Alertas,\"Transporte\",\" \",\" \")     #Style between LI and LS\n",
    "\n",
    "send_emails(Transporte_Alertas_Informe.to_html(),emails=correos,htmlbody=html,subject=\"Informe de permanencia de pedidos\")\n"
   ]
  }
 ],
 "metadata": {
  "kernelspec": {
   "display_name": "base",
   "language": "python",
   "name": "python3"
  },
  "language_info": {
   "codemirror_mode": {
    "name": "ipython",
    "version": 3
   },
   "file_extension": ".py",
   "mimetype": "text/x-python",
   "name": "python",
   "nbconvert_exporter": "python",
   "pygments_lexer": "ipython3",
   "version": "3.9.13"
  },
  "orig_nbformat": 4
 },
 "nbformat": 4,
 "nbformat_minor": 2
}
