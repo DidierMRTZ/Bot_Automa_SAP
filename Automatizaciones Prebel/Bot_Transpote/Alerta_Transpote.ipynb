{
 "cells": [
  {
   "cell_type": "code",
   "execution_count": 56,
   "metadata": {},
   "outputs": [],
   "source": [
    "from Librerias_SAP import SAP_GUI, Funtions\n",
    "import pandas as pd"
   ]
  },
  {
   "cell_type": "code",
   "execution_count": 57,
   "metadata": {},
   "outputs": [],
   "source": [
    "\"\"\"----------------------------Inciar session----------------------------------------------------\"\"\"\n",
    "# Insert User name and password\n",
    "Keys=pd.read_excel(\"C:\\\\Users\\\\prac.ingindustrial2\\\\OneDrive - Prebel S.A\\\\Escritorio\\\\SAP\\\\Claves\\\\Keys.xlsx\")\n",
    "user=Keys[\"User\"][0]\n",
    "password=Keys[\"Password\"][0]\n",
    "# Initialize session\n",
    "session=SAP_GUI.SessionSAP(user,password)"
   ]
  },
  {
   "cell_type": "code",
   "execution_count": 58,
   "metadata": {},
   "outputs": [],
   "source": [
    "Default_Column_ZSD127=['Cliente', 'Nombre', 'Pedido Externo - OC', 'Pedido', 'Tipo',\n",
    "       'Denominación', 'Fecha creación Ped.', 'Bloqueo Despacho',\n",
    "       'Status Picking (SM)', 'Status Factura', 'Status Transporte',\n",
    "       'Transporte', 'Fecha Transporte']"
   ]
  },
  {
   "cell_type": "code",
   "execution_count": 59,
   "metadata": {},
   "outputs": [],
   "source": [
    "transsacion_ZSD127='zsd127'\n",
    "variant_ZSD127=\"PROCESADOS\"\n",
    "session.StartTransaction(transsacion_ZSD127)"
   ]
  },
  {
   "cell_type": "code",
   "execution_count": 60,
   "metadata": {},
   "outputs": [],
   "source": [
    "def Search_table_Variant(session,Variant):\n",
    "    session.findById(\"wnd[0]/tbar[1]/btn[17]\").press()\n",
    "    variants =session.findById(\"wnd[1]/usr/cntlALV_CONTAINER_1/shellcont/shell\")\n",
    "    row=variants.RowCount  #Count total rows\n",
    "    lis=[variants.GetCellValue(i,\"VARIANT\") for i in range(0,row)]  #send variant apply GetCellValue\n",
    "    indice=[indice for indice, dato in enumerate(lis) if dato == Variant]\n",
    "    variants.selectedRows = indice[0]\n",
    "    session.findById(\"wnd[1]/tbar[0]/btn[2]\").press()\n",
    "    return(Variant)"
   ]
  },
  {
   "cell_type": "code",
   "execution_count": null,
   "metadata": {},
   "outputs": [],
   "source": []
  },
  {
   "cell_type": "code",
   "execution_count": 61,
   "metadata": {},
   "outputs": [],
   "source": [
    "def Search_ZSD127(Transsaccion,Variant,session):\n",
    "    session.StartTransaction(Transsaccion)\n",
    "    Search_table_Variant(session,Variant)\n",
    "    session.findById(\"wnd[0]/tbar[1]/btn[8]\").press()\n",
    "\n"
   ]
  },
  {
   "cell_type": "code",
   "execution_count": 62,
   "metadata": {},
   "outputs": [],
   "source": [
    "Search_ZSD127(transsacion_ZSD127,variant_ZSD127,session)"
   ]
  },
  {
   "cell_type": "code",
   "execution_count": 31,
   "metadata": {},
   "outputs": [],
   "source": [
    "#Dowloader data\n",
    "\n",
    "Name_ZSD127=\"Procesados_ZSD127\"\n",
    "Ruta_ZSD127=\"C:\\\\Users\\\\prac.ingindustrial2\\\\OneDrive - Prebel S.A\\\\Escritorio\\\\SAP\\\\Archivos_CSV\\\\\"\n",
    "SAP_GUI.Export_TXT2(Name_ZSD127,session,Ruta_ZSD127)"
   ]
  },
  {
   "cell_type": "code",
   "execution_count": 50,
   "metadata": {},
   "outputs": [],
   "source": [
    "Pedidos_Procesados=pd.read_csv(Ruta_ZSD127+Name_ZSD127+\".txt\",delimiter=\"\\t\",skiprows=5)\n",
    "Pedidos_Procesados=Funtions.Clean_Columns(Pedidos_Procesados)\n",
    "Pedidos_Procesados=Funtions.default_column(Default_Column_ZSD127,Pedidos_Procesados)"
   ]
  },
  {
   "cell_type": "code",
   "execution_count": 55,
   "metadata": {},
   "outputs": [
    {
     "data": {
      "text/plain": [
       "0      903141194\n",
       "1      903141195\n",
       "2      903141203\n",
       "3      903141204\n",
       "4      903141205\n",
       "         ...    \n",
       "769    903140810\n",
       "770    903140811\n",
       "771    903140812\n",
       "772    903140813\n",
       "773    903140814\n",
       "Name: Pedido, Length: 762, dtype: int64"
      ]
     },
     "execution_count": 55,
     "metadata": {},
     "output_type": "execute_result"
    }
   ],
   "source": [
    "Pedidos_Procesados['Pedido'].drop_duplicates()"
   ]
  },
  {
   "cell_type": "code",
   "execution_count": null,
   "metadata": {},
   "outputs": [],
   "source": []
  }
 ],
 "metadata": {
  "kernelspec": {
   "display_name": "base",
   "language": "python",
   "name": "python3"
  },
  "language_info": {
   "codemirror_mode": {
    "name": "ipython",
    "version": 3
   },
   "file_extension": ".py",
   "mimetype": "text/x-python",
   "name": "python",
   "nbconvert_exporter": "python",
   "pygments_lexer": "ipython3",
   "version": "3.9.13"
  },
  "orig_nbformat": 4
 },
 "nbformat": 4,
 "nbformat_minor": 2
}
