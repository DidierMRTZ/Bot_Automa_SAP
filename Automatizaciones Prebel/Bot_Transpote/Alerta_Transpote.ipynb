{
 "cells": [
  {
   "cell_type": "code",
   "execution_count": 2,
   "metadata": {},
   "outputs": [],
   "source": [
    "from Librerias_SAP import SAP_GUI, Funtions\n",
    "import pandas as pd"
   ]
  },
  {
   "cell_type": "code",
   "execution_count": 3,
   "metadata": {},
   "outputs": [],
   "source": [
    "\"\"\"----------------------------Inciar session----------------------------------------------------\"\"\"\n",
    "# Insert User name and password\n",
    "Keys=pd.read_excel(\"C:\\\\Users\\\\prac.ingindustrial2\\\\OneDrive - Prebel S.A\\\\Escritorio\\\\SAP\\\\Claves\\\\Keys.xlsx\")\n",
    "user=Keys[\"User\"][0]\n",
    "password=Keys[\"Password\"][0]\n",
    "# Initialize session\n",
    "session=SAP_GUI.SessionSAP(user,password)"
   ]
  },
  {
   "cell_type": "code",
   "execution_count": 4,
   "metadata": {},
   "outputs": [],
   "source": [
    "Default_Column_ZSD76=['Solic.', 'Solicitante', 'Fecha salida mercancía', 'Material',\n",
    "       'Número de material', 'Cantidad entrega', 'UM', 'MARCA', 'CATEGORIA',\n",
    "       'Entrega', 'ClEnt', 'Clase de entrega', 'ClVt',\n",
    "       'Clase de documento de ventas', 'OrgVt', 'CDis', 'Doc.venta',\n",
    "       'Prc.neto', 'Mon.', 'Destinat.', 'Destinatario de mercancías',\n",
    "       'Nº pedido cliente', 'Fecha creación Pedido']\n",
    "\n",
    "Default_Column_ZS127=['Cliente', 'Nombre', 'Pedido Externo - OC', 'Pedido', 'Tipo',\n",
    "       'Denominación', 'Fecha creación Ped.', 'Status Picking (SM)',\n",
    "       'Status Factura', 'Status Transporte', 'Transporte']"
   ]
  },
  {
   "cell_type": "code",
   "execution_count": 5,
   "metadata": {},
   "outputs": [],
   "source": [
    "transsacion_ZSD76='zsd76'\n",
    "variant_ZSD76=\"JESPINOSAP\"\n",
    "provision_ZSd76=\"PROCESADOS\""
   ]
  },
  {
   "cell_type": "code",
   "execution_count": 5,
   "metadata": {},
   "outputs": [],
   "source": [
    "def Search_table_Variant(session,Variant):\n",
    "    session.findById(\"wnd[0]/tbar[1]/btn[17]\").press()\n",
    "    variants =session.findById(\"wnd[1]/usr/cntlALV_CONTAINER_1/shellcont/shell\")\n",
    "    row=variants.RowCount  #Count total rows\n",
    "    lis=[variants.GetCellValue(i,\"VARIANT\") for i in range(0,row)]  #send variant apply GetCellValue\n",
    "    indice=[indice for indice, dato in enumerate(lis) if dato == Variant]\n",
    "    variants.selectedRows = indice[0]\n",
    "    session.findById(\"wnd[1]/tbar[0]/btn[2]\").press()\n",
    "    return(Variant)"
   ]
  },
  {
   "cell_type": "code",
   "execution_count": 6,
   "metadata": {},
   "outputs": [],
   "source": [
    "def Search_ZSD76(Transsaccion,Variant,session):\n",
    "    session.StartTransaction(Transsaccion)\n",
    "    Search_table_Variant(session,Variant)\n",
    "    session.findById(\"wnd[0]/tbar[1]/btn[8]\").press()"
   ]
  },
  {
   "cell_type": "code",
   "execution_count": 7,
   "metadata": {},
   "outputs": [],
   "source": [
    "def Search_ZSD127(Transsaccion,Variant,session):\n",
    "    session.StartTransaction(Transsaccion)\n",
    "    Search_table_Variant(session,Variant)\n",
    "    session.findById(\"wnd[0]/tbar[1]/btn[8]\").press()"
   ]
  },
  {
   "cell_type": "code",
   "execution_count": 8,
   "metadata": {},
   "outputs": [],
   "source": [
    "def Search_ZSD76(Transsaccion,session,provision,variant):\n",
    "    session.StartTransaction(Transsaccion)\n",
    "    session.findById(\"wnd[0]/tbar[1]/btn[17]\").press()\n",
    "    session.findById(\"wnd[1]/usr/txtV-LOW\").text = provision\n",
    "    session.findById(\"wnd[1]/usr/txtENAME-LOW\").text = variant\n",
    "    session.findById(\"wnd[1]/usr/txtV-LOW\").caretPosition = 8\n",
    "    session.findById(\"wnd[1]/tbar[0]/btn[8]\").press()\n",
    "    session.findById(\"wnd[0]/tbar[1]/btn[8]\").press()\n",
    "    return(session)"
   ]
  },
  {
   "cell_type": "code",
   "execution_count": 7,
   "metadata": {},
   "outputs": [
    {
     "ename": "AttributeError",
     "evalue": "module 'Librerias_SAP.SAP_GUI' has no attribute 'Search_ZSD76'",
     "output_type": "error",
     "traceback": [
      "\u001b[1;31m---------------------------------------------------------------------------\u001b[0m",
      "\u001b[1;31mAttributeError\u001b[0m                            Traceback (most recent call last)",
      "Cell \u001b[1;32mIn[7], line 1\u001b[0m\n\u001b[1;32m----> 1\u001b[0m SAP_GUI\u001b[39m.\u001b[39;49mSearch_ZSD76(transsacion_ZSD76,session,provision_ZSd76,variant_ZSD76)\n",
      "\u001b[1;31mAttributeError\u001b[0m: module 'Librerias_SAP.SAP_GUI' has no attribute 'Search_ZSD76'"
     ]
    }
   ],
   "source": [
    "SAP_GUI.Search_ZSD76(transsacion_ZSD76,session,provision_ZSd76,variant_ZSD76)"
   ]
  },
  {
   "cell_type": "code",
   "execution_count": 54,
   "metadata": {},
   "outputs": [],
   "source": [
    "#Dowloader data\n",
    "\n",
    "Name_ZSD76=\"Detalle_Entregas_ZSD76\"\n",
    "Ruta_ZSD76=\"C:\\\\Users\\\\prac.ingindustrial2\\\\OneDrive - Prebel S.A\\\\Escritorio\\\\SAP\\\\Archivos_CSV\\\\\"\n",
    "SAP_GUI.Export_TXT2(Name_ZSD76,session,Ruta_ZSD76)"
   ]
  },
  {
   "cell_type": "code",
   "execution_count": 55,
   "metadata": {},
   "outputs": [],
   "source": [
    "Pedidos_Procesados=pd.read_csv(Ruta_ZSD76+Name_ZSD76+\".txt\",delimiter=\"\\t\",skiprows=5)\n",
    "Pedidos_Procesados=Funtions.Clean_Columns(Pedidos_Procesados)\n",
    "Pedidos_Procesados=Funtions.default_column(Default_Column_ZSD76,Pedidos_Procesados)"
   ]
  },
  {
   "cell_type": "code",
   "execution_count": 91,
   "metadata": {},
   "outputs": [],
   "source": [
    "Transsaccion_ZSD127=\"zsd127\"\n",
    "Variant_ZSD127=\"ESTANDAR\"\n",
    "Documento_Ventas=Pedidos_Procesados['Doc.venta'].drop_duplicates()\n",
    "Series=Documento_Ventas\n",
    "provision=None"
   ]
  },
  {
   "cell_type": "code",
   "execution_count": 124,
   "metadata": {},
   "outputs": [],
   "source": [
    "def Search_Pedidos_ZSD127(Transsaccion,Series,session,Variant,provision=None):      #(column Dataframe)\n",
    "    \"\"\"\n",
    "    Transsaccion: Transsacion a buscar\n",
    "    Series: Columna del dataframe que quiero copiar\n",
    "    session: session del usuario\n",
    "    Variant: Variante de visualizacion\n",
    "    provision: disposicion o Layout\n",
    "    \"\"\"\n",
    "    session.StartTransaction(Transsaccion)\n",
    "    Search_table_Variant(session,Variant)\n",
    "    Series=Series.to_clipboard(index=False, header=False)\n",
    "    session.findById(\"wnd[0]/usr/btn%_SP$00004_%_APP_%-VALU_PUSH\").press()\n",
    "    session.findById(\"wnd[1]/tbar[0]/btn[24]\").press()\n",
    "    session.findById(\"wnd[1]/tbar[0]/btn[8]\").press()\n",
    "    if provision!=None:\n",
    "        session.findById(\"wnd[0]/usr/ctxt%LAYOUT\").text = provision\n",
    "    session.findById(\"wnd[0]/tbar[1]/btn[8]\").press()"
   ]
  },
  {
   "cell_type": "code",
   "execution_count": 125,
   "metadata": {},
   "outputs": [],
   "source": [
    "SAP_GUI.Search_Pedidos_ZSD127(Transsaccion_ZSD127,Documento_Ventas,session,Variant_ZSD127,provision=None)"
   ]
  },
  {
   "cell_type": "code",
   "execution_count": 111,
   "metadata": {},
   "outputs": [],
   "source": [
    "#Dowloader data\n",
    "\n",
    "Name_ZSD127=\"Detalle_Entregas_ZSD76\"\n",
    "Ruta_ZSD127=\"C:\\\\Users\\\\prac.ingindustrial2\\\\OneDrive - Prebel S.A\\\\Escritorio\\\\SAP\\\\Archivos_CSV\\\\\"\n",
    "SAP_GUI.Export_TXT2(Name_ZSD76,session,Ruta_ZSD76)"
   ]
  },
  {
   "cell_type": "code",
   "execution_count": 116,
   "metadata": {},
   "outputs": [],
   "source": [
    "Transporte_Alertas=pd.read_csv(Ruta_ZSD127+Name_ZSD127+\".txt\",delimiter=\"\\t\",skiprows=5)\n",
    "Transporte_Alertas=Funtions.Clean_Columns(Transporte_Alertas)\n",
    "#Transporte_Alertas=Funtions.default_column(Default_Column_ZSD76,Pedidos_Procesados)"
   ]
  }
 ],
 "metadata": {
  "kernelspec": {
   "display_name": "base",
   "language": "python",
   "name": "python3"
  },
  "language_info": {
   "codemirror_mode": {
    "name": "ipython",
    "version": 3
   },
   "file_extension": ".py",
   "mimetype": "text/x-python",
   "name": "python",
   "nbconvert_exporter": "python",
   "pygments_lexer": "ipython3",
   "version": "3.9.13"
  },
  "orig_nbformat": 4
 },
 "nbformat": 4,
 "nbformat_minor": 2
}
