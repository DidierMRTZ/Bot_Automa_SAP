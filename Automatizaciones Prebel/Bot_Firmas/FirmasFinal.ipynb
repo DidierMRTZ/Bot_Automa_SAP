{
 "cells": [
  {
   "cell_type": "code",
   "execution_count": 2,
   "metadata": {},
   "outputs": [
    {
     "name": "stderr",
     "output_type": "stream",
     "text": [
      "c:\\Users\\prac.ingindustrial2\\Anaconda3\\lib\\site-packages\\pywinauto\\application.py:1085: UserWarning: 32-bit application should be automated using 32-bit Python (you use 64-bit Python)\n",
      "  warnings.warn(\n"
     ]
    },
    {
     "name": "stdout",
     "output_type": "stream",
     "text": [
      "Se firmo la orden FAB 89529109\n"
     ]
    },
    {
     "name": "stderr",
     "output_type": "stream",
     "text": [
      "c:\\Users\\prac.ingindustrial2\\Anaconda3\\lib\\site-packages\\pywinauto\\application.py:1085: UserWarning: 32-bit application should be automated using 32-bit Python (you use 64-bit Python)\n",
      "  warnings.warn(\n"
     ]
    },
    {
     "name": "stdout",
     "output_type": "stream",
     "text": [
      "Se firmo la orden FAB 89529109\n"
     ]
    },
    {
     "name": "stderr",
     "output_type": "stream",
     "text": [
      "c:\\Users\\prac.ingindustrial2\\Anaconda3\\lib\\site-packages\\pywinauto\\application.py:1085: UserWarning: 32-bit application should be automated using 32-bit Python (you use 64-bit Python)\n",
      "  warnings.warn(\n"
     ]
    },
    {
     "name": "stdout",
     "output_type": "stream",
     "text": [
      "Se firmo la orden FAB 89529254\n"
     ]
    },
    {
     "name": "stderr",
     "output_type": "stream",
     "text": [
      "c:\\Users\\prac.ingindustrial2\\Anaconda3\\lib\\site-packages\\pywinauto\\application.py:1085: UserWarning: 32-bit application should be automated using 32-bit Python (you use 64-bit Python)\n",
      "  warnings.warn(\n"
     ]
    },
    {
     "name": "stdout",
     "output_type": "stream",
     "text": [
      "Se firmo la orden FAB 89529254\n"
     ]
    },
    {
     "name": "stderr",
     "output_type": "stream",
     "text": [
      "c:\\Users\\prac.ingindustrial2\\Anaconda3\\lib\\site-packages\\pywinauto\\application.py:1085: UserWarning: 32-bit application should be automated using 32-bit Python (you use 64-bit Python)\n",
      "  warnings.warn(\n"
     ]
    },
    {
     "name": "stdout",
     "output_type": "stream",
     "text": [
      "Se firmo la orden FAB 89529255\n"
     ]
    },
    {
     "name": "stderr",
     "output_type": "stream",
     "text": [
      "c:\\Users\\prac.ingindustrial2\\Anaconda3\\lib\\site-packages\\pywinauto\\application.py:1085: UserWarning: 32-bit application should be automated using 32-bit Python (you use 64-bit Python)\n",
      "  warnings.warn(\n"
     ]
    },
    {
     "name": "stdout",
     "output_type": "stream",
     "text": [
      "Se firmo la orden FAB 89529255\n"
     ]
    },
    {
     "name": "stderr",
     "output_type": "stream",
     "text": [
      "c:\\Users\\prac.ingindustrial2\\Anaconda3\\lib\\site-packages\\pywinauto\\application.py:1085: UserWarning: 32-bit application should be automated using 32-bit Python (you use 64-bit Python)\n",
      "  warnings.warn(\n",
      "c:\\Users\\prac.ingindustrial2\\Anaconda3\\lib\\site-packages\\pywinauto\\application.py:1085: UserWarning: 32-bit application should be automated using 32-bit Python (you use 64-bit Python)\n",
      "  warnings.warn(\n"
     ]
    },
    {
     "name": "stdout",
     "output_type": "stream",
     "text": [
      "Se firmo la orden FAB 41066886\n"
     ]
    },
    {
     "name": "stderr",
     "output_type": "stream",
     "text": [
      "c:\\Users\\prac.ingindustrial2\\Anaconda3\\lib\\site-packages\\pywinauto\\application.py:1085: UserWarning: 32-bit application should be automated using 32-bit Python (you use 64-bit Python)\n",
      "  warnings.warn(\n"
     ]
    },
    {
     "name": "stdout",
     "output_type": "stream",
     "text": [
      "Se firmo la orden FAB 41066956\n"
     ]
    },
    {
     "name": "stderr",
     "output_type": "stream",
     "text": [
      "c:\\Users\\prac.ingindustrial2\\Anaconda3\\lib\\site-packages\\pywinauto\\application.py:1085: UserWarning: 32-bit application should be automated using 32-bit Python (you use 64-bit Python)\n",
      "  warnings.warn(\n"
     ]
    },
    {
     "name": "stdout",
     "output_type": "stream",
     "text": [
      "Se firmo la orden FAB 41066956\n"
     ]
    },
    {
     "name": "stderr",
     "output_type": "stream",
     "text": [
      "c:\\Users\\prac.ingindustrial2\\Anaconda3\\lib\\site-packages\\pywinauto\\application.py:1085: UserWarning: 32-bit application should be automated using 32-bit Python (you use 64-bit Python)\n",
      "  warnings.warn(\n"
     ]
    },
    {
     "name": "stdout",
     "output_type": "stream",
     "text": [
      "Se firmo la orden FAB 89529675\n"
     ]
    },
    {
     "name": "stderr",
     "output_type": "stream",
     "text": [
      "c:\\Users\\prac.ingindustrial2\\Anaconda3\\lib\\site-packages\\pywinauto\\application.py:1085: UserWarning: 32-bit application should be automated using 32-bit Python (you use 64-bit Python)\n",
      "  warnings.warn(\n"
     ]
    },
    {
     "name": "stdout",
     "output_type": "stream",
     "text": [
      "Se firmo la orden FAB 89529675\n"
     ]
    },
    {
     "name": "stderr",
     "output_type": "stream",
     "text": [
      "c:\\Users\\prac.ingindustrial2\\Anaconda3\\lib\\site-packages\\pywinauto\\application.py:1085: UserWarning: 32-bit application should be automated using 32-bit Python (you use 64-bit Python)\n",
      "  warnings.warn(\n"
     ]
    },
    {
     "name": "stdout",
     "output_type": "stream",
     "text": [
      "Se firmo la orden FAB 85029614\n"
     ]
    },
    {
     "name": "stderr",
     "output_type": "stream",
     "text": [
      "c:\\Users\\prac.ingindustrial2\\Anaconda3\\lib\\site-packages\\pywinauto\\application.py:1085: UserWarning: 32-bit application should be automated using 32-bit Python (you use 64-bit Python)\n",
      "  warnings.warn(\n"
     ]
    },
    {
     "name": "stdout",
     "output_type": "stream",
     "text": [
      "Se firmo la orden FAB 85029614\n"
     ]
    },
    {
     "name": "stderr",
     "output_type": "stream",
     "text": [
      "c:\\Users\\prac.ingindustrial2\\Anaconda3\\lib\\site-packages\\pywinauto\\application.py:1085: UserWarning: 32-bit application should be automated using 32-bit Python (you use 64-bit Python)\n",
      "  warnings.warn(\n",
      "c:\\Users\\prac.ingindustrial2\\Anaconda3\\lib\\site-packages\\pywinauto\\application.py:1085: UserWarning: 32-bit application should be automated using 32-bit Python (you use 64-bit Python)\n",
      "  warnings.warn(\n",
      "c:\\Users\\prac.ingindustrial2\\Anaconda3\\lib\\site-packages\\pywinauto\\application.py:1085: UserWarning: 32-bit application should be automated using 32-bit Python (you use 64-bit Python)\n",
      "  warnings.warn(\n"
     ]
    },
    {
     "name": "stdout",
     "output_type": "stream",
     "text": [
      "Se firmo la orden FAB 98891336\n"
     ]
    },
    {
     "name": "stderr",
     "output_type": "stream",
     "text": [
      "c:\\Users\\prac.ingindustrial2\\Anaconda3\\lib\\site-packages\\pywinauto\\application.py:1085: UserWarning: 32-bit application should be automated using 32-bit Python (you use 64-bit Python)\n",
      "  warnings.warn(\n",
      "c:\\Users\\prac.ingindustrial2\\Anaconda3\\lib\\site-packages\\pywinauto\\application.py:1085: UserWarning: 32-bit application should be automated using 32-bit Python (you use 64-bit Python)\n",
      "  warnings.warn(\n"
     ]
    },
    {
     "name": "stdout",
     "output_type": "stream",
     "text": [
      "Se firmo la orden FAB 98891361\n"
     ]
    },
    {
     "name": "stderr",
     "output_type": "stream",
     "text": [
      "c:\\Users\\prac.ingindustrial2\\Anaconda3\\lib\\site-packages\\pywinauto\\application.py:1085: UserWarning: 32-bit application should be automated using 32-bit Python (you use 64-bit Python)\n",
      "  warnings.warn(\n"
     ]
    },
    {
     "name": "stdout",
     "output_type": "stream",
     "text": [
      "Se firmo la orden FAB 98891361\n"
     ]
    },
    {
     "name": "stderr",
     "output_type": "stream",
     "text": [
      "c:\\Users\\prac.ingindustrial2\\Anaconda3\\lib\\site-packages\\pywinauto\\application.py:1085: UserWarning: 32-bit application should be automated using 32-bit Python (you use 64-bit Python)\n",
      "  warnings.warn(\n"
     ]
    },
    {
     "name": "stdout",
     "output_type": "stream",
     "text": [
      "Se firmo la orden FAB 98891403\n"
     ]
    },
    {
     "name": "stderr",
     "output_type": "stream",
     "text": [
      "c:\\Users\\prac.ingindustrial2\\Anaconda3\\lib\\site-packages\\pywinauto\\application.py:1085: UserWarning: 32-bit application should be automated using 32-bit Python (you use 64-bit Python)\n",
      "  warnings.warn(\n"
     ]
    },
    {
     "name": "stdout",
     "output_type": "stream",
     "text": [
      "Se firmo la orden FAB 98891403\n"
     ]
    },
    {
     "name": "stderr",
     "output_type": "stream",
     "text": [
      "c:\\Users\\prac.ingindustrial2\\Anaconda3\\lib\\site-packages\\pywinauto\\application.py:1085: UserWarning: 32-bit application should be automated using 32-bit Python (you use 64-bit Python)\n",
      "  warnings.warn(\n"
     ]
    },
    {
     "name": "stdout",
     "output_type": "stream",
     "text": [
      "Se firmo la orden FAB 98891404\n"
     ]
    },
    {
     "name": "stderr",
     "output_type": "stream",
     "text": [
      "c:\\Users\\prac.ingindustrial2\\Anaconda3\\lib\\site-packages\\pywinauto\\application.py:1085: UserWarning: 32-bit application should be automated using 32-bit Python (you use 64-bit Python)\n",
      "  warnings.warn(\n"
     ]
    },
    {
     "name": "stdout",
     "output_type": "stream",
     "text": [
      "Se firmo la orden FAB 98891404\n"
     ]
    },
    {
     "name": "stderr",
     "output_type": "stream",
     "text": [
      "c:\\Users\\prac.ingindustrial2\\Anaconda3\\lib\\site-packages\\pywinauto\\application.py:1085: UserWarning: 32-bit application should be automated using 32-bit Python (you use 64-bit Python)\n",
      "  warnings.warn(\n"
     ]
    },
    {
     "name": "stdout",
     "output_type": "stream",
     "text": [
      "Se firmo la orden FAB 98891406\n"
     ]
    },
    {
     "name": "stderr",
     "output_type": "stream",
     "text": [
      "c:\\Users\\prac.ingindustrial2\\Anaconda3\\lib\\site-packages\\pywinauto\\application.py:1085: UserWarning: 32-bit application should be automated using 32-bit Python (you use 64-bit Python)\n",
      "  warnings.warn(\n"
     ]
    },
    {
     "name": "stdout",
     "output_type": "stream",
     "text": [
      "Se firmo la orden FAB 98891406\n"
     ]
    },
    {
     "name": "stderr",
     "output_type": "stream",
     "text": [
      "c:\\Users\\prac.ingindustrial2\\Anaconda3\\lib\\site-packages\\pywinauto\\application.py:1085: UserWarning: 32-bit application should be automated using 32-bit Python (you use 64-bit Python)\n",
      "  warnings.warn(\n"
     ]
    },
    {
     "name": "stdout",
     "output_type": "stream",
     "text": [
      "Se firmo la orden FAB 98891407\n"
     ]
    },
    {
     "name": "stderr",
     "output_type": "stream",
     "text": [
      "c:\\Users\\prac.ingindustrial2\\Anaconda3\\lib\\site-packages\\pywinauto\\application.py:1085: UserWarning: 32-bit application should be automated using 32-bit Python (you use 64-bit Python)\n",
      "  warnings.warn(\n"
     ]
    },
    {
     "name": "stdout",
     "output_type": "stream",
     "text": [
      "Se firmo la orden FAB 98891407\n"
     ]
    },
    {
     "name": "stderr",
     "output_type": "stream",
     "text": [
      "c:\\Users\\prac.ingindustrial2\\Anaconda3\\lib\\site-packages\\pywinauto\\application.py:1085: UserWarning: 32-bit application should be automated using 32-bit Python (you use 64-bit Python)\n",
      "  warnings.warn(\n"
     ]
    },
    {
     "name": "stdout",
     "output_type": "stream",
     "text": [
      "Se firmo la orden FAB 98891408\n"
     ]
    },
    {
     "name": "stderr",
     "output_type": "stream",
     "text": [
      "c:\\Users\\prac.ingindustrial2\\Anaconda3\\lib\\site-packages\\pywinauto\\application.py:1085: UserWarning: 32-bit application should be automated using 32-bit Python (you use 64-bit Python)\n",
      "  warnings.warn(\n"
     ]
    },
    {
     "name": "stdout",
     "output_type": "stream",
     "text": [
      "Se firmo la orden FAB 98891408\n"
     ]
    },
    {
     "name": "stderr",
     "output_type": "stream",
     "text": [
      "c:\\Users\\prac.ingindustrial2\\Anaconda3\\lib\\site-packages\\pywinauto\\application.py:1085: UserWarning: 32-bit application should be automated using 32-bit Python (you use 64-bit Python)\n",
      "  warnings.warn(\n"
     ]
    },
    {
     "name": "stdout",
     "output_type": "stream",
     "text": [
      "Se firmo la orden FAB 98891427\n"
     ]
    },
    {
     "name": "stderr",
     "output_type": "stream",
     "text": [
      "c:\\Users\\prac.ingindustrial2\\Anaconda3\\lib\\site-packages\\pywinauto\\application.py:1085: UserWarning: 32-bit application should be automated using 32-bit Python (you use 64-bit Python)\n",
      "  warnings.warn(\n"
     ]
    },
    {
     "name": "stdout",
     "output_type": "stream",
     "text": [
      "Se firmo la orden FAB 98891427\n"
     ]
    },
    {
     "name": "stderr",
     "output_type": "stream",
     "text": [
      "c:\\Users\\prac.ingindustrial2\\Anaconda3\\lib\\site-packages\\pywinauto\\application.py:1085: UserWarning: 32-bit application should be automated using 32-bit Python (you use 64-bit Python)\n",
      "  warnings.warn(\n"
     ]
    },
    {
     "name": "stdout",
     "output_type": "stream",
     "text": [
      "Se firmo la orden FAB 98891429\n"
     ]
    },
    {
     "name": "stderr",
     "output_type": "stream",
     "text": [
      "c:\\Users\\prac.ingindustrial2\\Anaconda3\\lib\\site-packages\\pywinauto\\application.py:1085: UserWarning: 32-bit application should be automated using 32-bit Python (you use 64-bit Python)\n",
      "  warnings.warn(\n"
     ]
    },
    {
     "name": "stdout",
     "output_type": "stream",
     "text": [
      "Se firmo la orden FAB 98891429\n"
     ]
    },
    {
     "name": "stderr",
     "output_type": "stream",
     "text": [
      "c:\\Users\\prac.ingindustrial2\\Anaconda3\\lib\\site-packages\\pywinauto\\application.py:1085: UserWarning: 32-bit application should be automated using 32-bit Python (you use 64-bit Python)\n",
      "  warnings.warn(\n"
     ]
    },
    {
     "name": "stdout",
     "output_type": "stream",
     "text": [
      "Se firmo la orden FAB 98891442\n"
     ]
    },
    {
     "name": "stderr",
     "output_type": "stream",
     "text": [
      "c:\\Users\\prac.ingindustrial2\\Anaconda3\\lib\\site-packages\\pywinauto\\application.py:1085: UserWarning: 32-bit application should be automated using 32-bit Python (you use 64-bit Python)\n",
      "  warnings.warn(\n"
     ]
    },
    {
     "name": "stdout",
     "output_type": "stream",
     "text": [
      "Se firmo la orden FAB 98891442\n"
     ]
    },
    {
     "name": "stderr",
     "output_type": "stream",
     "text": [
      "c:\\Users\\prac.ingindustrial2\\Anaconda3\\lib\\site-packages\\pywinauto\\application.py:1085: UserWarning: 32-bit application should be automated using 32-bit Python (you use 64-bit Python)\n",
      "  warnings.warn(\n",
      "c:\\Users\\prac.ingindustrial2\\Anaconda3\\lib\\site-packages\\pywinauto\\application.py:1085: UserWarning: 32-bit application should be automated using 32-bit Python (you use 64-bit Python)\n",
      "  warnings.warn(\n",
      "c:\\Users\\prac.ingindustrial2\\Anaconda3\\lib\\site-packages\\pywinauto\\application.py:1085: UserWarning: 32-bit application should be automated using 32-bit Python (you use 64-bit Python)\n",
      "  warnings.warn(\n"
     ]
    },
    {
     "name": "stdout",
     "output_type": "stream",
     "text": [
      "Se firmo la orden FAB 98891458\n"
     ]
    },
    {
     "name": "stderr",
     "output_type": "stream",
     "text": [
      "c:\\Users\\prac.ingindustrial2\\Anaconda3\\lib\\site-packages\\pywinauto\\application.py:1085: UserWarning: 32-bit application should be automated using 32-bit Python (you use 64-bit Python)\n",
      "  warnings.warn(\n"
     ]
    },
    {
     "name": "stdout",
     "output_type": "stream",
     "text": [
      "Se firmo la orden FAB 98891458\n"
     ]
    },
    {
     "name": "stderr",
     "output_type": "stream",
     "text": [
      "c:\\Users\\prac.ingindustrial2\\Anaconda3\\lib\\site-packages\\pywinauto\\application.py:1085: UserWarning: 32-bit application should be automated using 32-bit Python (you use 64-bit Python)\n",
      "  warnings.warn(\n"
     ]
    },
    {
     "name": "stdout",
     "output_type": "stream",
     "text": [
      "Se firmo la orden FAB 98891463\n"
     ]
    },
    {
     "name": "stderr",
     "output_type": "stream",
     "text": [
      "c:\\Users\\prac.ingindustrial2\\Anaconda3\\lib\\site-packages\\pywinauto\\application.py:1085: UserWarning: 32-bit application should be automated using 32-bit Python (you use 64-bit Python)\n",
      "  warnings.warn(\n"
     ]
    },
    {
     "name": "stdout",
     "output_type": "stream",
     "text": [
      "Se firmo la orden FAB 98891463\n"
     ]
    },
    {
     "name": "stderr",
     "output_type": "stream",
     "text": [
      "c:\\Users\\prac.ingindustrial2\\Anaconda3\\lib\\site-packages\\pywinauto\\application.py:1085: UserWarning: 32-bit application should be automated using 32-bit Python (you use 64-bit Python)\n",
      "  warnings.warn(\n"
     ]
    },
    {
     "name": "stdout",
     "output_type": "stream",
     "text": [
      "Se firmo la orden FAB 98891464\n"
     ]
    },
    {
     "name": "stderr",
     "output_type": "stream",
     "text": [
      "c:\\Users\\prac.ingindustrial2\\Anaconda3\\lib\\site-packages\\pywinauto\\application.py:1085: UserWarning: 32-bit application should be automated using 32-bit Python (you use 64-bit Python)\n",
      "  warnings.warn(\n"
     ]
    },
    {
     "name": "stdout",
     "output_type": "stream",
     "text": [
      "Se firmo la orden FAB 98891464\n"
     ]
    },
    {
     "name": "stderr",
     "output_type": "stream",
     "text": [
      "c:\\Users\\prac.ingindustrial2\\Anaconda3\\lib\\site-packages\\pywinauto\\application.py:1085: UserWarning: 32-bit application should be automated using 32-bit Python (you use 64-bit Python)\n",
      "  warnings.warn(\n"
     ]
    },
    {
     "name": "stdout",
     "output_type": "stream",
     "text": [
      "Se firmo la orden FAB 98891477\n"
     ]
    },
    {
     "name": "stderr",
     "output_type": "stream",
     "text": [
      "c:\\Users\\prac.ingindustrial2\\Anaconda3\\lib\\site-packages\\pywinauto\\application.py:1085: UserWarning: 32-bit application should be automated using 32-bit Python (you use 64-bit Python)\n",
      "  warnings.warn(\n"
     ]
    },
    {
     "name": "stdout",
     "output_type": "stream",
     "text": [
      "Se firmo la orden FAB 98891477\n"
     ]
    },
    {
     "name": "stderr",
     "output_type": "stream",
     "text": [
      "c:\\Users\\prac.ingindustrial2\\Anaconda3\\lib\\site-packages\\pywinauto\\application.py:1085: UserWarning: 32-bit application should be automated using 32-bit Python (you use 64-bit Python)\n",
      "  warnings.warn(\n"
     ]
    },
    {
     "name": "stdout",
     "output_type": "stream",
     "text": [
      "Se firmo la orden FAB 98891478\n"
     ]
    },
    {
     "name": "stderr",
     "output_type": "stream",
     "text": [
      "c:\\Users\\prac.ingindustrial2\\Anaconda3\\lib\\site-packages\\pywinauto\\application.py:1085: UserWarning: 32-bit application should be automated using 32-bit Python (you use 64-bit Python)\n",
      "  warnings.warn(\n"
     ]
    },
    {
     "name": "stdout",
     "output_type": "stream",
     "text": [
      "Se firmo la orden FAB 98891478\n"
     ]
    },
    {
     "name": "stderr",
     "output_type": "stream",
     "text": [
      "c:\\Users\\prac.ingindustrial2\\Anaconda3\\lib\\site-packages\\pywinauto\\application.py:1085: UserWarning: 32-bit application should be automated using 32-bit Python (you use 64-bit Python)\n",
      "  warnings.warn(\n"
     ]
    },
    {
     "name": "stdout",
     "output_type": "stream",
     "text": [
      "Se firmo la orden FAB 98891480\n"
     ]
    },
    {
     "name": "stderr",
     "output_type": "stream",
     "text": [
      "c:\\Users\\prac.ingindustrial2\\Anaconda3\\lib\\site-packages\\pywinauto\\application.py:1085: UserWarning: 32-bit application should be automated using 32-bit Python (you use 64-bit Python)\n",
      "  warnings.warn(\n"
     ]
    },
    {
     "name": "stdout",
     "output_type": "stream",
     "text": [
      "Se firmo la orden FAB 98891480\n"
     ]
    },
    {
     "name": "stderr",
     "output_type": "stream",
     "text": [
      "c:\\Users\\prac.ingindustrial2\\Anaconda3\\lib\\site-packages\\pywinauto\\application.py:1085: UserWarning: 32-bit application should be automated using 32-bit Python (you use 64-bit Python)\n",
      "  warnings.warn(\n"
     ]
    },
    {
     "name": "stdout",
     "output_type": "stream",
     "text": [
      "Se firmo la orden FAB 98891481\n"
     ]
    },
    {
     "name": "stderr",
     "output_type": "stream",
     "text": [
      "c:\\Users\\prac.ingindustrial2\\Anaconda3\\lib\\site-packages\\pywinauto\\application.py:1085: UserWarning: 32-bit application should be automated using 32-bit Python (you use 64-bit Python)\n",
      "  warnings.warn(\n"
     ]
    },
    {
     "name": "stdout",
     "output_type": "stream",
     "text": [
      "Se firmo la orden FAB 98891481\n"
     ]
    },
    {
     "name": "stderr",
     "output_type": "stream",
     "text": [
      "c:\\Users\\prac.ingindustrial2\\Anaconda3\\lib\\site-packages\\pywinauto\\application.py:1085: UserWarning: 32-bit application should be automated using 32-bit Python (you use 64-bit Python)\n",
      "  warnings.warn(\n"
     ]
    },
    {
     "name": "stdout",
     "output_type": "stream",
     "text": [
      "Se firmo la orden FAB 98891482\n"
     ]
    },
    {
     "name": "stderr",
     "output_type": "stream",
     "text": [
      "c:\\Users\\prac.ingindustrial2\\Anaconda3\\lib\\site-packages\\pywinauto\\application.py:1085: UserWarning: 32-bit application should be automated using 32-bit Python (you use 64-bit Python)\n",
      "  warnings.warn(\n"
     ]
    },
    {
     "name": "stdout",
     "output_type": "stream",
     "text": [
      "Se firmo la orden FAB 98891482\n"
     ]
    },
    {
     "name": "stderr",
     "output_type": "stream",
     "text": [
      "c:\\Users\\prac.ingindustrial2\\Anaconda3\\lib\\site-packages\\pywinauto\\application.py:1085: UserWarning: 32-bit application should be automated using 32-bit Python (you use 64-bit Python)\n",
      "  warnings.warn(\n"
     ]
    },
    {
     "name": "stdout",
     "output_type": "stream",
     "text": [
      "Se firmo la orden FAB 98891523\n"
     ]
    },
    {
     "name": "stderr",
     "output_type": "stream",
     "text": [
      "c:\\Users\\prac.ingindustrial2\\Anaconda3\\lib\\site-packages\\pywinauto\\application.py:1085: UserWarning: 32-bit application should be automated using 32-bit Python (you use 64-bit Python)\n",
      "  warnings.warn(\n",
      "c:\\Users\\prac.ingindustrial2\\Anaconda3\\lib\\site-packages\\pywinauto\\application.py:1085: UserWarning: 32-bit application should be automated using 32-bit Python (you use 64-bit Python)\n",
      "  warnings.warn(\n"
     ]
    },
    {
     "name": "stdout",
     "output_type": "stream",
     "text": [
      "Se firmo la orden FAB 98891529\n"
     ]
    },
    {
     "name": "stderr",
     "output_type": "stream",
     "text": [
      "c:\\Users\\prac.ingindustrial2\\Anaconda3\\lib\\site-packages\\pywinauto\\application.py:1085: UserWarning: 32-bit application should be automated using 32-bit Python (you use 64-bit Python)\n",
      "  warnings.warn(\n"
     ]
    },
    {
     "name": "stdout",
     "output_type": "stream",
     "text": [
      "Se firmo la orden FAB 98891529\n"
     ]
    },
    {
     "name": "stderr",
     "output_type": "stream",
     "text": [
      "c:\\Users\\prac.ingindustrial2\\Anaconda3\\lib\\site-packages\\pywinauto\\application.py:1085: UserWarning: 32-bit application should be automated using 32-bit Python (you use 64-bit Python)\n",
      "  warnings.warn(\n"
     ]
    },
    {
     "name": "stdout",
     "output_type": "stream",
     "text": [
      "Se firmo la orden FAB 41067353\n"
     ]
    },
    {
     "name": "stderr",
     "output_type": "stream",
     "text": [
      "c:\\Users\\prac.ingindustrial2\\Anaconda3\\lib\\site-packages\\pywinauto\\application.py:1085: UserWarning: 32-bit application should be automated using 32-bit Python (you use 64-bit Python)\n",
      "  warnings.warn(\n"
     ]
    },
    {
     "name": "stdout",
     "output_type": "stream",
     "text": [
      "Se firmo la orden FAB 41067353\n"
     ]
    },
    {
     "name": "stderr",
     "output_type": "stream",
     "text": [
      "c:\\Users\\prac.ingindustrial2\\Anaconda3\\lib\\site-packages\\pywinauto\\application.py:1085: UserWarning: 32-bit application should be automated using 32-bit Python (you use 64-bit Python)\n",
      "  warnings.warn(\n"
     ]
    },
    {
     "name": "stdout",
     "output_type": "stream",
     "text": [
      "Se firmo la orden FAB 98891485\n"
     ]
    },
    {
     "name": "stderr",
     "output_type": "stream",
     "text": [
      "c:\\Users\\prac.ingindustrial2\\Anaconda3\\lib\\site-packages\\pywinauto\\application.py:1085: UserWarning: 32-bit application should be automated using 32-bit Python (you use 64-bit Python)\n",
      "  warnings.warn(\n"
     ]
    },
    {
     "name": "stdout",
     "output_type": "stream",
     "text": [
      "Se firmo la orden FAB 98891485\n"
     ]
    },
    {
     "name": "stderr",
     "output_type": "stream",
     "text": [
      "c:\\Users\\prac.ingindustrial2\\Anaconda3\\lib\\site-packages\\pywinauto\\application.py:1085: UserWarning: 32-bit application should be automated using 32-bit Python (you use 64-bit Python)\n",
      "  warnings.warn(\n"
     ]
    },
    {
     "name": "stdout",
     "output_type": "stream",
     "text": [
      "Se firmo la orden FAB 98891488\n"
     ]
    },
    {
     "name": "stderr",
     "output_type": "stream",
     "text": [
      "c:\\Users\\prac.ingindustrial2\\Anaconda3\\lib\\site-packages\\pywinauto\\application.py:1085: UserWarning: 32-bit application should be automated using 32-bit Python (you use 64-bit Python)\n",
      "  warnings.warn(\n"
     ]
    },
    {
     "name": "stdout",
     "output_type": "stream",
     "text": [
      "Se firmo la orden FAB 98891488\n"
     ]
    },
    {
     "name": "stderr",
     "output_type": "stream",
     "text": [
      "c:\\Users\\prac.ingindustrial2\\Anaconda3\\lib\\site-packages\\pywinauto\\application.py:1085: UserWarning: 32-bit application should be automated using 32-bit Python (you use 64-bit Python)\n",
      "  warnings.warn(\n"
     ]
    },
    {
     "name": "stdout",
     "output_type": "stream",
     "text": [
      "Se firmo la orden FAB 98891566\n"
     ]
    },
    {
     "name": "stderr",
     "output_type": "stream",
     "text": [
      "c:\\Users\\prac.ingindustrial2\\Anaconda3\\lib\\site-packages\\pywinauto\\application.py:1085: UserWarning: 32-bit application should be automated using 32-bit Python (you use 64-bit Python)\n",
      "  warnings.warn(\n"
     ]
    },
    {
     "name": "stdout",
     "output_type": "stream",
     "text": [
      "Se firmo la orden FAB 98891566\n"
     ]
    },
    {
     "name": "stderr",
     "output_type": "stream",
     "text": [
      "c:\\Users\\prac.ingindustrial2\\Anaconda3\\lib\\site-packages\\pywinauto\\application.py:1085: UserWarning: 32-bit application should be automated using 32-bit Python (you use 64-bit Python)\n",
      "  warnings.warn(\n"
     ]
    },
    {
     "name": "stdout",
     "output_type": "stream",
     "text": [
      "Se firmo la orden FAB 98891567\n"
     ]
    },
    {
     "name": "stderr",
     "output_type": "stream",
     "text": [
      "c:\\Users\\prac.ingindustrial2\\Anaconda3\\lib\\site-packages\\pywinauto\\application.py:1085: UserWarning: 32-bit application should be automated using 32-bit Python (you use 64-bit Python)\n",
      "  warnings.warn(\n"
     ]
    },
    {
     "name": "stdout",
     "output_type": "stream",
     "text": [
      "Se firmo la orden FAB 98891567\n"
     ]
    },
    {
     "name": "stderr",
     "output_type": "stream",
     "text": [
      "c:\\Users\\prac.ingindustrial2\\Anaconda3\\lib\\site-packages\\pywinauto\\application.py:1085: UserWarning: 32-bit application should be automated using 32-bit Python (you use 64-bit Python)\n",
      "  warnings.warn(\n"
     ]
    },
    {
     "name": "stdout",
     "output_type": "stream",
     "text": [
      "Se firmo la orden FAB 89530085\n"
     ]
    },
    {
     "name": "stderr",
     "output_type": "stream",
     "text": [
      "c:\\Users\\prac.ingindustrial2\\Anaconda3\\lib\\site-packages\\pywinauto\\application.py:1085: UserWarning: 32-bit application should be automated using 32-bit Python (you use 64-bit Python)\n",
      "  warnings.warn(\n",
      "c:\\Users\\prac.ingindustrial2\\Anaconda3\\lib\\site-packages\\pywinauto\\application.py:1085: UserWarning: 32-bit application should be automated using 32-bit Python (you use 64-bit Python)\n",
      "  warnings.warn(\n"
     ]
    },
    {
     "name": "stdout",
     "output_type": "stream",
     "text": [
      "Se firmo la orden FAB 89530086\n"
     ]
    },
    {
     "name": "stderr",
     "output_type": "stream",
     "text": [
      "c:\\Users\\prac.ingindustrial2\\Anaconda3\\lib\\site-packages\\pywinauto\\application.py:1085: UserWarning: 32-bit application should be automated using 32-bit Python (you use 64-bit Python)\n",
      "  warnings.warn(\n",
      "c:\\Users\\prac.ingindustrial2\\Anaconda3\\lib\\site-packages\\pywinauto\\application.py:1085: UserWarning: 32-bit application should be automated using 32-bit Python (you use 64-bit Python)\n",
      "  warnings.warn(\n"
     ]
    },
    {
     "name": "stdout",
     "output_type": "stream",
     "text": [
      "Se firmo la orden FAB 89530087\n"
     ]
    },
    {
     "name": "stderr",
     "output_type": "stream",
     "text": [
      "c:\\Users\\prac.ingindustrial2\\Anaconda3\\lib\\site-packages\\pywinauto\\application.py:1085: UserWarning: 32-bit application should be automated using 32-bit Python (you use 64-bit Python)\n",
      "  warnings.warn(\n",
      "c:\\Users\\prac.ingindustrial2\\Anaconda3\\lib\\site-packages\\pywinauto\\application.py:1085: UserWarning: 32-bit application should be automated using 32-bit Python (you use 64-bit Python)\n",
      "  warnings.warn(\n"
     ]
    },
    {
     "name": "stdout",
     "output_type": "stream",
     "text": [
      "Se firmo la orden FAB 89530088\n"
     ]
    },
    {
     "name": "stderr",
     "output_type": "stream",
     "text": [
      "c:\\Users\\prac.ingindustrial2\\Anaconda3\\lib\\site-packages\\pywinauto\\application.py:1085: UserWarning: 32-bit application should be automated using 32-bit Python (you use 64-bit Python)\n",
      "  warnings.warn(\n",
      "c:\\Users\\prac.ingindustrial2\\Anaconda3\\lib\\site-packages\\pywinauto\\application.py:1085: UserWarning: 32-bit application should be automated using 32-bit Python (you use 64-bit Python)\n",
      "  warnings.warn(\n"
     ]
    },
    {
     "name": "stdout",
     "output_type": "stream",
     "text": [
      "Se firmo la orden FAB 89530089\n"
     ]
    },
    {
     "name": "stderr",
     "output_type": "stream",
     "text": [
      "c:\\Users\\prac.ingindustrial2\\Anaconda3\\lib\\site-packages\\pywinauto\\application.py:1085: UserWarning: 32-bit application should be automated using 32-bit Python (you use 64-bit Python)\n",
      "  warnings.warn(\n",
      "c:\\Users\\prac.ingindustrial2\\Anaconda3\\lib\\site-packages\\pywinauto\\application.py:1085: UserWarning: 32-bit application should be automated using 32-bit Python (you use 64-bit Python)\n",
      "  warnings.warn(\n"
     ]
    },
    {
     "name": "stdout",
     "output_type": "stream",
     "text": [
      "Se firmo la orden FAB 89528333\n"
     ]
    },
    {
     "name": "stderr",
     "output_type": "stream",
     "text": [
      "c:\\Users\\prac.ingindustrial2\\Anaconda3\\lib\\site-packages\\pywinauto\\application.py:1085: UserWarning: 32-bit application should be automated using 32-bit Python (you use 64-bit Python)\n",
      "  warnings.warn(\n"
     ]
    },
    {
     "name": "stdout",
     "output_type": "stream",
     "text": [
      "Se firmo la orden FAB 89528333\n"
     ]
    },
    {
     "name": "stderr",
     "output_type": "stream",
     "text": [
      "c:\\Users\\prac.ingindustrial2\\Anaconda3\\lib\\site-packages\\pywinauto\\application.py:1085: UserWarning: 32-bit application should be automated using 32-bit Python (you use 64-bit Python)\n",
      "  warnings.warn(\n"
     ]
    },
    {
     "name": "stdout",
     "output_type": "stream",
     "text": [
      "Se firmo la orden FAB 89528810\n"
     ]
    },
    {
     "name": "stderr",
     "output_type": "stream",
     "text": [
      "c:\\Users\\prac.ingindustrial2\\Anaconda3\\lib\\site-packages\\pywinauto\\application.py:1085: UserWarning: 32-bit application should be automated using 32-bit Python (you use 64-bit Python)\n",
      "  warnings.warn(\n"
     ]
    },
    {
     "name": "stdout",
     "output_type": "stream",
     "text": [
      "Se firmo la orden FAB 89528810\n"
     ]
    },
    {
     "name": "stderr",
     "output_type": "stream",
     "text": [
      "c:\\Users\\prac.ingindustrial2\\Anaconda3\\lib\\site-packages\\pywinauto\\application.py:1085: UserWarning: 32-bit application should be automated using 32-bit Python (you use 64-bit Python)\n",
      "  warnings.warn(\n"
     ]
    },
    {
     "name": "stdout",
     "output_type": "stream",
     "text": [
      "Se firmo la orden FAB 89528882\n"
     ]
    },
    {
     "name": "stderr",
     "output_type": "stream",
     "text": [
      "c:\\Users\\prac.ingindustrial2\\Anaconda3\\lib\\site-packages\\pywinauto\\application.py:1085: UserWarning: 32-bit application should be automated using 32-bit Python (you use 64-bit Python)\n",
      "  warnings.warn(\n"
     ]
    },
    {
     "name": "stdout",
     "output_type": "stream",
     "text": [
      "Se firmo la orden FAB 89528882\n"
     ]
    },
    {
     "name": "stderr",
     "output_type": "stream",
     "text": [
      "c:\\Users\\prac.ingindustrial2\\Anaconda3\\lib\\site-packages\\pywinauto\\application.py:1085: UserWarning: 32-bit application should be automated using 32-bit Python (you use 64-bit Python)\n",
      "  warnings.warn(\n"
     ]
    },
    {
     "name": "stdout",
     "output_type": "stream",
     "text": [
      "Se firmo la orden FAB 89529253\n"
     ]
    },
    {
     "name": "stderr",
     "output_type": "stream",
     "text": [
      "c:\\Users\\prac.ingindustrial2\\Anaconda3\\lib\\site-packages\\pywinauto\\application.py:1085: UserWarning: 32-bit application should be automated using 32-bit Python (you use 64-bit Python)\n",
      "  warnings.warn(\n"
     ]
    },
    {
     "name": "stdout",
     "output_type": "stream",
     "text": [
      "Se firmo la orden FAB 89529253\n"
     ]
    },
    {
     "name": "stderr",
     "output_type": "stream",
     "text": [
      "c:\\Users\\prac.ingindustrial2\\Anaconda3\\lib\\site-packages\\pywinauto\\application.py:1085: UserWarning: 32-bit application should be automated using 32-bit Python (you use 64-bit Python)\n",
      "  warnings.warn(\n"
     ]
    },
    {
     "name": "stdout",
     "output_type": "stream",
     "text": [
      "Se firmo la orden FAB 41067245\n"
     ]
    },
    {
     "name": "stderr",
     "output_type": "stream",
     "text": [
      "c:\\Users\\prac.ingindustrial2\\Anaconda3\\lib\\site-packages\\pywinauto\\application.py:1085: UserWarning: 32-bit application should be automated using 32-bit Python (you use 64-bit Python)\n",
      "  warnings.warn(\n",
      "c:\\Users\\prac.ingindustrial2\\Anaconda3\\lib\\site-packages\\pywinauto\\application.py:1085: UserWarning: 32-bit application should be automated using 32-bit Python (you use 64-bit Python)\n",
      "  warnings.warn(\n"
     ]
    },
    {
     "name": "stdout",
     "output_type": "stream",
     "text": [
      "Se firmo la orden FAB 98891416\n"
     ]
    },
    {
     "name": "stderr",
     "output_type": "stream",
     "text": [
      "c:\\Users\\prac.ingindustrial2\\Anaconda3\\lib\\site-packages\\pywinauto\\application.py:1085: UserWarning: 32-bit application should be automated using 32-bit Python (you use 64-bit Python)\n",
      "  warnings.warn(\n"
     ]
    },
    {
     "name": "stdout",
     "output_type": "stream",
     "text": [
      "Se firmo la orden FAB 98891416\n"
     ]
    },
    {
     "name": "stderr",
     "output_type": "stream",
     "text": [
      "c:\\Users\\prac.ingindustrial2\\Anaconda3\\lib\\site-packages\\pywinauto\\application.py:1085: UserWarning: 32-bit application should be automated using 32-bit Python (you use 64-bit Python)\n",
      "  warnings.warn(\n"
     ]
    },
    {
     "name": "stdout",
     "output_type": "stream",
     "text": [
      "Se firmo la orden FAB 98891428\n"
     ]
    },
    {
     "name": "stderr",
     "output_type": "stream",
     "text": [
      "c:\\Users\\prac.ingindustrial2\\Anaconda3\\lib\\site-packages\\pywinauto\\application.py:1085: UserWarning: 32-bit application should be automated using 32-bit Python (you use 64-bit Python)\n",
      "  warnings.warn(\n",
      "c:\\Users\\prac.ingindustrial2\\Anaconda3\\lib\\site-packages\\pywinauto\\application.py:1085: UserWarning: 32-bit application should be automated using 32-bit Python (you use 64-bit Python)\n",
      "  warnings.warn(\n"
     ]
    },
    {
     "name": "stdout",
     "output_type": "stream",
     "text": [
      "Se firmo la orden FAB 98891444\n"
     ]
    },
    {
     "name": "stderr",
     "output_type": "stream",
     "text": [
      "c:\\Users\\prac.ingindustrial2\\Anaconda3\\lib\\site-packages\\pywinauto\\application.py:1085: UserWarning: 32-bit application should be automated using 32-bit Python (you use 64-bit Python)\n",
      "  warnings.warn(\n"
     ]
    },
    {
     "name": "stdout",
     "output_type": "stream",
     "text": [
      "Se firmo la orden FAB 98891444\n"
     ]
    },
    {
     "name": "stderr",
     "output_type": "stream",
     "text": [
      "c:\\Users\\prac.ingindustrial2\\Anaconda3\\lib\\site-packages\\pywinauto\\application.py:1085: UserWarning: 32-bit application should be automated using 32-bit Python (you use 64-bit Python)\n",
      "  warnings.warn(\n"
     ]
    },
    {
     "name": "stdout",
     "output_type": "stream",
     "text": [
      "Se firmo la orden FAB 98891446\n"
     ]
    },
    {
     "name": "stderr",
     "output_type": "stream",
     "text": [
      "c:\\Users\\prac.ingindustrial2\\Anaconda3\\lib\\site-packages\\pywinauto\\application.py:1085: UserWarning: 32-bit application should be automated using 32-bit Python (you use 64-bit Python)\n",
      "  warnings.warn(\n"
     ]
    },
    {
     "name": "stdout",
     "output_type": "stream",
     "text": [
      "Se firmo la orden FAB 98891446\n"
     ]
    },
    {
     "name": "stderr",
     "output_type": "stream",
     "text": [
      "c:\\Users\\prac.ingindustrial2\\Anaconda3\\lib\\site-packages\\pywinauto\\application.py:1085: UserWarning: 32-bit application should be automated using 32-bit Python (you use 64-bit Python)\n",
      "  warnings.warn(\n"
     ]
    },
    {
     "name": "stdout",
     "output_type": "stream",
     "text": [
      "Se firmo la orden FAB 98891447\n"
     ]
    },
    {
     "name": "stderr",
     "output_type": "stream",
     "text": [
      "c:\\Users\\prac.ingindustrial2\\Anaconda3\\lib\\site-packages\\pywinauto\\application.py:1085: UserWarning: 32-bit application should be automated using 32-bit Python (you use 64-bit Python)\n",
      "  warnings.warn(\n"
     ]
    },
    {
     "name": "stdout",
     "output_type": "stream",
     "text": [
      "Se firmo la orden FAB 98891447\n"
     ]
    },
    {
     "name": "stderr",
     "output_type": "stream",
     "text": [
      "c:\\Users\\prac.ingindustrial2\\Anaconda3\\lib\\site-packages\\pywinauto\\application.py:1085: UserWarning: 32-bit application should be automated using 32-bit Python (you use 64-bit Python)\n",
      "  warnings.warn(\n"
     ]
    },
    {
     "name": "stdout",
     "output_type": "stream",
     "text": [
      "Se firmo la orden FAB 98891448\n"
     ]
    },
    {
     "name": "stderr",
     "output_type": "stream",
     "text": [
      "c:\\Users\\prac.ingindustrial2\\Anaconda3\\lib\\site-packages\\pywinauto\\application.py:1085: UserWarning: 32-bit application should be automated using 32-bit Python (you use 64-bit Python)\n",
      "  warnings.warn(\n"
     ]
    },
    {
     "name": "stdout",
     "output_type": "stream",
     "text": [
      "Se firmo la orden FAB 98891448\n"
     ]
    },
    {
     "name": "stderr",
     "output_type": "stream",
     "text": [
      "c:\\Users\\prac.ingindustrial2\\Anaconda3\\lib\\site-packages\\pywinauto\\application.py:1085: UserWarning: 32-bit application should be automated using 32-bit Python (you use 64-bit Python)\n",
      "  warnings.warn(\n"
     ]
    },
    {
     "name": "stdout",
     "output_type": "stream",
     "text": [
      "Se firmo la orden FAB 98891449\n"
     ]
    },
    {
     "name": "stderr",
     "output_type": "stream",
     "text": [
      "c:\\Users\\prac.ingindustrial2\\Anaconda3\\lib\\site-packages\\pywinauto\\application.py:1085: UserWarning: 32-bit application should be automated using 32-bit Python (you use 64-bit Python)\n",
      "  warnings.warn(\n"
     ]
    },
    {
     "name": "stdout",
     "output_type": "stream",
     "text": [
      "Se firmo la orden FAB 98891449\n"
     ]
    },
    {
     "name": "stderr",
     "output_type": "stream",
     "text": [
      "c:\\Users\\prac.ingindustrial2\\Anaconda3\\lib\\site-packages\\pywinauto\\application.py:1085: UserWarning: 32-bit application should be automated using 32-bit Python (you use 64-bit Python)\n",
      "  warnings.warn(\n"
     ]
    },
    {
     "name": "stdout",
     "output_type": "stream",
     "text": [
      "Se firmo la orden FAB 98891454\n"
     ]
    },
    {
     "name": "stderr",
     "output_type": "stream",
     "text": [
      "c:\\Users\\prac.ingindustrial2\\Anaconda3\\lib\\site-packages\\pywinauto\\application.py:1085: UserWarning: 32-bit application should be automated using 32-bit Python (you use 64-bit Python)\n",
      "  warnings.warn(\n",
      "c:\\Users\\prac.ingindustrial2\\Anaconda3\\lib\\site-packages\\pywinauto\\application.py:1085: UserWarning: 32-bit application should be automated using 32-bit Python (you use 64-bit Python)\n",
      "  warnings.warn(\n"
     ]
    },
    {
     "name": "stdout",
     "output_type": "stream",
     "text": [
      "Se firmo la orden FAB 98891455\n"
     ]
    },
    {
     "name": "stderr",
     "output_type": "stream",
     "text": [
      "c:\\Users\\prac.ingindustrial2\\Anaconda3\\lib\\site-packages\\pywinauto\\application.py:1085: UserWarning: 32-bit application should be automated using 32-bit Python (you use 64-bit Python)\n",
      "  warnings.warn(\n",
      "c:\\Users\\prac.ingindustrial2\\Anaconda3\\lib\\site-packages\\pywinauto\\application.py:1085: UserWarning: 32-bit application should be automated using 32-bit Python (you use 64-bit Python)\n",
      "  warnings.warn(\n"
     ]
    },
    {
     "name": "stdout",
     "output_type": "stream",
     "text": [
      "Se firmo la orden FAB 98891457\n"
     ]
    },
    {
     "name": "stderr",
     "output_type": "stream",
     "text": [
      "c:\\Users\\prac.ingindustrial2\\Anaconda3\\lib\\site-packages\\pywinauto\\application.py:1085: UserWarning: 32-bit application should be automated using 32-bit Python (you use 64-bit Python)\n",
      "  warnings.warn(\n"
     ]
    },
    {
     "name": "stdout",
     "output_type": "stream",
     "text": [
      "Se firmo la orden FAB 98891457\n"
     ]
    },
    {
     "name": "stderr",
     "output_type": "stream",
     "text": [
      "c:\\Users\\prac.ingindustrial2\\Anaconda3\\lib\\site-packages\\pywinauto\\application.py:1085: UserWarning: 32-bit application should be automated using 32-bit Python (you use 64-bit Python)\n",
      "  warnings.warn(\n"
     ]
    },
    {
     "name": "stdout",
     "output_type": "stream",
     "text": [
      "Se firmo la orden FAB 98891517\n"
     ]
    },
    {
     "name": "stderr",
     "output_type": "stream",
     "text": [
      "c:\\Users\\prac.ingindustrial2\\Anaconda3\\lib\\site-packages\\pywinauto\\application.py:1085: UserWarning: 32-bit application should be automated using 32-bit Python (you use 64-bit Python)\n",
      "  warnings.warn(\n"
     ]
    },
    {
     "name": "stdout",
     "output_type": "stream",
     "text": [
      "Se firmo la orden FAB 98891517\n"
     ]
    },
    {
     "name": "stderr",
     "output_type": "stream",
     "text": [
      "c:\\Users\\prac.ingindustrial2\\Anaconda3\\lib\\site-packages\\pywinauto\\application.py:1085: UserWarning: 32-bit application should be automated using 32-bit Python (you use 64-bit Python)\n",
      "  warnings.warn(\n"
     ]
    },
    {
     "name": "stdout",
     "output_type": "stream",
     "text": [
      "Se firmo la orden FAB 98891527\n"
     ]
    },
    {
     "name": "stderr",
     "output_type": "stream",
     "text": [
      "c:\\Users\\prac.ingindustrial2\\Anaconda3\\lib\\site-packages\\pywinauto\\application.py:1085: UserWarning: 32-bit application should be automated using 32-bit Python (you use 64-bit Python)\n",
      "  warnings.warn(\n"
     ]
    },
    {
     "name": "stdout",
     "output_type": "stream",
     "text": [
      "Se firmo la orden FAB 98891527\n"
     ]
    },
    {
     "name": "stderr",
     "output_type": "stream",
     "text": [
      "c:\\Users\\prac.ingindustrial2\\Anaconda3\\lib\\site-packages\\pywinauto\\application.py:1085: UserWarning: 32-bit application should be automated using 32-bit Python (you use 64-bit Python)\n",
      "  warnings.warn(\n"
     ]
    },
    {
     "name": "stdout",
     "output_type": "stream",
     "text": [
      "Se firmo la orden FAB 98891528\n"
     ]
    },
    {
     "name": "stderr",
     "output_type": "stream",
     "text": [
      "c:\\Users\\prac.ingindustrial2\\Anaconda3\\lib\\site-packages\\pywinauto\\application.py:1085: UserWarning: 32-bit application should be automated using 32-bit Python (you use 64-bit Python)\n",
      "  warnings.warn(\n"
     ]
    },
    {
     "name": "stdout",
     "output_type": "stream",
     "text": [
      "Se firmo la orden FAB 98891528\n"
     ]
    },
    {
     "name": "stderr",
     "output_type": "stream",
     "text": [
      "c:\\Users\\prac.ingindustrial2\\Anaconda3\\lib\\site-packages\\pywinauto\\application.py:1085: UserWarning: 32-bit application should be automated using 32-bit Python (you use 64-bit Python)\n",
      "  warnings.warn(\n"
     ]
    },
    {
     "name": "stdout",
     "output_type": "stream",
     "text": [
      "Se firmo la orden FAB 98891538\n"
     ]
    },
    {
     "name": "stderr",
     "output_type": "stream",
     "text": [
      "c:\\Users\\prac.ingindustrial2\\Anaconda3\\lib\\site-packages\\pywinauto\\application.py:1085: UserWarning: 32-bit application should be automated using 32-bit Python (you use 64-bit Python)\n",
      "  warnings.warn(\n"
     ]
    },
    {
     "name": "stdout",
     "output_type": "stream",
     "text": [
      "Se firmo la orden FAB 98891538\n"
     ]
    },
    {
     "name": "stderr",
     "output_type": "stream",
     "text": [
      "c:\\Users\\prac.ingindustrial2\\Anaconda3\\lib\\site-packages\\pywinauto\\application.py:1085: UserWarning: 32-bit application should be automated using 32-bit Python (you use 64-bit Python)\n",
      "  warnings.warn(\n"
     ]
    },
    {
     "name": "stdout",
     "output_type": "stream",
     "text": [
      "Se firmo la orden FAB 98891539\n"
     ]
    },
    {
     "name": "stderr",
     "output_type": "stream",
     "text": [
      "c:\\Users\\prac.ingindustrial2\\Anaconda3\\lib\\site-packages\\pywinauto\\application.py:1085: UserWarning: 32-bit application should be automated using 32-bit Python (you use 64-bit Python)\n",
      "  warnings.warn(\n"
     ]
    },
    {
     "name": "stdout",
     "output_type": "stream",
     "text": [
      "Se firmo la orden FAB 98891539\n"
     ]
    },
    {
     "name": "stderr",
     "output_type": "stream",
     "text": [
      "c:\\Users\\prac.ingindustrial2\\Anaconda3\\lib\\site-packages\\pywinauto\\application.py:1085: UserWarning: 32-bit application should be automated using 32-bit Python (you use 64-bit Python)\n",
      "  warnings.warn(\n"
     ]
    },
    {
     "name": "stdout",
     "output_type": "stream",
     "text": [
      "Se firmo la orden FAB 98891541\n"
     ]
    },
    {
     "name": "stderr",
     "output_type": "stream",
     "text": [
      "c:\\Users\\prac.ingindustrial2\\Anaconda3\\lib\\site-packages\\pywinauto\\application.py:1085: UserWarning: 32-bit application should be automated using 32-bit Python (you use 64-bit Python)\n",
      "  warnings.warn(\n"
     ]
    },
    {
     "name": "stdout",
     "output_type": "stream",
     "text": [
      "Se firmo la orden FAB 98891541\n"
     ]
    },
    {
     "name": "stderr",
     "output_type": "stream",
     "text": [
      "c:\\Users\\prac.ingindustrial2\\Anaconda3\\lib\\site-packages\\pywinauto\\application.py:1085: UserWarning: 32-bit application should be automated using 32-bit Python (you use 64-bit Python)\n",
      "  warnings.warn(\n"
     ]
    },
    {
     "name": "stdout",
     "output_type": "stream",
     "text": [
      "Se firmo la orden FAB 41067355\n"
     ]
    },
    {
     "name": "stderr",
     "output_type": "stream",
     "text": [
      "c:\\Users\\prac.ingindustrial2\\Anaconda3\\lib\\site-packages\\pywinauto\\application.py:1085: UserWarning: 32-bit application should be automated using 32-bit Python (you use 64-bit Python)\n",
      "  warnings.warn(\n"
     ]
    },
    {
     "name": "stdout",
     "output_type": "stream",
     "text": [
      "Se firmo la orden FAB 41067355\n"
     ]
    },
    {
     "name": "stderr",
     "output_type": "stream",
     "text": [
      "c:\\Users\\prac.ingindustrial2\\Anaconda3\\lib\\site-packages\\pywinauto\\application.py:1085: UserWarning: 32-bit application should be automated using 32-bit Python (you use 64-bit Python)\n",
      "  warnings.warn(\n"
     ]
    },
    {
     "name": "stdout",
     "output_type": "stream",
     "text": [
      "Se firmo la orden FAB 98891493\n"
     ]
    },
    {
     "name": "stderr",
     "output_type": "stream",
     "text": [
      "c:\\Users\\prac.ingindustrial2\\Anaconda3\\lib\\site-packages\\pywinauto\\application.py:1085: UserWarning: 32-bit application should be automated using 32-bit Python (you use 64-bit Python)\n",
      "  warnings.warn(\n"
     ]
    },
    {
     "name": "stdout",
     "output_type": "stream",
     "text": [
      "Se firmo la orden FAB 98891493\n"
     ]
    },
    {
     "name": "stderr",
     "output_type": "stream",
     "text": [
      "c:\\Users\\prac.ingindustrial2\\Anaconda3\\lib\\site-packages\\pywinauto\\application.py:1085: UserWarning: 32-bit application should be automated using 32-bit Python (you use 64-bit Python)\n",
      "  warnings.warn(\n"
     ]
    },
    {
     "name": "stdout",
     "output_type": "stream",
     "text": [
      "Se firmo la orden FAB 98891498\n"
     ]
    },
    {
     "name": "stderr",
     "output_type": "stream",
     "text": [
      "c:\\Users\\prac.ingindustrial2\\Anaconda3\\lib\\site-packages\\pywinauto\\application.py:1085: UserWarning: 32-bit application should be automated using 32-bit Python (you use 64-bit Python)\n",
      "  warnings.warn(\n"
     ]
    },
    {
     "name": "stdout",
     "output_type": "stream",
     "text": [
      "Se firmo la orden FAB 98891498\n"
     ]
    },
    {
     "name": "stderr",
     "output_type": "stream",
     "text": [
      "c:\\Users\\prac.ingindustrial2\\Anaconda3\\lib\\site-packages\\pywinauto\\application.py:1085: UserWarning: 32-bit application should be automated using 32-bit Python (you use 64-bit Python)\n",
      "  warnings.warn(\n"
     ]
    },
    {
     "name": "stdout",
     "output_type": "stream",
     "text": [
      "Se firmo la orden FAB 98891562\n"
     ]
    },
    {
     "name": "stderr",
     "output_type": "stream",
     "text": [
      "c:\\Users\\prac.ingindustrial2\\Anaconda3\\lib\\site-packages\\pywinauto\\application.py:1085: UserWarning: 32-bit application should be automated using 32-bit Python (you use 64-bit Python)\n",
      "  warnings.warn(\n"
     ]
    },
    {
     "name": "stdout",
     "output_type": "stream",
     "text": [
      "Se firmo la orden FAB 98891562\n"
     ]
    },
    {
     "name": "stderr",
     "output_type": "stream",
     "text": [
      "c:\\Users\\prac.ingindustrial2\\Anaconda3\\lib\\site-packages\\pywinauto\\application.py:1085: UserWarning: 32-bit application should be automated using 32-bit Python (you use 64-bit Python)\n",
      "  warnings.warn(\n"
     ]
    },
    {
     "name": "stdout",
     "output_type": "stream",
     "text": [
      "Se firmo la orden FAB 98891563\n"
     ]
    },
    {
     "name": "stderr",
     "output_type": "stream",
     "text": [
      "c:\\Users\\prac.ingindustrial2\\Anaconda3\\lib\\site-packages\\pywinauto\\application.py:1085: UserWarning: 32-bit application should be automated using 32-bit Python (you use 64-bit Python)\n",
      "  warnings.warn(\n"
     ]
    },
    {
     "name": "stdout",
     "output_type": "stream",
     "text": [
      "Se firmo la orden FAB 98891563\n"
     ]
    },
    {
     "name": "stderr",
     "output_type": "stream",
     "text": [
      "c:\\Users\\prac.ingindustrial2\\Anaconda3\\lib\\site-packages\\pywinauto\\application.py:1085: UserWarning: 32-bit application should be automated using 32-bit Python (you use 64-bit Python)\n",
      "  warnings.warn(\n"
     ]
    },
    {
     "name": "stdout",
     "output_type": "stream",
     "text": [
      "Se firmo la orden FAB 98891565\n"
     ]
    },
    {
     "name": "stderr",
     "output_type": "stream",
     "text": [
      "c:\\Users\\prac.ingindustrial2\\Anaconda3\\lib\\site-packages\\pywinauto\\application.py:1085: UserWarning: 32-bit application should be automated using 32-bit Python (you use 64-bit Python)\n",
      "  warnings.warn(\n"
     ]
    },
    {
     "name": "stdout",
     "output_type": "stream",
     "text": [
      "Se firmo la orden FAB 98891565\n"
     ]
    },
    {
     "name": "stderr",
     "output_type": "stream",
     "text": [
      "c:\\Users\\prac.ingindustrial2\\Anaconda3\\lib\\site-packages\\pywinauto\\application.py:1085: UserWarning: 32-bit application should be automated using 32-bit Python (you use 64-bit Python)\n",
      "  warnings.warn(\n"
     ]
    },
    {
     "name": "stdout",
     "output_type": "stream",
     "text": [
      "Se firmo la orden FAB 98891578\n"
     ]
    },
    {
     "name": "stderr",
     "output_type": "stream",
     "text": [
      "c:\\Users\\prac.ingindustrial2\\Anaconda3\\lib\\site-packages\\pywinauto\\application.py:1085: UserWarning: 32-bit application should be automated using 32-bit Python (you use 64-bit Python)\n",
      "  warnings.warn(\n"
     ]
    },
    {
     "name": "stdout",
     "output_type": "stream",
     "text": [
      "Se firmo la orden FAB 98891578\n"
     ]
    },
    {
     "name": "stderr",
     "output_type": "stream",
     "text": [
      "c:\\Users\\prac.ingindustrial2\\Anaconda3\\lib\\site-packages\\pywinauto\\application.py:1085: UserWarning: 32-bit application should be automated using 32-bit Python (you use 64-bit Python)\n",
      "  warnings.warn(\n"
     ]
    },
    {
     "name": "stdout",
     "output_type": "stream",
     "text": [
      "Se firmo la orden FAB 89530090\n"
     ]
    },
    {
     "name": "stderr",
     "output_type": "stream",
     "text": [
      "c:\\Users\\prac.ingindustrial2\\Anaconda3\\lib\\site-packages\\pywinauto\\application.py:1085: UserWarning: 32-bit application should be automated using 32-bit Python (you use 64-bit Python)\n",
      "  warnings.warn(\n"
     ]
    },
    {
     "name": "stdout",
     "output_type": "stream",
     "text": [
      "Se firmo la orden FAB 89530090\n"
     ]
    },
    {
     "name": "stderr",
     "output_type": "stream",
     "text": [
      "c:\\Users\\prac.ingindustrial2\\Anaconda3\\lib\\site-packages\\pywinauto\\application.py:1085: UserWarning: 32-bit application should be automated using 32-bit Python (you use 64-bit Python)\n",
      "  warnings.warn(\n"
     ]
    },
    {
     "name": "stdout",
     "output_type": "stream",
     "text": [
      "Se firmo la orden FAB 89530091\n"
     ]
    },
    {
     "name": "stderr",
     "output_type": "stream",
     "text": [
      "c:\\Users\\prac.ingindustrial2\\Anaconda3\\lib\\site-packages\\pywinauto\\application.py:1085: UserWarning: 32-bit application should be automated using 32-bit Python (you use 64-bit Python)\n",
      "  warnings.warn(\n",
      "c:\\Users\\prac.ingindustrial2\\Anaconda3\\lib\\site-packages\\pywinauto\\application.py:1085: UserWarning: 32-bit application should be automated using 32-bit Python (you use 64-bit Python)\n",
      "  warnings.warn(\n"
     ]
    },
    {
     "name": "stdout",
     "output_type": "stream",
     "text": [
      "Se firmo la orden FAB 98891614\n"
     ]
    },
    {
     "name": "stderr",
     "output_type": "stream",
     "text": [
      "c:\\Users\\prac.ingindustrial2\\Anaconda3\\lib\\site-packages\\pywinauto\\application.py:1085: UserWarning: 32-bit application should be automated using 32-bit Python (you use 64-bit Python)\n",
      "  warnings.warn(\n"
     ]
    },
    {
     "name": "stdout",
     "output_type": "stream",
     "text": [
      "Se firmo la orden FAB 98891614\n"
     ]
    },
    {
     "name": "stderr",
     "output_type": "stream",
     "text": [
      "c:\\Users\\prac.ingindustrial2\\Anaconda3\\lib\\site-packages\\pywinauto\\application.py:1085: UserWarning: 32-bit application should be automated using 32-bit Python (you use 64-bit Python)\n",
      "  warnings.warn(\n",
      "c:\\Users\\prac.ingindustrial2\\Anaconda3\\lib\\site-packages\\pywinauto\\application.py:1085: UserWarning: 32-bit application should be automated using 32-bit Python (you use 64-bit Python)\n",
      "  warnings.warn(\n"
     ]
    },
    {
     "name": "stdout",
     "output_type": "stream",
     "text": [
      "Se firmo la orden FAB 98891636\n"
     ]
    },
    {
     "name": "stderr",
     "output_type": "stream",
     "text": [
      "c:\\Users\\prac.ingindustrial2\\Anaconda3\\lib\\site-packages\\pywinauto\\application.py:1085: UserWarning: 32-bit application should be automated using 32-bit Python (you use 64-bit Python)\n",
      "  warnings.warn(\n"
     ]
    },
    {
     "name": "stdout",
     "output_type": "stream",
     "text": [
      "Se firmo la orden FAB 89528695\n"
     ]
    },
    {
     "name": "stderr",
     "output_type": "stream",
     "text": [
      "c:\\Users\\prac.ingindustrial2\\Anaconda3\\lib\\site-packages\\pywinauto\\application.py:1085: UserWarning: 32-bit application should be automated using 32-bit Python (you use 64-bit Python)\n",
      "  warnings.warn(\n"
     ]
    },
    {
     "name": "stdout",
     "output_type": "stream",
     "text": [
      "Se firmo la orden FAB 89528695\n"
     ]
    },
    {
     "name": "stderr",
     "output_type": "stream",
     "text": [
      "c:\\Users\\prac.ingindustrial2\\Anaconda3\\lib\\site-packages\\pywinauto\\application.py:1085: UserWarning: 32-bit application should be automated using 32-bit Python (you use 64-bit Python)\n",
      "  warnings.warn(\n",
      "c:\\Users\\prac.ingindustrial2\\Anaconda3\\lib\\site-packages\\pywinauto\\application.py:1085: UserWarning: 32-bit application should be automated using 32-bit Python (you use 64-bit Python)\n",
      "  warnings.warn(\n"
     ]
    },
    {
     "name": "stdout",
     "output_type": "stream",
     "text": [
      "Se firmo la orden FAB 89528883\n"
     ]
    },
    {
     "name": "stderr",
     "output_type": "stream",
     "text": [
      "c:\\Users\\prac.ingindustrial2\\Anaconda3\\lib\\site-packages\\pywinauto\\application.py:1085: UserWarning: 32-bit application should be automated using 32-bit Python (you use 64-bit Python)\n",
      "  warnings.warn(\n"
     ]
    },
    {
     "name": "stdout",
     "output_type": "stream",
     "text": [
      "Se firmo la orden FAB 89528890\n"
     ]
    },
    {
     "name": "stderr",
     "output_type": "stream",
     "text": [
      "c:\\Users\\prac.ingindustrial2\\Anaconda3\\lib\\site-packages\\pywinauto\\application.py:1085: UserWarning: 32-bit application should be automated using 32-bit Python (you use 64-bit Python)\n",
      "  warnings.warn(\n"
     ]
    },
    {
     "name": "stdout",
     "output_type": "stream",
     "text": [
      "Se firmo la orden FAB 89528890\n"
     ]
    },
    {
     "name": "stderr",
     "output_type": "stream",
     "text": [
      "c:\\Users\\prac.ingindustrial2\\Anaconda3\\lib\\site-packages\\pywinauto\\application.py:1085: UserWarning: 32-bit application should be automated using 32-bit Python (you use 64-bit Python)\n",
      "  warnings.warn(\n"
     ]
    },
    {
     "name": "stdout",
     "output_type": "stream",
     "text": [
      "Se firmo la orden FAB 89529110\n"
     ]
    },
    {
     "name": "stderr",
     "output_type": "stream",
     "text": [
      "c:\\Users\\prac.ingindustrial2\\Anaconda3\\lib\\site-packages\\pywinauto\\application.py:1085: UserWarning: 32-bit application should be automated using 32-bit Python (you use 64-bit Python)\n",
      "  warnings.warn(\n",
      "c:\\Users\\prac.ingindustrial2\\Anaconda3\\lib\\site-packages\\pywinauto\\application.py:1085: UserWarning: 32-bit application should be automated using 32-bit Python (you use 64-bit Python)\n",
      "  warnings.warn(\n"
     ]
    },
    {
     "name": "stdout",
     "output_type": "stream",
     "text": [
      "Se firmo la orden FAB 89529155\n"
     ]
    },
    {
     "name": "stderr",
     "output_type": "stream",
     "text": [
      "c:\\Users\\prac.ingindustrial2\\Anaconda3\\lib\\site-packages\\pywinauto\\application.py:1085: UserWarning: 32-bit application should be automated using 32-bit Python (you use 64-bit Python)\n",
      "  warnings.warn(\n",
      "c:\\Users\\prac.ingindustrial2\\Anaconda3\\lib\\site-packages\\pywinauto\\application.py:1085: UserWarning: 32-bit application should be automated using 32-bit Python (you use 64-bit Python)\n",
      "  warnings.warn(\n"
     ]
    },
    {
     "name": "stdout",
     "output_type": "stream",
     "text": [
      "Se firmo la orden FAB 98891121\n"
     ]
    },
    {
     "name": "stderr",
     "output_type": "stream",
     "text": [
      "c:\\Users\\prac.ingindustrial2\\Anaconda3\\lib\\site-packages\\pywinauto\\application.py:1085: UserWarning: 32-bit application should be automated using 32-bit Python (you use 64-bit Python)\n",
      "  warnings.warn(\n"
     ]
    },
    {
     "name": "stdout",
     "output_type": "stream",
     "text": [
      "Se firmo la orden FAB 98891121\n"
     ]
    },
    {
     "name": "stderr",
     "output_type": "stream",
     "text": [
      "c:\\Users\\prac.ingindustrial2\\Anaconda3\\lib\\site-packages\\pywinauto\\application.py:1085: UserWarning: 32-bit application should be automated using 32-bit Python (you use 64-bit Python)\n",
      "  warnings.warn(\n"
     ]
    },
    {
     "name": "stdout",
     "output_type": "stream",
     "text": [
      "Se firmo la orden FAB 98891459\n"
     ]
    },
    {
     "name": "stderr",
     "output_type": "stream",
     "text": [
      "c:\\Users\\prac.ingindustrial2\\Anaconda3\\lib\\site-packages\\pywinauto\\application.py:1085: UserWarning: 32-bit application should be automated using 32-bit Python (you use 64-bit Python)\n",
      "  warnings.warn(\n"
     ]
    },
    {
     "name": "stdout",
     "output_type": "stream",
     "text": [
      "Se firmo la orden FAB 98891459\n"
     ]
    },
    {
     "name": "stderr",
     "output_type": "stream",
     "text": [
      "c:\\Users\\prac.ingindustrial2\\Anaconda3\\lib\\site-packages\\pywinauto\\application.py:1085: UserWarning: 32-bit application should be automated using 32-bit Python (you use 64-bit Python)\n",
      "  warnings.warn(\n"
     ]
    },
    {
     "name": "stdout",
     "output_type": "stream",
     "text": [
      "Se firmo la orden FAB 98891524\n"
     ]
    },
    {
     "name": "stderr",
     "output_type": "stream",
     "text": [
      "c:\\Users\\prac.ingindustrial2\\Anaconda3\\lib\\site-packages\\pywinauto\\application.py:1085: UserWarning: 32-bit application should be automated using 32-bit Python (you use 64-bit Python)\n",
      "  warnings.warn(\n",
      "c:\\Users\\prac.ingindustrial2\\Anaconda3\\lib\\site-packages\\pywinauto\\application.py:1085: UserWarning: 32-bit application should be automated using 32-bit Python (you use 64-bit Python)\n",
      "  warnings.warn(\n"
     ]
    },
    {
     "name": "stdout",
     "output_type": "stream",
     "text": [
      "Se firmo la orden FAB 98891525\n"
     ]
    },
    {
     "name": "stderr",
     "output_type": "stream",
     "text": [
      "c:\\Users\\prac.ingindustrial2\\Anaconda3\\lib\\site-packages\\pywinauto\\application.py:1085: UserWarning: 32-bit application should be automated using 32-bit Python (you use 64-bit Python)\n",
      "  warnings.warn(\n"
     ]
    },
    {
     "name": "stdout",
     "output_type": "stream",
     "text": [
      "Se firmo la orden FAB 98891525\n"
     ]
    },
    {
     "name": "stderr",
     "output_type": "stream",
     "text": [
      "c:\\Users\\prac.ingindustrial2\\Anaconda3\\lib\\site-packages\\pywinauto\\application.py:1085: UserWarning: 32-bit application should be automated using 32-bit Python (you use 64-bit Python)\n",
      "  warnings.warn(\n"
     ]
    },
    {
     "name": "stdout",
     "output_type": "stream",
     "text": [
      "Se firmo la orden FAB 41067357\n"
     ]
    },
    {
     "name": "stderr",
     "output_type": "stream",
     "text": [
      "c:\\Users\\prac.ingindustrial2\\Anaconda3\\lib\\site-packages\\pywinauto\\application.py:1085: UserWarning: 32-bit application should be automated using 32-bit Python (you use 64-bit Python)\n",
      "  warnings.warn(\n"
     ]
    },
    {
     "name": "stdout",
     "output_type": "stream",
     "text": [
      "Se firmo la orden FAB 41067357\n"
     ]
    },
    {
     "name": "stderr",
     "output_type": "stream",
     "text": [
      "c:\\Users\\prac.ingindustrial2\\Anaconda3\\lib\\site-packages\\pywinauto\\application.py:1085: UserWarning: 32-bit application should be automated using 32-bit Python (you use 64-bit Python)\n",
      "  warnings.warn(\n"
     ]
    },
    {
     "name": "stdout",
     "output_type": "stream",
     "text": [
      "Se firmo la orden FAB 41067325\n"
     ]
    },
    {
     "name": "stderr",
     "output_type": "stream",
     "text": [
      "c:\\Users\\prac.ingindustrial2\\Anaconda3\\lib\\site-packages\\pywinauto\\application.py:1085: UserWarning: 32-bit application should be automated using 32-bit Python (you use 64-bit Python)\n",
      "  warnings.warn(\n"
     ]
    },
    {
     "name": "stdout",
     "output_type": "stream",
     "text": [
      "Se firmo la orden FAB 41067325\n"
     ]
    },
    {
     "name": "stderr",
     "output_type": "stream",
     "text": [
      "c:\\Users\\prac.ingindustrial2\\Anaconda3\\lib\\site-packages\\pywinauto\\application.py:1085: UserWarning: 32-bit application should be automated using 32-bit Python (you use 64-bit Python)\n",
      "  warnings.warn(\n"
     ]
    },
    {
     "name": "stdout",
     "output_type": "stream",
     "text": [
      "Se firmo la orden FAB 98891579\n"
     ]
    },
    {
     "name": "stderr",
     "output_type": "stream",
     "text": [
      "c:\\Users\\prac.ingindustrial2\\Anaconda3\\lib\\site-packages\\pywinauto\\application.py:1085: UserWarning: 32-bit application should be automated using 32-bit Python (you use 64-bit Python)\n",
      "  warnings.warn(\n"
     ]
    },
    {
     "name": "stdout",
     "output_type": "stream",
     "text": [
      "Se firmo la orden FAB 98891579\n"
     ]
    },
    {
     "name": "stderr",
     "output_type": "stream",
     "text": [
      "c:\\Users\\prac.ingindustrial2\\Anaconda3\\lib\\site-packages\\pywinauto\\application.py:1085: UserWarning: 32-bit application should be automated using 32-bit Python (you use 64-bit Python)\n",
      "  warnings.warn(\n",
      "c:\\Users\\prac.ingindustrial2\\Anaconda3\\lib\\site-packages\\pywinauto\\application.py:1085: UserWarning: 32-bit application should be automated using 32-bit Python (you use 64-bit Python)\n",
      "  warnings.warn(\n",
      "c:\\Users\\prac.ingindustrial2\\Anaconda3\\lib\\site-packages\\pywinauto\\application.py:1085: UserWarning: 32-bit application should be automated using 32-bit Python (you use 64-bit Python)\n",
      "  warnings.warn(\n"
     ]
    },
    {
     "name": "stdout",
     "output_type": "stream",
     "text": [
      "Se firmo la orden FAB 98891654\n"
     ]
    },
    {
     "name": "stderr",
     "output_type": "stream",
     "text": [
      "c:\\Users\\prac.ingindustrial2\\Anaconda3\\lib\\site-packages\\pywinauto\\application.py:1085: UserWarning: 32-bit application should be automated using 32-bit Python (you use 64-bit Python)\n",
      "  warnings.warn(\n"
     ]
    },
    {
     "name": "stdout",
     "output_type": "stream",
     "text": [
      "Se firmo la orden FAB 98891654\n"
     ]
    },
    {
     "name": "stderr",
     "output_type": "stream",
     "text": [
      "c:\\Users\\prac.ingindustrial2\\Anaconda3\\lib\\site-packages\\pywinauto\\application.py:1085: UserWarning: 32-bit application should be automated using 32-bit Python (you use 64-bit Python)\n",
      "  warnings.warn(\n"
     ]
    },
    {
     "name": "stdout",
     "output_type": "stream",
     "text": [
      "Se firmo la orden FAB 98891658\n"
     ]
    },
    {
     "name": "stderr",
     "output_type": "stream",
     "text": [
      "c:\\Users\\prac.ingindustrial2\\Anaconda3\\lib\\site-packages\\pywinauto\\application.py:1085: UserWarning: 32-bit application should be automated using 32-bit Python (you use 64-bit Python)\n",
      "  warnings.warn(\n"
     ]
    },
    {
     "name": "stdout",
     "output_type": "stream",
     "text": [
      "Se firmo la orden FAB 98891658\n"
     ]
    },
    {
     "name": "stderr",
     "output_type": "stream",
     "text": [
      "c:\\Users\\prac.ingindustrial2\\Anaconda3\\lib\\site-packages\\pywinauto\\application.py:1085: UserWarning: 32-bit application should be automated using 32-bit Python (you use 64-bit Python)\n",
      "  warnings.warn(\n"
     ]
    },
    {
     "name": "stdout",
     "output_type": "stream",
     "text": [
      "Se firmo la orden FAB 98891659\n"
     ]
    },
    {
     "name": "stderr",
     "output_type": "stream",
     "text": [
      "c:\\Users\\prac.ingindustrial2\\Anaconda3\\lib\\site-packages\\pywinauto\\application.py:1085: UserWarning: 32-bit application should be automated using 32-bit Python (you use 64-bit Python)\n",
      "  warnings.warn(\n"
     ]
    },
    {
     "name": "stdout",
     "output_type": "stream",
     "text": [
      "Se firmo la orden FAB 98891659\n"
     ]
    }
   ],
   "source": [
    "import SAP_GUI\n",
    "import win32com.client\n",
    "import pandas as pd\n",
    "import subprocess\n",
    "from time import sleep\n",
    "from datetime import datetime\n",
    "from datetime import timedelta\n",
    "from pywinauto import Desktop\n",
    "from pywinauto.application import Application\n",
    "import pyautogui\n",
    "import numpy as np\n",
    " \n",
    "#loading=Search_CO60(session,variant,\"98889984\")\n",
    "\n",
    "Ordenes=[]  #Lista para traer las ordenes como index\n",
    "InfoPES=[]     #Lista Para traer la descripcion PES\n",
    "InfoMAN=[]    #Lista Para traer la descripcion MAN\n",
    "dic={}       #Lista Para traer la descripcion MAN\n",
    "\n",
    "\"\"\"------------------------------------------FUNCION PARA HACER FIRMAS----------------------------------------------\"\"\"\n",
    "def Firmar(session,orden,Area,Info):\n",
    "    # table.selectedRows= j\n",
    "    session.findById(\"wnd[0]/tbar[1]/btn[5]\").press()\n",
    "    session.findById(\"wnd[0]/usr/shellcont/shell\")\n",
    "    width, height = pyautogui.size()\n",
    "    # Calcular las coordenadas del centro de la pantalla\n",
    "    (center_x,center_y) = width // 2 , height // 2\n",
    "    # Mover el puntero del mouse a las coordenadas del centro\n",
    "    pyautogui.moveTo(center_x, center_y)\n",
    "    pyautogui.click()\n",
    "    try:\n",
    "        app = Application().connect(title=\"Process Manufacturing Cockpit VVALENCIAO\")  #Puede cambiar la ventana\n",
    "        dlg = app.top_window()\n",
    "        dlg.child_window(title=\"Control  Container\", class_name=\"Shell Window Class\").click_input()\n",
    "        pyautogui.press('tab')\n",
    "        pyautogui.press('enter')\n",
    "        # Obtener las dimensiones de la pantalla\n",
    "        screen_width, screen_height = pyautogui.size()\n",
    "        # Mover el cursor al centro de la pantalla\n",
    "        pyautogui.moveTo(screen_width/2, screen_height/2)\n",
    "        # Desplazarse hacia abajo utilizando la función scroll\n",
    "        pyautogui.scroll(-30600)\n",
    "        sleep(1)\n",
    "        dlg.child_window(title=\"Control  Container\", class_name=\"Shell Window Class\").click_input()\n",
    "        pyautogui.press('tab')\n",
    "        pyautogui.press('tab')\n",
    "        try:\n",
    "            pyautogui.write(\"VVALENCIAO\")\n",
    "            pyautogui.press('enter')\n",
    "            session.findById(\"wnd[1]/usr/pwdSIGN_POPUP_STRUC-PASSWORD\").text= password\n",
    "            session.findById(\"wnd[1]/tbar[0]/btn[0]\").press()  #Boton Check para cerrar orden \n",
    "            #session.findById(\"wnd[1]/tbar[0]/btn[12]\").press()  #Boton Cancelar\n",
    "            \n",
    "            # Aqui se manda a lista de pesados\n",
    "\n",
    "            Info.append(\"Se firmo \"+Area)   #Colocar Dispensado o Fabricación\n",
    "            session.findById(\"wnd[0]/tbar[0]/btn[15]\").press()\n",
    "            print(\"Se firmo la orden FAB\"+\" \"+str(orden))\n",
    "            return(Info)\n",
    "        except:\n",
    "            # Ordenes.append(orden)                     Coloco la orden por si no se ha firmado\n",
    "            Info.append(\"No se firmo \"+Area)  #Colocar Dispensado o Fabricación\n",
    "            session.findById(\"wnd[0]/tbar[0]/btn[15]\").press()\n",
    "            return(Info)\n",
    "    except:\n",
    "        print(\"No encontro La orden\"+\" \"+str(orden))  \n",
    "        Info.append(\"No encontro orden\")    #Revisar este except se puede omitir \n",
    "\n",
    "\"\"\"------------------------------------------FUNCION PARA BUSCAR EN C060----------------------------------------------\"\"\"\n",
    "\n",
    "#Search_CO60(session,variant,)\n",
    "def Search_CO60(session,variant,orden=None):\n",
    "    try:    \n",
    "        session.StartTransaction(\"CO60\") \n",
    "        session.findById(\"wnd[0]\").maximize()\n",
    "        session.findById(\"wnd[0]/tbar[1]/btn[17]\").press()\n",
    "        variants =session.findById(\"wnd[1]/usr/cntlALV_CONTAINER_1/shellcont/shell\")  #Contenedor de variantes\n",
    "        row=variants.RowCount  #Count total rows\n",
    "        lis=[variants.GetCellValue(i,\"VARIANT\") for i in range(0,row)] \n",
    "        indice=[indice for indice, dato in enumerate(lis) if dato == variant]\n",
    "        variants.selectedRows = indice[0]\n",
    "        session.findById(\"wnd[1]/tbar[0]/btn[2]\").press()\n",
    "        if orden==None:\n",
    "            None\n",
    "        else:\n",
    "            try:\n",
    "                session.findById(\"wnd[0]/usr/ctxtS_AUFNR-LOW\").text = orden\n",
    "                session.findById(\"wnd[0]/tbar[1]/btn[8]\").press()\n",
    "            except:\n",
    "                None\n",
    "        # Comparar las firmas y realizar\n",
    "        comparative=[\"DISPENSADO\",\"FABRICACION\"]\n",
    "        table=session.findById(\"wnd[0]/usr/cntlCONTAINER/shellcont/shell\")\n",
    "        Len=table.RowCount\n",
    "        if Len==2:\n",
    "            Ordenes.append(orden)\n",
    "            try:                             #Firma las 2 filas de la tabla\n",
    "                for j in range(0,Len):\n",
    "                    table.selectedRows= j\n",
    "                    if j==0:\n",
    "                        Firmar(session,orden,comparative[j],InfoPES)\n",
    "                    else:\n",
    "                        Firmar(session,orden,comparative[j],InfoMAN)\n",
    "            except:                          #En caso de error, se firmo primera fila se quito y cambio la longuitud\n",
    "                table.selectedRows= 0\n",
    "                Firmar(session,orden,comparative[1],InfoMAN)\n",
    "        elif Len==1:\n",
    "            Ordenes.append(orden)\n",
    "            column=table.GetCellValue(0,\"ADRES\")\n",
    "            if comparative[0] in column:\n",
    "                Firmar(session,orden,comparative[0],InfoPES)\n",
    "                InfoMAN.append(\"No encontro orden \"+comparative[1])\n",
    "            else:\n",
    "                Firmar(session,orden,comparative[1],InfoMAN)\n",
    "                InfoPES.append(\"No encontro orden \"+comparative[0])\n",
    "        else:\n",
    "            dic[orden]=\"No se encontro orden\"\n",
    "            print(\"No encontro la orden\")\n",
    "    except:\n",
    "        dic[orden]=\"No se encontro orden\"\n",
    "\n",
    "user=\"vvalenciao\"\n",
    "password=\"Abril2023%\"\n",
    "Iniciar=SAP_GUI.SessionSAP(user,password)\n",
    "Iniciar.findById(\"wnd[0]\").resizeWorkingPane(188,25,False)\n",
    "session=Iniciar\n",
    "\n",
    "#Search C060\n",
    "Transsaccion=\"CO60\"\n",
    "variant=\"MNF FABRICACIO\"\n",
    "\n",
    "#Search Cooispi\n",
    "provisionCooispi=\"Z_ZO_KANBAN\"\n",
    "variantCooispi=\"jgiraldoo\"\n",
    "TranssaccionCooispi=\"cooispi\"\n",
    "disposicion=\"/KANBANE50\"\n",
    "\n",
    "\n",
    "dateIni=(datetime.now()-timedelta(days=2)).strftime(\"%d-%m-%Y\").replace(\"-\",\".\")\n",
    "dateFin=(datetime.now()-timedelta(days=0)).strftime(\"%d-%m-%Y\").replace(\"-\",\".\")\n",
    "#dateFin=datetime.now().strftime(\"%d-%m-%Y\").replace(\"-\",\".\")\n",
    "\n",
    "\n",
    "SAP_GUI.Search_COOISPI(TranssaccionCooispi,session,variantCooispi,provisionCooispi,disposicion,dateIni,dateFin)\n",
    "\n",
    "#Export Cooispi\n",
    "Name=\"ManufacturaE50\"\n",
    "SAP_GUI.Export_TXT2(Name,session)\n",
    "\n",
    "#Load Cooispi\n",
    "Ruta=\"C:\\\\Users\\\\prac.ingindustrial2\\\\OneDrive - Prebel S.A\\\\Documentos 1\\\\SAP\\\\SAP GUI\\\\\"+str(Name)+\".txt\"\n",
    "data = pd.read_csv(Ruta, skiprows=1, delimiter='\\t') #Mb52 skip=1\n",
    "\n",
    "#Load Cooispi len=3\n",
    "test=data[\"Orden\"]\n",
    "#Read ordenes\n",
    "for i in test:\n",
    "    Search_CO60(session,variant,i)\n",
    "\n",
    "SAP_GUI.Close_session(session)\n"
   ]
  },
  {
   "cell_type": "code",
   "execution_count": 11,
   "metadata": {},
   "outputs": [
    {
     "data": {
      "text/html": [
       "<div>\n",
       "<style scoped>\n",
       "    .dataframe tbody tr th:only-of-type {\n",
       "        vertical-align: middle;\n",
       "    }\n",
       "\n",
       "    .dataframe tbody tr th {\n",
       "        vertical-align: top;\n",
       "    }\n",
       "\n",
       "    .dataframe thead th {\n",
       "        text-align: right;\n",
       "    }\n",
       "</style>\n",
       "<table border=\"1\" class=\"dataframe\">\n",
       "  <thead>\n",
       "    <tr style=\"text-align: right;\">\n",
       "      <th></th>\n",
       "      <th>DISPENSADO</th>\n",
       "      <th>FABRICACION</th>\n",
       "    </tr>\n",
       "  </thead>\n",
       "  <tbody>\n",
       "    <tr>\n",
       "      <th>89529109</th>\n",
       "      <td>Se firmo DISPENSADO</td>\n",
       "      <td>Se firmo FABRICACION</td>\n",
       "    </tr>\n",
       "    <tr>\n",
       "      <th>89529254</th>\n",
       "      <td>Se firmo DISPENSADO</td>\n",
       "      <td>Se firmo FABRICACION</td>\n",
       "    </tr>\n",
       "    <tr>\n",
       "      <th>89529255</th>\n",
       "      <td>Se firmo DISPENSADO</td>\n",
       "      <td>Se firmo FABRICACION</td>\n",
       "    </tr>\n",
       "    <tr>\n",
       "      <th>41066886</th>\n",
       "      <td>No se firmo DISPENSADO</td>\n",
       "      <td>Se firmo FABRICACION</td>\n",
       "    </tr>\n",
       "    <tr>\n",
       "      <th>41066956</th>\n",
       "      <td>Se firmo DISPENSADO</td>\n",
       "      <td>Se firmo FABRICACION</td>\n",
       "    </tr>\n",
       "    <tr>\n",
       "      <th>...</th>\n",
       "      <td>...</td>\n",
       "      <td>...</td>\n",
       "    </tr>\n",
       "    <tr>\n",
       "      <th>98891579</th>\n",
       "      <td>Se firmo DISPENSADO</td>\n",
       "      <td>Se firmo FABRICACION</td>\n",
       "    </tr>\n",
       "    <tr>\n",
       "      <th>98891647</th>\n",
       "      <td>No se firmo DISPENSADO</td>\n",
       "      <td>No se firmo FABRICACION</td>\n",
       "    </tr>\n",
       "    <tr>\n",
       "      <th>98891654</th>\n",
       "      <td>Se firmo DISPENSADO</td>\n",
       "      <td>Se firmo FABRICACION</td>\n",
       "    </tr>\n",
       "    <tr>\n",
       "      <th>98891658</th>\n",
       "      <td>Se firmo DISPENSADO</td>\n",
       "      <td>Se firmo FABRICACION</td>\n",
       "    </tr>\n",
       "    <tr>\n",
       "      <th>98891659</th>\n",
       "      <td>Se firmo DISPENSADO</td>\n",
       "      <td>Se firmo FABRICACION</td>\n",
       "    </tr>\n",
       "  </tbody>\n",
       "</table>\n",
       "<p>87 rows × 2 columns</p>\n",
       "</div>"
      ],
      "text/plain": [
       "                      DISPENSADO              FABRICACION\n",
       "89529109     Se firmo DISPENSADO     Se firmo FABRICACION\n",
       "89529254     Se firmo DISPENSADO     Se firmo FABRICACION\n",
       "89529255     Se firmo DISPENSADO     Se firmo FABRICACION\n",
       "41066886  No se firmo DISPENSADO     Se firmo FABRICACION\n",
       "41066956     Se firmo DISPENSADO     Se firmo FABRICACION\n",
       "...                          ...                      ...\n",
       "98891579     Se firmo DISPENSADO     Se firmo FABRICACION\n",
       "98891647  No se firmo DISPENSADO  No se firmo FABRICACION\n",
       "98891654     Se firmo DISPENSADO     Se firmo FABRICACION\n",
       "98891658     Se firmo DISPENSADO     Se firmo FABRICACION\n",
       "98891659     Se firmo DISPENSADO     Se firmo FABRICACION\n",
       "\n",
       "[87 rows x 2 columns]"
      ]
     },
     "execution_count": 11,
     "metadata": {},
     "output_type": "execute_result"
    }
   ],
   "source": [
    "#Load Cooispi\n",
    "Ruta=\"C:\\\\Users\\\\prac.ingindustrial2\\\\OneDrive - Prebel S.A\\\\Documentos 1\\\\SAP\\\\SAP GUI\\\\\"+str(Name)+\".txt\"\n",
    "Dat = pd.read_csv(Ruta, skiprows=1, delimiter='\\t') #Mb52 skip=1\n",
    "len(Dat[\"Orden\"])\n",
    "\n",
    "if (len(InfoMAN)==len(InfoPES)) and (len(Ordenes)==len(InfoMAN)):\n",
    "    data=pd.DataFrame(zip(InfoPES[0:len(Ordenes)+1],InfoMAN[0:len(Ordenes)+1]),index=Ordenes[0:len(Ordenes)+1],columns=[\"DISPENSADO\",\"FABRICACION\"])\n",
    "else:\n",
    "    None\n",
    "data\n"
   ]
  },
  {
   "cell_type": "code",
   "execution_count": 12,
   "metadata": {},
   "outputs": [
    {
     "data": {
      "text/html": [
       "<div>\n",
       "<style scoped>\n",
       "    .dataframe tbody tr th:only-of-type {\n",
       "        vertical-align: middle;\n",
       "    }\n",
       "\n",
       "    .dataframe tbody tr th {\n",
       "        vertical-align: top;\n",
       "    }\n",
       "\n",
       "    .dataframe thead th {\n",
       "        text-align: right;\n",
       "    }\n",
       "</style>\n",
       "<table border=\"1\" class=\"dataframe\">\n",
       "  <thead>\n",
       "    <tr style=\"text-align: right;\">\n",
       "      <th></th>\n",
       "    </tr>\n",
       "  </thead>\n",
       "  <tbody>\n",
       "  </tbody>\n",
       "</table>\n",
       "</div>"
      ],
      "text/plain": [
       "Empty DataFrame\n",
       "Columns: []\n",
       "Index: []"
      ]
     },
     "execution_count": 12,
     "metadata": {},
     "output_type": "execute_result"
    }
   ],
   "source": [
    "try:\n",
    "    dataNo=pd.DataFrame(dic.values(),index=dic.keys())\n",
    "except:\n",
    "    dataNo=pd.DataFrame()\n",
    "\n",
    "dataNo\n"
   ]
  },
  {
   "cell_type": "code",
   "execution_count": 13,
   "metadata": {},
   "outputs": [],
   "source": [
    "from datetime import datetime\n",
    "from datetime import timedelta\n",
    "\n",
    "\"\"\"Send email\"\"\"\n",
    "\n",
    "correos=\"prac.ingindustrial2@prebel.com.co;vanessa.valencia@prebel.com.co\"\n",
    "now=datetime.now()\n",
    "def send_emails(*args,emails=\"\",htmlbody=\"\",subject=\"\"):\n",
    "    email=emails\n",
    "    outlook=win32com.client.Dispatch(\"outlook.application\")\n",
    "    mail=outlook.CreateItem(0)\n",
    "    mail.Subject=subject+\" \"+datetime.now().strftime('%#d %b %Y %H:%M')\n",
    "    mail.To=email\n",
    "    mail.HTMLBody=htmlbody.format(*args)\n",
    "    mail.Send()\n",
    "\n",
    "def style_df(df):\n",
    "    return df.style \\\n",
    "        .set_table_styles([{'selector': \"table,tr,th,td\", 'props': [(\"border\", \"1px solid\"), ('color', '#000'),(\"text-align\",\"center\")]}]) \\\n",
    "        .highlight_between(subset=[\"DISPENSADO\"],color='#FF5733',left=\"No se firmo DISPENSADO\",right=\"No se firmo DISPENSADO\") \\\n",
    "        .highlight_between(subset=[\"FABRICACION\"],color='#FF5733',left=\"No se firmo FABRICACION\",right=\"No se firmo FABRICACION\") \\\n",
    "\n",
    "def style_df_stand(df):\n",
    "    return df.style \\\n",
    "        .set_table_styles([{'selector': \"table,tr,th,td\", 'props': [(\"border\", \"1px solid\"), ('color', '#000'),(\"text-align\",\"center\")]}]) \\\n",
    "\n",
    "\n",
    "\n",
    "html=\"\"\"\n",
    "    <h2 style=\"text-align: center\"> REPORTE FIRMAS DISPENSADO y FABRICACIÓN</h2>\n",
    "    <p> Por medio del presente informe se evidencia las firmas tanto de Dispensado y Fabricación que se llevado a cabo en el BATCH RECORD\n",
    "        electronicó.</p>\n",
    "\n",
    "    <h4 style=\"color: red;\" > Advertencia: Las firmas resaltadas en rojo son las que no se han firmado.</h4>\n",
    "    \n",
    "    <div\"> {0} </div>\n",
    "\n",
    "    <h4 style=\"color: black;\" > Nota: A continuación se evidencian las ordenes que no se han encontrado, por lo cual se recomienda revisarlas,\n",
    "        en tal caso no se evidencie la tabla hacer caso omiso a esta nota.</h4>\n",
    "\n",
    "    <div\"> {1} </div>\n",
    "    <p> Anticipo sinceros agradecimientos. </p>\n",
    " \"\"\"\n",
    "\n",
    "Send = style_df(data)  #Style between LI and LS     #Data de firmas\n",
    "Send2 = style_df_stand(dataNo)\n",
    "\n",
    "send_emails(Send.to_html(),Send2.to_html(),emails=correos,htmlbody=html,subject=\"REPORTE FIRMAS DISPENSADO y FABRICACIÓN\")\n"
   ]
  },
  {
   "cell_type": "code",
   "execution_count": 6,
   "metadata": {},
   "outputs": [
    {
     "data": {
      "text/plain": [
       "<COMObject <unknown>>"
      ]
     },
     "execution_count": 6,
     "metadata": {},
     "output_type": "execute_result"
    }
   ],
   "source": [
    "import SAP_GUI\n",
    "import win32com.client\n",
    "import pandas as pd\n",
    "import subprocess\n",
    "from time import sleep\n",
    "from datetime import datetime\n",
    "from datetime import timedelta\n",
    "from pywinauto import Desktop\n",
    "from pywinauto.application import Application\n",
    "import pyautogui\n",
    "import numpy as np\n",
    "\n",
    "\n",
    "\n",
    "\n",
    "user=\"vvalenciao\"\n",
    "password=\"Abril2023%\"\n",
    "Iniciar=SAP_GUI.SessionSAP(user,password)\n",
    "Iniciar.findById(\"wnd[0]\").resizeWorkingPane(188,25,False)\n",
    "session=Iniciar\n",
    "\n",
    "#Search C060\n",
    "Transsaccion=\"CO60\"\n",
    "variant=\"MNF FABRICACIO\"\n",
    "\n",
    "#Search Cooispi\n",
    "provisionCooispi=\"Z_ZO_KANBAN\"\n",
    "variantCooispi=\"jgiraldoo\"\n",
    "TranssaccionCooispi=\"cooispi\"\n",
    "disposicion=\"/KANBANE50\"\n",
    "\n",
    "\n",
    "dateIni=(datetime.now()-timedelta(days=1)).strftime(\"%d-%m-%Y\").replace(\"-\",\".\")\n",
    "dateFin=(datetime.now()-timedelta(days=0)).strftime(\"%d-%m-%Y\").replace(\"-\",\".\")\n",
    "#dateFin=datetime.now().strftime(\"%d-%m-%Y\").replace(\"-\",\".\")\n",
    "\n",
    "\n",
    "SAP_GUI.Search_COOISPI(TranssaccionCooispi,session,variantCooispi,provisionCooispi,disposicion,dateIni,dateFin)"
   ]
  },
  {
   "cell_type": "code",
   "execution_count": 7,
   "metadata": {},
   "outputs": [],
   "source": [
    "#Export Cooispi\n",
    "Name=\"ManufacturaE50\"\n",
    "SAP_GUI.Export_TXT2(Name,session)\n",
    "#Load Cooispi\n",
    "\n"
   ]
  },
  {
   "cell_type": "code",
   "execution_count": 8,
   "metadata": {},
   "outputs": [
    {
     "data": {
      "text/html": [
       "<div>\n",
       "<style scoped>\n",
       "    .dataframe tbody tr th:only-of-type {\n",
       "        vertical-align: middle;\n",
       "    }\n",
       "\n",
       "    .dataframe tbody tr th {\n",
       "        vertical-align: top;\n",
       "    }\n",
       "\n",
       "    .dataframe thead th {\n",
       "        text-align: right;\n",
       "    }\n",
       "</style>\n",
       "<table border=\"1\" class=\"dataframe\">\n",
       "  <thead>\n",
       "    <tr style=\"text-align: right;\">\n",
       "      <th></th>\n",
       "      <th>DISPENSADO</th>\n",
       "      <th>FABRICACION</th>\n",
       "    </tr>\n",
       "  </thead>\n",
       "  <tbody>\n",
       "    <tr>\n",
       "      <th>89529109</th>\n",
       "      <td>Se firmo DISPENSADO</td>\n",
       "      <td>Se firmo FABRICACION</td>\n",
       "    </tr>\n",
       "    <tr>\n",
       "      <th>89529254</th>\n",
       "      <td>Se firmo DISPENSADO</td>\n",
       "      <td>Se firmo FABRICACION</td>\n",
       "    </tr>\n",
       "    <tr>\n",
       "      <th>89529255</th>\n",
       "      <td>Se firmo DISPENSADO</td>\n",
       "      <td>Se firmo FABRICACION</td>\n",
       "    </tr>\n",
       "    <tr>\n",
       "      <th>41066886</th>\n",
       "      <td>No se firmo DISPENSADO</td>\n",
       "      <td>Se firmo FABRICACION</td>\n",
       "    </tr>\n",
       "    <tr>\n",
       "      <th>41066956</th>\n",
       "      <td>Se firmo DISPENSADO</td>\n",
       "      <td>Se firmo FABRICACION</td>\n",
       "    </tr>\n",
       "    <tr>\n",
       "      <th>...</th>\n",
       "      <td>...</td>\n",
       "      <td>...</td>\n",
       "    </tr>\n",
       "    <tr>\n",
       "      <th>98891579</th>\n",
       "      <td>Se firmo DISPENSADO</td>\n",
       "      <td>Se firmo FABRICACION</td>\n",
       "    </tr>\n",
       "    <tr>\n",
       "      <th>98891647</th>\n",
       "      <td>No se firmo DISPENSADO</td>\n",
       "      <td>No se firmo FABRICACION</td>\n",
       "    </tr>\n",
       "    <tr>\n",
       "      <th>98891654</th>\n",
       "      <td>Se firmo DISPENSADO</td>\n",
       "      <td>Se firmo FABRICACION</td>\n",
       "    </tr>\n",
       "    <tr>\n",
       "      <th>98891658</th>\n",
       "      <td>Se firmo DISPENSADO</td>\n",
       "      <td>Se firmo FABRICACION</td>\n",
       "    </tr>\n",
       "    <tr>\n",
       "      <th>98891659</th>\n",
       "      <td>Se firmo DISPENSADO</td>\n",
       "      <td>Se firmo FABRICACION</td>\n",
       "    </tr>\n",
       "  </tbody>\n",
       "</table>\n",
       "<p>87 rows × 2 columns</p>\n",
       "</div>"
      ],
      "text/plain": [
       "                      DISPENSADO              FABRICACION\n",
       "89529109     Se firmo DISPENSADO     Se firmo FABRICACION\n",
       "89529254     Se firmo DISPENSADO     Se firmo FABRICACION\n",
       "89529255     Se firmo DISPENSADO     Se firmo FABRICACION\n",
       "41066886  No se firmo DISPENSADO     Se firmo FABRICACION\n",
       "41066956     Se firmo DISPENSADO     Se firmo FABRICACION\n",
       "...                          ...                      ...\n",
       "98891579     Se firmo DISPENSADO     Se firmo FABRICACION\n",
       "98891647  No se firmo DISPENSADO  No se firmo FABRICACION\n",
       "98891654     Se firmo DISPENSADO     Se firmo FABRICACION\n",
       "98891658     Se firmo DISPENSADO     Se firmo FABRICACION\n",
       "98891659     Se firmo DISPENSADO     Se firmo FABRICACION\n",
       "\n",
       "[87 rows x 2 columns]"
      ]
     },
     "execution_count": 8,
     "metadata": {},
     "output_type": "execute_result"
    }
   ],
   "source": [
    "if (len(InfoMAN)==len(InfoPES)) and (len(Ordenes)==len(InfoMAN)):\n",
    "    data=pd.DataFrame(zip(InfoPES[0:len(Ordenes)+1],InfoMAN[0:len(Ordenes)+1]),index=Ordenes[0:len(Ordenes)+1],columns=[\"DISPENSADO\",\"FABRICACION\"])\n",
    "else:\n",
    "    None\n",
    "data"
   ]
  },
  {
   "cell_type": "code",
   "execution_count": null,
   "metadata": {},
   "outputs": [],
   "source": []
  },
  {
   "cell_type": "code",
   "execution_count": null,
   "metadata": {},
   "outputs": [],
   "source": []
  },
  {
   "cell_type": "code",
   "execution_count": 9,
   "metadata": {},
   "outputs": [],
   "source": [
    "user=\"vvalenciao\"\n",
    "password=\"Abril2023%\"\n",
    "Iniciar=SAP_GUI.SessionSAP(user,password)\n",
    "\n"
   ]
  },
  {
   "cell_type": "code",
   "execution_count": 10,
   "metadata": {},
   "outputs": [],
   "source": [
    "#Search Cooispi\n",
    "provisionCooispi=\"Z_ZO_KANBAN\"\n",
    "variantCooispi=\"jgiraldoo\"\n",
    "TranssaccionCooispi=\"cooispi\"\n",
    "disposicion=\"/KANBANE50\"\n",
    "\n",
    "\n",
    "session=Iniciar\n",
    "SAP_GUI.Search_COOISPI(TranssaccionCooispi,session,variantCooispi,provisionCooispi,disposicion,dateIni,dateFin)\n",
    "\n",
    "#Export Cooispi\n",
    "Name=\"ManufacturaE50\"\n",
    "SAP_GUI.Export_TXT2(Name,session)\n",
    "\n",
    "#Load Cooispi\n",
    "Ruta=\"C:\\\\Users\\\\prac.ingindustrial2\\\\OneDrive - Prebel S.A\\\\Documentos 1\\\\SAP\\\\SAP GUI\\\\\"+str(Name)+\".txt\"\n",
    "data = pd.read_csv(Ruta, skiprows=1, delimiter='\\t') #Mb52 skip=1"
   ]
  }
 ],
 "metadata": {
  "kernelspec": {
   "display_name": "base",
   "language": "python",
   "name": "python3"
  },
  "language_info": {
   "codemirror_mode": {
    "name": "ipython",
    "version": 3
   },
   "file_extension": ".py",
   "mimetype": "text/x-python",
   "name": "python",
   "nbconvert_exporter": "python",
   "pygments_lexer": "ipython3",
   "version": "3.9.13"
  },
  "orig_nbformat": 4
 },
 "nbformat": 4,
 "nbformat_minor": 2
}
